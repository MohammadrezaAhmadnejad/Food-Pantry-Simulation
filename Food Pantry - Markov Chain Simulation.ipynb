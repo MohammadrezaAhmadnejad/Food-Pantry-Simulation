{
 "cells": [
  {
   "cell_type": "code",
   "execution_count": 1,
   "metadata": {
    "id": "kmaBzPoqUs7X",
    "outputId": "3d7b69c6-707b-4fad-faca-f2eef3e05b81"
   },
   "outputs": [],
   "source": [
    "# !pip install matplotlib"
   ]
  },
  {
   "cell_type": "code",
   "execution_count": 2,
   "metadata": {
    "id": "N-Zdnhs2Us7X",
    "outputId": "49f5bc76-b263-45bc-f9ff-3e6e0ab70d53"
   },
   "outputs": [],
   "source": [
    "# !pip install awkward"
   ]
  },
  {
   "cell_type": "code",
   "execution_count": null,
   "metadata": {
    "id": "zJzvcECMUs7Y"
   },
   "outputs": [],
   "source": [
    "import numpy as np\n",
    "import pandas as pd\n",
    "########################################################################\n",
    "########################################################################\n",
    "########################################################################\n",
    "def random_Transition_matrix(m):#, recursive=True\n",
    "    \"\"\"\n",
    "    Generates a random NumPy matrix of size m x m with nonnegative elements.\n",
    "    Args:\n",
    "    m (int): The number of rows, columns in the matrix.\n",
    "    Returns:\n",
    "    numpy.ndarray: A random NumPy matrix of size m x m with nonnegative elements, where sum of element in each row is one.\n",
    "    \"\"\"\n",
    "    matrix = np.random.rand(m, m)\n",
    "    matrix= (matrix/matrix.sum(axis=0)).T\n",
    "  # Convert the random values to integers to ensure nonnegativity\n",
    "#   matrix = matrix.astype(np.float)\n",
    "\n",
    "    return matrix\n",
    "########################################################################\n",
    "########################################################################\n",
    "########################################################################\n",
    "def PantryQueue(ParkingCapacity):\n",
    "    N = 4 # number of food stations\n",
    "    CarArrivalRatePerUnitTime = (65-16)/(3*60) # number of arrivals per iteration\n",
    "    df_cars = pd.DataFrame(data=np.zeros(1), columns=[\"#NotProcessedPeopleInCar\"])\n",
    "    ProcessRate = 10 # max number of people can enter to stations line in each time unit\n",
    "    MaxLength = 10000\n",
    "    # ParkingCapacity = 20\n",
    "    NumberOfCarsInParkingLine = 0\n",
    "    EntranceLine_list = []\n",
    "    ExitLine_list = []\n",
    "    EntranceLineLength_list = [0]\n",
    "    OccupiedParking_list = [0]\n",
    "    ParkingWaitingLineLength_list = [0]\n",
    "    FullyProcessedPeople = np.zeros(N+1)\n",
    "\n",
    "    # data = [[[],]*N]\n",
    "    data =[[[],]*1]\n",
    "\n",
    "\n",
    "\n",
    "\n",
    "    StationsNameList = [(i) for i in range(N)]\n",
    "    df_StationLines = pd.DataFrame(data, index=StationsNameList, columns=[\"CurrentLine\"])\n",
    "    df_StationLines.index.name = \"StationNumber\"\n",
    "\n",
    "    df_StationWaitingTime = pd.DataFrame(data, index=StationsNameList, columns=[\"WaitingTime\"])\n",
    "    df_StationWaitingTime.index.name = \"StationNumber\"\n",
    "\n",
    "    df_StationLineLength = pd.DataFrame(0, index=StationsNameList, columns=[\"LineLength\"])\n",
    "    df_StationLineLength.index.name = \"StationNumber\"\n",
    "\n",
    "    df_StationServers = pd.DataFrame([3, 3, 3, 7], index=StationsNameList, columns=[\"NumberOfServers\"]) #(random_Transition_matrix(N)[0,:]*3).astype(int)+1\n",
    "    df_StationServers.index.name=\"StationNumber\"\n",
    "\n",
    "    df_StationLineLength_History = df_StationLineLength.copy()\n",
    "    df_StationLineLength_History.columns = [\"0\"]\n",
    "\n",
    "    Init_state =  np.ones([N])/N #random_Transition_matrix(N)[0,:]\n",
    "    new_state_prob = Init_state\n",
    "    Transition_matrix = np.ones([N,N])/N # random_Transition_matrix(N)\n",
    "\n",
    "\n",
    "    CarID = 0\n",
    "    for CurrentTime in range(int(3*60)): # 3.5 Studied period of time\n",
    "    ########################################################################\n",
    "    ########        Process How Cars Enter they Parking         ############\n",
    "    ########################################################################\n",
    "\n",
    "        if (CurrentTime<3*60):#3*60*60 # Active hours\n",
    "            if (CurrentTime==0): CurrentCarArrivalRate = 16 # to handle heavy right taled arrival\n",
    "            else: CurrentCarArrivalRate = np.random.poisson(CarArrivalRatePerUnitTime, 1)[0]# number of car arrival rate\n",
    "\n",
    "            NumberOfCarsInParkingLine += CurrentCarArrivalRate\n",
    "            ParkingAvailbaleCapacity = ParkingCapacity-sum(df_cars.loc[:,\"#NotProcessedPeopleInCar\"]>0)\n",
    "\n",
    "            if(ParkingAvailbaleCapacity<=0): # change it to when the parking has free spot\n",
    "                NumberOfNewCarsEnteringTheParking = 0 #int(np.random.rand()*ArrivalRate)\n",
    "\n",
    "            else:\n",
    "                NumberOfNewCarsEnteringTheParking = min(ParkingAvailbaleCapacity, NumberOfCarsInParkingLine)\n",
    "                NumberOfCarsInParkingLine -= NumberOfNewCarsEnteringTheParking\n",
    "\n",
    "\n",
    "\n",
    "            # FullyProcessedPeople[0]=FullyProcessedPeople[0]+(CurrentCarArrivalRate-CurrentFeasibleCarArrivalRate) # it's not actually exactly fully processed,\n",
    "                                                                                                   # but all who left beceause they had no available choice at their last step\n",
    "                                                                                                   # [0] counts number of cars that left due to parking capacity constraints\n",
    "\n",
    "            for NewCar in range(NumberOfNewCarsEnteringTheParking):\n",
    "                NumberOfPeopleInCar= round(np.random.normal(loc=4, scale=1.0, size=None)) #2 np.random.randint(1, 6)\n",
    "                df_cars.loc[CarID,\"#NotProcessedPeopleInCar\"] = NumberOfPeopleInCar\n",
    "                for i in range(NumberOfPeopleInCar):\n",
    "                    NewCarPeople = np.zeros([2,N+1])\n",
    "                    NewCarPeople[1,-1] = CarID\n",
    "                    NewCarPeople[0,-1] = list(np.random.exponential(4, 1))[0]\n",
    "                    NewCarPeople[0,:-1] = list(np.random.exponential(5, 3))+ list(np.random.exponential(10, 1)) #[5*60, 5*60, 5*60, 10*60]  #(random_Transition_matrix(N)[0,:]*100).astype(int)+30 # we randomely generate the amount of time each person spends in each station server\n",
    "                    if (np.random.rand()>0.25): NewCarPeople[0,3]=0 # only %25 of shoppers complete clothing (assume station 0 is for clothing)\n",
    "                    EntranceLine_list = [NewCarPeople] + EntranceLine_list\n",
    "                CarID+=1\n",
    "            # print(NewCarPeople)\n",
    "\n",
    "            # EntranceLine_list=[np.zeros([N])]*CurrentArrivalRate+EntranceLine_list # modify it that some of them will leave ...\n",
    "        else:\n",
    "            EntranceLine_list = EntranceLine_list # modify it that some of them will leave ...\n",
    "            NumberOfCarsInParkingLine = 0\n",
    "\n",
    "    ########################################################################\n",
    "    ########      Process how people enter the startions' lines   ############\n",
    "    ########################################################################\n",
    "        # How many free spots are available in all stations, so we can atmost let that number in\n",
    "        TotalFreeAvailableSpotInStations = MaxLength*N-df_StationLineLength.iloc[:, 0].sum()\n",
    "\n",
    "        if(TotalFreeAvailableSpotInStations>0):\n",
    "            ProcessNowRate = min(ProcessRate, len(EntranceLine_list), TotalFreeAvailableSpotInStations) # number of people enter to the end of sattions' lines\n",
    "            for _ in range(ProcessNowRate):\n",
    "                person_history = EntranceLine_list[-1].copy()\n",
    "                del EntranceLine_list[-1]# remove this person from list of people in the entarnce line\n",
    "\n",
    "                Adjusted_Init_state = np.zeros(N)\n",
    "                FreeStationIndex = list(np.argwhere(df_StationLineLength<MaxLength)[:,0]) # find index of free stations\n",
    "                FullStationIndex = list(np.argwhere(df_StationLineLength>=MaxLength)[:,0]) # find index of full stations\n",
    "                FeasibleStationIndex = list (set(FreeStationIndex).intersection(set(list(np.argwhere(person_history[0,:-1]>0)[:,0]))))\n",
    "                InFeasibleStationIndex = list (set(FullStationIndex).union(set(list(np.argwhere(person_history[0,:-1]<=0)[:,0]))))\n",
    "                if(len(FeasibleStationIndex)>0):\n",
    "                    # EmptyStationIndex = list((df_StationLineLength < 20).values)\n",
    "                    Adjusted_Init_state[FeasibleStationIndex] = (0.001+Init_state[FeasibleStationIndex])/(Init_state[FeasibleStationIndex].sum()+0.001*len(FeasibleStationIndex))\n",
    "                    Adjusted_Init_state[InFeasibleStationIndex] = 0\n",
    "\n",
    "                    station = np.random.choice(StationsNameList, size=1, p=list(Adjusted_Init_state))[0]\n",
    "\n",
    "                    # person_history[0,station]+=1\n",
    "                    df_StationLines.iloc[station, 0] = [person_history] + df_StationLines.iloc[station, 0]\n",
    "                    df_StationLineLength.iloc[station, 0]=len(df_StationLines.iloc[station, 0]) #df_StationLineLength.iloc[station, 0]+1\n",
    "\n",
    "        for station in StationsNameList: df_StationLineLength.iloc[station, 0]=len(df_StationLines.iloc[station, 0])\n",
    "    ########################################################################\n",
    "    ########      Process how they transit and exit stations' lines   ############\n",
    "    ########################################################################\n",
    "        new_state_prob = np.dot(new_state_prob, Transition_matrix)\n",
    "        NonEmptyStationIndex = list(np.argwhere(df_StationLineLength>0)[:,0])\n",
    "        # print(\"777777\", df_StationLineLength, NonEmptyStationIndex)\n",
    "        # print('***', list(df_StationLineLength.iloc[NonEmptyStationIndex].index))\n",
    "\n",
    "        for station in NonEmptyStationIndex: #list(df_StationLineLength.iloc[NonEmptyStationIndex].index):\n",
    "            PeopleInStationLineOutOfServer = (df_StationLineLength.iloc[station, 0]-min(df_StationLineLength.iloc[station, 0], df_StationServers.iloc[station, 0]))\n",
    "            for k in range(PeopleInStationLineOutOfServer):\n",
    "                df_StationLines.iloc[station, 0][k][1,station]+=1 # add how many seconds this person is stating in this sation's line\n",
    "\n",
    "            PeopleInStationServer = min(df_StationLineLength.iloc[station, 0], df_StationServers.iloc[station, 0])\n",
    "            ServedPeople=0\n",
    "            for k in range(PeopleInStationServer):\n",
    "\n",
    "                # print(SationBusyServer, k)\n",
    "\n",
    "                # print(df_StationLines.loc[station, [\"CurrentLine\"]])\n",
    "                df_StationLines.iloc[station, 0][-k+ServedPeople-1][1,station]+=1 # add to see how many seconds this person is stating in this sation's line\n",
    "                df_StationLines.iloc[station, 0][-k+ServedPeople-1][0,station]-=1 # deduct to see how many seconds this person left to be served by this sation's server\n",
    "                if(df_StationLines.iloc[station, 0][-k+ServedPeople-1][0,station]<=0):\n",
    "                    person_history = df_StationLines.iloc[station, 0][-k+ServedPeople-1].copy()\n",
    "                    df_StationWaitingTime.iloc[station, 0]= [person_history[1,station]] + df_StationWaitingTime.iloc[station, 0]\n",
    "                    del df_StationLines.iloc[station, 0][-k+ServedPeople-1]\n",
    "                    ServedPeople +=1\n",
    "                    df_StationLineLength.iloc[station, 0]=len(df_StationLines.iloc[station, 0]) #df_StationLineLength.iloc[station, 0]-1\n",
    "\n",
    "            # Now the firt person in this line person goes to another station if she hasn't been to at laest one\n",
    "                    OpenStationIndex = list (set(list(np.argwhere(df_StationLineLength<MaxLength)[:,0])).intersection(set(list(np.argwhere(person_history[0,:-1]>0)[:,0]))))\n",
    "                    # print(\"888888   \", OpenStationIndex, station)\n",
    "                    if(len(OpenStationIndex)>0): # check if the person has visited all stations\n",
    "                        Current_state_prob = Transition_matrix[station, :].copy() #np.zeros(N) # list(set(x) - set(y))\n",
    "                        # OpenStationIndex = list (set(list(np.argwhere(df_StationLineLength<MaxLength)[:,0])).intersection(set(list(np.argwhere(person_history>0)[:,0]))))\n",
    "                        BlockedStationIndex = list (set(list(np.argwhere(df_StationLineLength>=MaxLength)[:,0])).union(set(list(np.argwhere(person_history[0,:-1]<=0)[:,0]))))\n",
    "                        Current_state_prob[:]=(0.001+Current_state_prob[:])/(np.sum(Current_state_prob[:])+0.001*N)\n",
    "\n",
    "                        Adjusted_current_state_prob=np.zeros(N)\n",
    "                        Adjusted_current_state_prob[OpenStationIndex] = Current_state_prob[OpenStationIndex]/Current_state_prob[OpenStationIndex].sum()\n",
    "                        Adjusted_current_state_prob[BlockedStationIndex]=0\n",
    "                        new_station = np.random.choice(StationsNameList, size=1, p=list(Adjusted_current_state_prob))[0]\n",
    "                        # print(\"\\n **********   \",x,  new_station,(person_history), Adjusted_current_state_prob)\n",
    "                        df_StationLines.iloc[new_station, 0] = [person_history] + df_StationLines.iloc[new_station, 0]\n",
    "                        df_StationLineLength.iloc[new_station, 0] = len(df_StationLines.iloc[new_station, 0]) #df_StationLineLength.iloc[new_station, 0]+1\n",
    "\n",
    "\n",
    "                    else:\n",
    "                        # print(person_history)\n",
    "                        ExitLine_list = [person_history]+ExitLine_list\n",
    "                            `[int(sum(person_history[1,:-1]>0))]=FullyProcessedPeople[int(sum(person_history[1,:-1]>0))]+1 # it's not actually exactly fully processed, but all who left beceause they had no available choice at their last step\n",
    "                        # PersonCarID=person_history[1,-1]\n",
    "\n",
    "    ########################################################################\n",
    "    ########        sumulate waiting time for people to get to the car         ############\n",
    "    ########################################################################\n",
    "\n",
    "        ServedPeople_=0\n",
    "        CurrentExitLine_length=len(ExitLine_list)\n",
    "        for kkk in range(CurrentExitLine_length):\n",
    "            ExitLine_list[ServedPeople_-kkk-1][0,-1]=ExitLine_list[ServedPeople_-kkk-1][0,-1]-1\n",
    "            # print(ExitLine_list[ServedPeople_-kkk-1])\n",
    "            if(ExitLine_list[ServedPeople_-kkk-1][0,-1]<=0):\n",
    "                PersonCarID=ExitLine_list[ServedPeople_-kkk-1][1,-1]\n",
    "                # print(PersonCarID, \"***\", ExitLine_list[ServedPeople_-kkk-1], \"\\n\\n\")\n",
    "                del ExitLine_list[ServedPeople_-kkk-1]\n",
    "                ServedPeople_+=1\n",
    "                df_cars.loc[PersonCarID,\"#NotProcessedPeopleInCar\"] = df_cars.loc[PersonCarID,\"#NotProcessedPeopleInCar\"]-1\n",
    "\n",
    "\n",
    "                # state=np.dot(state,P)\n",
    "                # print(state)\n",
    "                # stateHist=np.append(stateHist,state,axis=0)\n",
    "                # dfDistrHist = pd.DataFrame(stateHist)\n",
    "                # dfDistrHist.plot()\n",
    "                # plt.show()\n",
    "\n",
    "        # print(df_StationLineLength)\n",
    "        df_StationLineLength.columns=[str(CurrentTime+1)]\n",
    "        df_StationLineLength_History=pd.concat([df_StationLineLength_History, df_StationLineLength], axis=1)\n",
    "        EntranceLineLength_list=EntranceLineLength_list+[len(EntranceLine_list)]\n",
    "        OccupiedParking_list=OccupiedParking_list+[sum(df_cars.loc[:,\"#NotProcessedPeopleInCar\"]>0)]\n",
    "        ParkingWaitingLineLength_list=ParkingWaitingLineLength_list + [NumberOfCarsInParkingLine]\n",
    "\n",
    "\n",
    "\n",
    "    df_StationLineLength_History.loc[\"EntranceLine\"]=EntranceLineLength_list\n",
    "    df_StationLineLength_History.loc[\"OccupiedParking\"] =OccupiedParking_list\n",
    "    df_StationLineLength_History.loc[\"ParkingWaitingLine\"] =ParkingWaitingLineLength_list\n",
    "\n",
    "    # df_StationLineLength_History.iloc[:,:].T.plot(figsize=(10, 5))\n",
    "    # print(FullyProcessedPeople)\n",
    "    return df_StationLineLength_History, df_StationWaitingTime, FullyProcessedPeople\n",
    "\n",
    "a, b, c=PantryQueue(10)\n"
   ]
  },
  {
   "cell_type": "code",
   "execution_count": null,
   "metadata": {
    "id": "1-O8Y0QzUs7Z",
    "outputId": "11727921-5a5f-4c55-e54d-99cc29a25d66"
   },
   "outputs": [
    {
     "data": {
      "text/plain": [
       "array([ 0.,  0.,  0., 65., 18.])"
      ]
     },
     "execution_count": 82,
     "metadata": {},
     "output_type": "execute_result"
    }
   ],
   "source": [
    "c"
   ]
  },
  {
   "cell_type": "code",
   "execution_count": null,
   "metadata": {
    "colab": {
     "base_uri": "https://localhost:8080/",
     "height": 159
    },
    "executionInfo": {
     "elapsed": 181,
     "status": "error",
     "timestamp": 1727723283767,
     "user": {
      "displayName": "Qingyuan Chen",
      "userId": "18438804026773423551"
     },
     "user_tz": 240
    },
    "id": "zOcKWyMhUs7Z",
    "outputId": "162438ce-f5a7-4ebb-d5c1-76ce477fc283",
    "scrolled": true
   },
   "outputs": [
    {
     "ename": "NameError",
     "evalue": "name 'waitingtimeDF' is not defined",
     "output_type": "error",
     "traceback": [
      "\u001b[0;31m---------------------------------------------------------------------------\u001b[0m",
      "\u001b[0;31mNameError\u001b[0m                                 Traceback (most recent call last)",
      "\u001b[0;32m<ipython-input-2-82df0bd0eaf5>\u001b[0m in \u001b[0;36m<cell line: 1>\u001b[0;34m()\u001b[0m\n\u001b[0;32m----> 1\u001b[0;31m \u001b[0mnp\u001b[0m\u001b[0;34m.\u001b[0m\u001b[0mmean\u001b[0m\u001b[0;34m(\u001b[0m\u001b[0mwaitingtimeDF\u001b[0m\u001b[0;34m.\u001b[0m\u001b[0mloc\u001b[0m\u001b[0;34m[\u001b[0m\u001b[0;36m0\u001b[0m\u001b[0;34m]\u001b[0m\u001b[0;34m[\u001b[0m\u001b[0;36m0\u001b[0m\u001b[0;34m]\u001b[0m\u001b[0;34m+\u001b[0m\u001b[0mwaitingtimeDF\u001b[0m\u001b[0;34m.\u001b[0m\u001b[0mloc\u001b[0m\u001b[0;34m[\u001b[0m\u001b[0;36m1\u001b[0m\u001b[0;34m]\u001b[0m\u001b[0;34m[\u001b[0m\u001b[0;36m0\u001b[0m\u001b[0;34m]\u001b[0m\u001b[0;34m+\u001b[0m\u001b[0mwaitingtimeDF\u001b[0m\u001b[0;34m.\u001b[0m\u001b[0mloc\u001b[0m\u001b[0;34m[\u001b[0m\u001b[0;36m2\u001b[0m\u001b[0;34m]\u001b[0m\u001b[0;34m[\u001b[0m\u001b[0;36m0\u001b[0m\u001b[0;34m]\u001b[0m\u001b[0;34m+\u001b[0m\u001b[0mwaitingtimeDF\u001b[0m\u001b[0;34m.\u001b[0m\u001b[0mloc\u001b[0m\u001b[0;34m[\u001b[0m\u001b[0;36m3\u001b[0m\u001b[0;34m]\u001b[0m\u001b[0;34m[\u001b[0m\u001b[0;36m0\u001b[0m\u001b[0;34m]\u001b[0m\u001b[0;34m)\u001b[0m\u001b[0;34m\u001b[0m\u001b[0;34m\u001b[0m\u001b[0m\n\u001b[0m\u001b[1;32m      2\u001b[0m \u001b[0mwaitingtimeDF\u001b[0m\u001b[0;34m\u001b[0m\u001b[0;34m\u001b[0m\u001b[0m\n",
      "\u001b[0;31mNameError\u001b[0m: name 'waitingtimeDF' is not defined"
     ]
    }
   ],
   "source": [
    "np.mean(waitingtimeDF.loc[0][0]+waitingtimeDF.loc[1][0]+waitingtimeDF.loc[2][0]+waitingtimeDF.loc[3][0])\n",
    "waitingtimeDF"
   ]
  },
  {
   "cell_type": "code",
   "execution_count": null,
   "metadata": {
    "id": "98lXfk9BUs7Z"
   },
   "outputs": [],
   "source": []
  },
  {
   "cell_type": "code",
   "execution_count": null,
   "metadata": {
    "id": "I1tqyEZ7Us7a",
    "outputId": "7b92774e-be84-4f33-8ad3-9edbc78f988c"
   },
   "outputs": [
    {
     "name": "stderr",
     "output_type": "stream",
     "text": [
      "C:\\Users\\mohammadreze\\AppData\\Local\\Temp\\ipykernel_4356\\3853490108.py:15: FutureWarning: Series.__getitem__ treating keys as positions is deprecated. In a future version, integer keys will always be treated as labels (consistent with DataFrame behavior). To access a value by position, use `ser.iloc[pos]`\n",
      "  df_InStoreWaitingTime_i.loc[j]=[np.mean(df_StationWaitingTime.loc[0][0]),np.mean(df_StationWaitingTime.loc[1][0]),np.mean(df_StationWaitingTime.loc[2][0]),np.mean(df_StationWaitingTime.loc[3][0])]\n",
      "C:\\Users\\mohammadreze\\AppData\\Local\\Temp\\ipykernel_4356\\3853490108.py:15: FutureWarning: Series.__getitem__ treating keys as positions is deprecated. In a future version, integer keys will always be treated as labels (consistent with DataFrame behavior). To access a value by position, use `ser.iloc[pos]`\n",
      "  df_InStoreWaitingTime_i.loc[j]=[np.mean(df_StationWaitingTime.loc[0][0]),np.mean(df_StationWaitingTime.loc[1][0]),np.mean(df_StationWaitingTime.loc[2][0]),np.mean(df_StationWaitingTime.loc[3][0])]\n",
      "C:\\Users\\mohammadreze\\AppData\\Local\\Temp\\ipykernel_4356\\3853490108.py:15: FutureWarning: Series.__getitem__ treating keys as positions is deprecated. In a future version, integer keys will always be treated as labels (consistent with DataFrame behavior). To access a value by position, use `ser.iloc[pos]`\n",
      "  df_InStoreWaitingTime_i.loc[j]=[np.mean(df_StationWaitingTime.loc[0][0]),np.mean(df_StationWaitingTime.loc[1][0]),np.mean(df_StationWaitingTime.loc[2][0]),np.mean(df_StationWaitingTime.loc[3][0])]\n",
      "C:\\Users\\mohammadreze\\AppData\\Local\\Temp\\ipykernel_4356\\3853490108.py:15: FutureWarning: Series.__getitem__ treating keys as positions is deprecated. In a future version, integer keys will always be treated as labels (consistent with DataFrame behavior). To access a value by position, use `ser.iloc[pos]`\n",
      "  df_InStoreWaitingTime_i.loc[j]=[np.mean(df_StationWaitingTime.loc[0][0]),np.mean(df_StationWaitingTime.loc[1][0]),np.mean(df_StationWaitingTime.loc[2][0]),np.mean(df_StationWaitingTime.loc[3][0])]\n",
      "C:\\Users\\mohammadreze\\AppData\\Local\\Temp\\ipykernel_4356\\3853490108.py:15: FutureWarning: Series.__getitem__ treating keys as positions is deprecated. In a future version, integer keys will always be treated as labels (consistent with DataFrame behavior). To access a value by position, use `ser.iloc[pos]`\n",
      "  df_InStoreWaitingTime_i.loc[j]=[np.mean(df_StationWaitingTime.loc[0][0]),np.mean(df_StationWaitingTime.loc[1][0]),np.mean(df_StationWaitingTime.loc[2][0]),np.mean(df_StationWaitingTime.loc[3][0])]\n",
      "C:\\Users\\mohammadreze\\AppData\\Local\\Temp\\ipykernel_4356\\3853490108.py:15: FutureWarning: Series.__getitem__ treating keys as positions is deprecated. In a future version, integer keys will always be treated as labels (consistent with DataFrame behavior). To access a value by position, use `ser.iloc[pos]`\n",
      "  df_InStoreWaitingTime_i.loc[j]=[np.mean(df_StationWaitingTime.loc[0][0]),np.mean(df_StationWaitingTime.loc[1][0]),np.mean(df_StationWaitingTime.loc[2][0]),np.mean(df_StationWaitingTime.loc[3][0])]\n",
      "C:\\Users\\mohammadreze\\AppData\\Local\\Temp\\ipykernel_4356\\3853490108.py:15: FutureWarning: Series.__getitem__ treating keys as positions is deprecated. In a future version, integer keys will always be treated as labels (consistent with DataFrame behavior). To access a value by position, use `ser.iloc[pos]`\n",
      "  df_InStoreWaitingTime_i.loc[j]=[np.mean(df_StationWaitingTime.loc[0][0]),np.mean(df_StationWaitingTime.loc[1][0]),np.mean(df_StationWaitingTime.loc[2][0]),np.mean(df_StationWaitingTime.loc[3][0])]\n",
      "C:\\Users\\mohammadreze\\AppData\\Local\\Temp\\ipykernel_4356\\3853490108.py:15: FutureWarning: Series.__getitem__ treating keys as positions is deprecated. In a future version, integer keys will always be treated as labels (consistent with DataFrame behavior). To access a value by position, use `ser.iloc[pos]`\n",
      "  df_InStoreWaitingTime_i.loc[j]=[np.mean(df_StationWaitingTime.loc[0][0]),np.mean(df_StationWaitingTime.loc[1][0]),np.mean(df_StationWaitingTime.loc[2][0]),np.mean(df_StationWaitingTime.loc[3][0])]\n",
      "C:\\Users\\mohammadreze\\AppData\\Local\\Temp\\ipykernel_4356\\3853490108.py:15: FutureWarning: Series.__getitem__ treating keys as positions is deprecated. In a future version, integer keys will always be treated as labels (consistent with DataFrame behavior). To access a value by position, use `ser.iloc[pos]`\n",
      "  df_InStoreWaitingTime_i.loc[j]=[np.mean(df_StationWaitingTime.loc[0][0]),np.mean(df_StationWaitingTime.loc[1][0]),np.mean(df_StationWaitingTime.loc[2][0]),np.mean(df_StationWaitingTime.loc[3][0])]\n",
      "C:\\Users\\mohammadreze\\AppData\\Local\\Temp\\ipykernel_4356\\3853490108.py:15: FutureWarning: Series.__getitem__ treating keys as positions is deprecated. In a future version, integer keys will always be treated as labels (consistent with DataFrame behavior). To access a value by position, use `ser.iloc[pos]`\n",
      "  df_InStoreWaitingTime_i.loc[j]=[np.mean(df_StationWaitingTime.loc[0][0]),np.mean(df_StationWaitingTime.loc[1][0]),np.mean(df_StationWaitingTime.loc[2][0]),np.mean(df_StationWaitingTime.loc[3][0])]\n",
      "C:\\Users\\mohammadreze\\AppData\\Local\\Temp\\ipykernel_4356\\3853490108.py:15: FutureWarning: Series.__getitem__ treating keys as positions is deprecated. In a future version, integer keys will always be treated as labels (consistent with DataFrame behavior). To access a value by position, use `ser.iloc[pos]`\n",
      "  df_InStoreWaitingTime_i.loc[j]=[np.mean(df_StationWaitingTime.loc[0][0]),np.mean(df_StationWaitingTime.loc[1][0]),np.mean(df_StationWaitingTime.loc[2][0]),np.mean(df_StationWaitingTime.loc[3][0])]\n",
      "C:\\Users\\mohammadreze\\AppData\\Local\\Temp\\ipykernel_4356\\3853490108.py:15: FutureWarning: Series.__getitem__ treating keys as positions is deprecated. In a future version, integer keys will always be treated as labels (consistent with DataFrame behavior). To access a value by position, use `ser.iloc[pos]`\n",
      "  df_InStoreWaitingTime_i.loc[j]=[np.mean(df_StationWaitingTime.loc[0][0]),np.mean(df_StationWaitingTime.loc[1][0]),np.mean(df_StationWaitingTime.loc[2][0]),np.mean(df_StationWaitingTime.loc[3][0])]\n",
      "C:\\Users\\mohammadreze\\AppData\\Local\\Temp\\ipykernel_4356\\3853490108.py:15: FutureWarning: Series.__getitem__ treating keys as positions is deprecated. In a future version, integer keys will always be treated as labels (consistent with DataFrame behavior). To access a value by position, use `ser.iloc[pos]`\n",
      "  df_InStoreWaitingTime_i.loc[j]=[np.mean(df_StationWaitingTime.loc[0][0]),np.mean(df_StationWaitingTime.loc[1][0]),np.mean(df_StationWaitingTime.loc[2][0]),np.mean(df_StationWaitingTime.loc[3][0])]\n",
      "C:\\Users\\mohammadreze\\AppData\\Local\\Temp\\ipykernel_4356\\3853490108.py:15: FutureWarning: Series.__getitem__ treating keys as positions is deprecated. In a future version, integer keys will always be treated as labels (consistent with DataFrame behavior). To access a value by position, use `ser.iloc[pos]`\n",
      "  df_InStoreWaitingTime_i.loc[j]=[np.mean(df_StationWaitingTime.loc[0][0]),np.mean(df_StationWaitingTime.loc[1][0]),np.mean(df_StationWaitingTime.loc[2][0]),np.mean(df_StationWaitingTime.loc[3][0])]\n",
      "C:\\Users\\mohammadreze\\AppData\\Local\\Temp\\ipykernel_4356\\3853490108.py:15: FutureWarning: Series.__getitem__ treating keys as positions is deprecated. In a future version, integer keys will always be treated as labels (consistent with DataFrame behavior). To access a value by position, use `ser.iloc[pos]`\n",
      "  df_InStoreWaitingTime_i.loc[j]=[np.mean(df_StationWaitingTime.loc[0][0]),np.mean(df_StationWaitingTime.loc[1][0]),np.mean(df_StationWaitingTime.loc[2][0]),np.mean(df_StationWaitingTime.loc[3][0])]\n",
      "C:\\Users\\mohammadreze\\AppData\\Local\\Temp\\ipykernel_4356\\3853490108.py:15: FutureWarning: Series.__getitem__ treating keys as positions is deprecated. In a future version, integer keys will always be treated as labels (consistent with DataFrame behavior). To access a value by position, use `ser.iloc[pos]`\n",
      "  df_InStoreWaitingTime_i.loc[j]=[np.mean(df_StationWaitingTime.loc[0][0]),np.mean(df_StationWaitingTime.loc[1][0]),np.mean(df_StationWaitingTime.loc[2][0]),np.mean(df_StationWaitingTime.loc[3][0])]\n",
      "C:\\Users\\mohammadreze\\AppData\\Local\\Temp\\ipykernel_4356\\3853490108.py:15: FutureWarning: Series.__getitem__ treating keys as positions is deprecated. In a future version, integer keys will always be treated as labels (consistent with DataFrame behavior). To access a value by position, use `ser.iloc[pos]`\n",
      "  df_InStoreWaitingTime_i.loc[j]=[np.mean(df_StationWaitingTime.loc[0][0]),np.mean(df_StationWaitingTime.loc[1][0]),np.mean(df_StationWaitingTime.loc[2][0]),np.mean(df_StationWaitingTime.loc[3][0])]\n",
      "C:\\Users\\mohammadreze\\AppData\\Local\\Temp\\ipykernel_4356\\3853490108.py:15: FutureWarning: Series.__getitem__ treating keys as positions is deprecated. In a future version, integer keys will always be treated as labels (consistent with DataFrame behavior). To access a value by position, use `ser.iloc[pos]`\n",
      "  df_InStoreWaitingTime_i.loc[j]=[np.mean(df_StationWaitingTime.loc[0][0]),np.mean(df_StationWaitingTime.loc[1][0]),np.mean(df_StationWaitingTime.loc[2][0]),np.mean(df_StationWaitingTime.loc[3][0])]\n",
      "C:\\Users\\mohammadreze\\AppData\\Local\\Temp\\ipykernel_4356\\3853490108.py:15: FutureWarning: Series.__getitem__ treating keys as positions is deprecated. In a future version, integer keys will always be treated as labels (consistent with DataFrame behavior). To access a value by position, use `ser.iloc[pos]`\n",
      "  df_InStoreWaitingTime_i.loc[j]=[np.mean(df_StationWaitingTime.loc[0][0]),np.mean(df_StationWaitingTime.loc[1][0]),np.mean(df_StationWaitingTime.loc[2][0]),np.mean(df_StationWaitingTime.loc[3][0])]\n",
      "C:\\Users\\mohammadreze\\AppData\\Local\\Temp\\ipykernel_4356\\3853490108.py:15: FutureWarning: Series.__getitem__ treating keys as positions is deprecated. In a future version, integer keys will always be treated as labels (consistent with DataFrame behavior). To access a value by position, use `ser.iloc[pos]`\n",
      "  df_InStoreWaitingTime_i.loc[j]=[np.mean(df_StationWaitingTime.loc[0][0]),np.mean(df_StationWaitingTime.loc[1][0]),np.mean(df_StationWaitingTime.loc[2][0]),np.mean(df_StationWaitingTime.loc[3][0])]\n",
      "C:\\Users\\mohammadreze\\AppData\\Local\\Temp\\ipykernel_4356\\3853490108.py:15: FutureWarning: Series.__getitem__ treating keys as positions is deprecated. In a future version, integer keys will always be treated as labels (consistent with DataFrame behavior). To access a value by position, use `ser.iloc[pos]`\n",
      "  df_InStoreWaitingTime_i.loc[j]=[np.mean(df_StationWaitingTime.loc[0][0]),np.mean(df_StationWaitingTime.loc[1][0]),np.mean(df_StationWaitingTime.loc[2][0]),np.mean(df_StationWaitingTime.loc[3][0])]\n",
      "C:\\Users\\mohammadreze\\AppData\\Local\\Temp\\ipykernel_4356\\3853490108.py:15: FutureWarning: Series.__getitem__ treating keys as positions is deprecated. In a future version, integer keys will always be treated as labels (consistent with DataFrame behavior). To access a value by position, use `ser.iloc[pos]`\n",
      "  df_InStoreWaitingTime_i.loc[j]=[np.mean(df_StationWaitingTime.loc[0][0]),np.mean(df_StationWaitingTime.loc[1][0]),np.mean(df_StationWaitingTime.loc[2][0]),np.mean(df_StationWaitingTime.loc[3][0])]\n",
      "C:\\Users\\mohammadreze\\AppData\\Local\\Temp\\ipykernel_4356\\3853490108.py:15: FutureWarning: Series.__getitem__ treating keys as positions is deprecated. In a future version, integer keys will always be treated as labels (consistent with DataFrame behavior). To access a value by position, use `ser.iloc[pos]`\n",
      "  df_InStoreWaitingTime_i.loc[j]=[np.mean(df_StationWaitingTime.loc[0][0]),np.mean(df_StationWaitingTime.loc[1][0]),np.mean(df_StationWaitingTime.loc[2][0]),np.mean(df_StationWaitingTime.loc[3][0])]\n",
      "C:\\Users\\mohammadreze\\AppData\\Local\\Temp\\ipykernel_4356\\3853490108.py:15: FutureWarning: Series.__getitem__ treating keys as positions is deprecated. In a future version, integer keys will always be treated as labels (consistent with DataFrame behavior). To access a value by position, use `ser.iloc[pos]`\n",
      "  df_InStoreWaitingTime_i.loc[j]=[np.mean(df_StationWaitingTime.loc[0][0]),np.mean(df_StationWaitingTime.loc[1][0]),np.mean(df_StationWaitingTime.loc[2][0]),np.mean(df_StationWaitingTime.loc[3][0])]\n",
      "C:\\Users\\mohammadreze\\AppData\\Local\\Temp\\ipykernel_4356\\3853490108.py:15: FutureWarning: Series.__getitem__ treating keys as positions is deprecated. In a future version, integer keys will always be treated as labels (consistent with DataFrame behavior). To access a value by position, use `ser.iloc[pos]`\n",
      "  df_InStoreWaitingTime_i.loc[j]=[np.mean(df_StationWaitingTime.loc[0][0]),np.mean(df_StationWaitingTime.loc[1][0]),np.mean(df_StationWaitingTime.loc[2][0]),np.mean(df_StationWaitingTime.loc[3][0])]\n",
      "C:\\Users\\mohammadreze\\AppData\\Local\\Temp\\ipykernel_4356\\3853490108.py:15: FutureWarning: Series.__getitem__ treating keys as positions is deprecated. In a future version, integer keys will always be treated as labels (consistent with DataFrame behavior). To access a value by position, use `ser.iloc[pos]`\n",
      "  df_InStoreWaitingTime_i.loc[j]=[np.mean(df_StationWaitingTime.loc[0][0]),np.mean(df_StationWaitingTime.loc[1][0]),np.mean(df_StationWaitingTime.loc[2][0]),np.mean(df_StationWaitingTime.loc[3][0])]\n",
      "C:\\Users\\mohammadreze\\AppData\\Local\\Temp\\ipykernel_4356\\3853490108.py:15: FutureWarning: Series.__getitem__ treating keys as positions is deprecated. In a future version, integer keys will always be treated as labels (consistent with DataFrame behavior). To access a value by position, use `ser.iloc[pos]`\n",
      "  df_InStoreWaitingTime_i.loc[j]=[np.mean(df_StationWaitingTime.loc[0][0]),np.mean(df_StationWaitingTime.loc[1][0]),np.mean(df_StationWaitingTime.loc[2][0]),np.mean(df_StationWaitingTime.loc[3][0])]\n",
      "C:\\Users\\mohammadreze\\AppData\\Local\\Temp\\ipykernel_4356\\3853490108.py:15: FutureWarning: Series.__getitem__ treating keys as positions is deprecated. In a future version, integer keys will always be treated as labels (consistent with DataFrame behavior). To access a value by position, use `ser.iloc[pos]`\n",
      "  df_InStoreWaitingTime_i.loc[j]=[np.mean(df_StationWaitingTime.loc[0][0]),np.mean(df_StationWaitingTime.loc[1][0]),np.mean(df_StationWaitingTime.loc[2][0]),np.mean(df_StationWaitingTime.loc[3][0])]\n",
      "C:\\Users\\mohammadreze\\AppData\\Local\\Temp\\ipykernel_4356\\3853490108.py:15: FutureWarning: Series.__getitem__ treating keys as positions is deprecated. In a future version, integer keys will always be treated as labels (consistent with DataFrame behavior). To access a value by position, use `ser.iloc[pos]`\n",
      "  df_InStoreWaitingTime_i.loc[j]=[np.mean(df_StationWaitingTime.loc[0][0]),np.mean(df_StationWaitingTime.loc[1][0]),np.mean(df_StationWaitingTime.loc[2][0]),np.mean(df_StationWaitingTime.loc[3][0])]\n",
      "C:\\Users\\mohammadreze\\AppData\\Local\\Temp\\ipykernel_4356\\3853490108.py:15: FutureWarning: Series.__getitem__ treating keys as positions is deprecated. In a future version, integer keys will always be treated as labels (consistent with DataFrame behavior). To access a value by position, use `ser.iloc[pos]`\n",
      "  df_InStoreWaitingTime_i.loc[j]=[np.mean(df_StationWaitingTime.loc[0][0]),np.mean(df_StationWaitingTime.loc[1][0]),np.mean(df_StationWaitingTime.loc[2][0]),np.mean(df_StationWaitingTime.loc[3][0])]\n",
      "C:\\Users\\mohammadreze\\AppData\\Local\\Temp\\ipykernel_4356\\3853490108.py:15: FutureWarning: Series.__getitem__ treating keys as positions is deprecated. In a future version, integer keys will always be treated as labels (consistent with DataFrame behavior). To access a value by position, use `ser.iloc[pos]`\n",
      "  df_InStoreWaitingTime_i.loc[j]=[np.mean(df_StationWaitingTime.loc[0][0]),np.mean(df_StationWaitingTime.loc[1][0]),np.mean(df_StationWaitingTime.loc[2][0]),np.mean(df_StationWaitingTime.loc[3][0])]\n",
      "C:\\Users\\mohammadreze\\AppData\\Local\\Temp\\ipykernel_4356\\3853490108.py:15: FutureWarning: Series.__getitem__ treating keys as positions is deprecated. In a future version, integer keys will always be treated as labels (consistent with DataFrame behavior). To access a value by position, use `ser.iloc[pos]`\n",
      "  df_InStoreWaitingTime_i.loc[j]=[np.mean(df_StationWaitingTime.loc[0][0]),np.mean(df_StationWaitingTime.loc[1][0]),np.mean(df_StationWaitingTime.loc[2][0]),np.mean(df_StationWaitingTime.loc[3][0])]\n",
      "C:\\Users\\mohammadreze\\AppData\\Local\\Temp\\ipykernel_4356\\3853490108.py:15: FutureWarning: Series.__getitem__ treating keys as positions is deprecated. In a future version, integer keys will always be treated as labels (consistent with DataFrame behavior). To access a value by position, use `ser.iloc[pos]`\n",
      "  df_InStoreWaitingTime_i.loc[j]=[np.mean(df_StationWaitingTime.loc[0][0]),np.mean(df_StationWaitingTime.loc[1][0]),np.mean(df_StationWaitingTime.loc[2][0]),np.mean(df_StationWaitingTime.loc[3][0])]\n",
      "C:\\Users\\mohammadreze\\AppData\\Local\\Temp\\ipykernel_4356\\3853490108.py:15: FutureWarning: Series.__getitem__ treating keys as positions is deprecated. In a future version, integer keys will always be treated as labels (consistent with DataFrame behavior). To access a value by position, use `ser.iloc[pos]`\n",
      "  df_InStoreWaitingTime_i.loc[j]=[np.mean(df_StationWaitingTime.loc[0][0]),np.mean(df_StationWaitingTime.loc[1][0]),np.mean(df_StationWaitingTime.loc[2][0]),np.mean(df_StationWaitingTime.loc[3][0])]\n",
      "C:\\Users\\mohammadreze\\AppData\\Local\\Temp\\ipykernel_4356\\3853490108.py:15: FutureWarning: Series.__getitem__ treating keys as positions is deprecated. In a future version, integer keys will always be treated as labels (consistent with DataFrame behavior). To access a value by position, use `ser.iloc[pos]`\n",
      "  df_InStoreWaitingTime_i.loc[j]=[np.mean(df_StationWaitingTime.loc[0][0]),np.mean(df_StationWaitingTime.loc[1][0]),np.mean(df_StationWaitingTime.loc[2][0]),np.mean(df_StationWaitingTime.loc[3][0])]\n",
      "C:\\Users\\mohammadreze\\AppData\\Local\\Temp\\ipykernel_4356\\3853490108.py:15: FutureWarning: Series.__getitem__ treating keys as positions is deprecated. In a future version, integer keys will always be treated as labels (consistent with DataFrame behavior). To access a value by position, use `ser.iloc[pos]`\n",
      "  df_InStoreWaitingTime_i.loc[j]=[np.mean(df_StationWaitingTime.loc[0][0]),np.mean(df_StationWaitingTime.loc[1][0]),np.mean(df_StationWaitingTime.loc[2][0]),np.mean(df_StationWaitingTime.loc[3][0])]\n",
      "C:\\Users\\mohammadreze\\AppData\\Local\\Temp\\ipykernel_4356\\3853490108.py:15: FutureWarning: Series.__getitem__ treating keys as positions is deprecated. In a future version, integer keys will always be treated as labels (consistent with DataFrame behavior). To access a value by position, use `ser.iloc[pos]`\n",
      "  df_InStoreWaitingTime_i.loc[j]=[np.mean(df_StationWaitingTime.loc[0][0]),np.mean(df_StationWaitingTime.loc[1][0]),np.mean(df_StationWaitingTime.loc[2][0]),np.mean(df_StationWaitingTime.loc[3][0])]\n",
      "C:\\Users\\mohammadreze\\AppData\\Local\\Temp\\ipykernel_4356\\3853490108.py:15: FutureWarning: Series.__getitem__ treating keys as positions is deprecated. In a future version, integer keys will always be treated as labels (consistent with DataFrame behavior). To access a value by position, use `ser.iloc[pos]`\n",
      "  df_InStoreWaitingTime_i.loc[j]=[np.mean(df_StationWaitingTime.loc[0][0]),np.mean(df_StationWaitingTime.loc[1][0]),np.mean(df_StationWaitingTime.loc[2][0]),np.mean(df_StationWaitingTime.loc[3][0])]\n",
      "C:\\Users\\mohammadreze\\AppData\\Local\\Temp\\ipykernel_4356\\3853490108.py:15: FutureWarning: Series.__getitem__ treating keys as positions is deprecated. In a future version, integer keys will always be treated as labels (consistent with DataFrame behavior). To access a value by position, use `ser.iloc[pos]`\n",
      "  df_InStoreWaitingTime_i.loc[j]=[np.mean(df_StationWaitingTime.loc[0][0]),np.mean(df_StationWaitingTime.loc[1][0]),np.mean(df_StationWaitingTime.loc[2][0]),np.mean(df_StationWaitingTime.loc[3][0])]\n",
      "C:\\Users\\mohammadreze\\AppData\\Local\\Temp\\ipykernel_4356\\3853490108.py:15: FutureWarning: Series.__getitem__ treating keys as positions is deprecated. In a future version, integer keys will always be treated as labels (consistent with DataFrame behavior). To access a value by position, use `ser.iloc[pos]`\n",
      "  df_InStoreWaitingTime_i.loc[j]=[np.mean(df_StationWaitingTime.loc[0][0]),np.mean(df_StationWaitingTime.loc[1][0]),np.mean(df_StationWaitingTime.loc[2][0]),np.mean(df_StationWaitingTime.loc[3][0])]\n",
      "C:\\Users\\mohammadreze\\AppData\\Local\\Temp\\ipykernel_4356\\3853490108.py:15: FutureWarning: Series.__getitem__ treating keys as positions is deprecated. In a future version, integer keys will always be treated as labels (consistent with DataFrame behavior). To access a value by position, use `ser.iloc[pos]`\n",
      "  df_InStoreWaitingTime_i.loc[j]=[np.mean(df_StationWaitingTime.loc[0][0]),np.mean(df_StationWaitingTime.loc[1][0]),np.mean(df_StationWaitingTime.loc[2][0]),np.mean(df_StationWaitingTime.loc[3][0])]\n",
      "C:\\Users\\mohammadreze\\AppData\\Local\\Temp\\ipykernel_4356\\3853490108.py:15: FutureWarning: Series.__getitem__ treating keys as positions is deprecated. In a future version, integer keys will always be treated as labels (consistent with DataFrame behavior). To access a value by position, use `ser.iloc[pos]`\n",
      "  df_InStoreWaitingTime_i.loc[j]=[np.mean(df_StationWaitingTime.loc[0][0]),np.mean(df_StationWaitingTime.loc[1][0]),np.mean(df_StationWaitingTime.loc[2][0]),np.mean(df_StationWaitingTime.loc[3][0])]\n",
      "C:\\Users\\mohammadreze\\AppData\\Local\\Temp\\ipykernel_4356\\3853490108.py:15: FutureWarning: Series.__getitem__ treating keys as positions is deprecated. In a future version, integer keys will always be treated as labels (consistent with DataFrame behavior). To access a value by position, use `ser.iloc[pos]`\n",
      "  df_InStoreWaitingTime_i.loc[j]=[np.mean(df_StationWaitingTime.loc[0][0]),np.mean(df_StationWaitingTime.loc[1][0]),np.mean(df_StationWaitingTime.loc[2][0]),np.mean(df_StationWaitingTime.loc[3][0])]\n",
      "C:\\Users\\mohammadreze\\AppData\\Local\\Temp\\ipykernel_4356\\3853490108.py:15: FutureWarning: Series.__getitem__ treating keys as positions is deprecated. In a future version, integer keys will always be treated as labels (consistent with DataFrame behavior). To access a value by position, use `ser.iloc[pos]`\n",
      "  df_InStoreWaitingTime_i.loc[j]=[np.mean(df_StationWaitingTime.loc[0][0]),np.mean(df_StationWaitingTime.loc[1][0]),np.mean(df_StationWaitingTime.loc[2][0]),np.mean(df_StationWaitingTime.loc[3][0])]\n",
      "C:\\Users\\mohammadreze\\AppData\\Local\\Temp\\ipykernel_4356\\3853490108.py:15: FutureWarning: Series.__getitem__ treating keys as positions is deprecated. In a future version, integer keys will always be treated as labels (consistent with DataFrame behavior). To access a value by position, use `ser.iloc[pos]`\n",
      "  df_InStoreWaitingTime_i.loc[j]=[np.mean(df_StationWaitingTime.loc[0][0]),np.mean(df_StationWaitingTime.loc[1][0]),np.mean(df_StationWaitingTime.loc[2][0]),np.mean(df_StationWaitingTime.loc[3][0])]\n",
      "C:\\Users\\mohammadreze\\AppData\\Local\\Temp\\ipykernel_4356\\3853490108.py:15: FutureWarning: Series.__getitem__ treating keys as positions is deprecated. In a future version, integer keys will always be treated as labels (consistent with DataFrame behavior). To access a value by position, use `ser.iloc[pos]`\n",
      "  df_InStoreWaitingTime_i.loc[j]=[np.mean(df_StationWaitingTime.loc[0][0]),np.mean(df_StationWaitingTime.loc[1][0]),np.mean(df_StationWaitingTime.loc[2][0]),np.mean(df_StationWaitingTime.loc[3][0])]\n",
      "C:\\Users\\mohammadreze\\AppData\\Local\\Temp\\ipykernel_4356\\3853490108.py:15: FutureWarning: Series.__getitem__ treating keys as positions is deprecated. In a future version, integer keys will always be treated as labels (consistent with DataFrame behavior). To access a value by position, use `ser.iloc[pos]`\n",
      "  df_InStoreWaitingTime_i.loc[j]=[np.mean(df_StationWaitingTime.loc[0][0]),np.mean(df_StationWaitingTime.loc[1][0]),np.mean(df_StationWaitingTime.loc[2][0]),np.mean(df_StationWaitingTime.loc[3][0])]\n",
      "C:\\Users\\mohammadreze\\AppData\\Local\\Temp\\ipykernel_4356\\3853490108.py:15: FutureWarning: Series.__getitem__ treating keys as positions is deprecated. In a future version, integer keys will always be treated as labels (consistent with DataFrame behavior). To access a value by position, use `ser.iloc[pos]`\n",
      "  df_InStoreWaitingTime_i.loc[j]=[np.mean(df_StationWaitingTime.loc[0][0]),np.mean(df_StationWaitingTime.loc[1][0]),np.mean(df_StationWaitingTime.loc[2][0]),np.mean(df_StationWaitingTime.loc[3][0])]\n",
      "C:\\Users\\mohammadreze\\AppData\\Local\\Temp\\ipykernel_4356\\3853490108.py:15: FutureWarning: Series.__getitem__ treating keys as positions is deprecated. In a future version, integer keys will always be treated as labels (consistent with DataFrame behavior). To access a value by position, use `ser.iloc[pos]`\n",
      "  df_InStoreWaitingTime_i.loc[j]=[np.mean(df_StationWaitingTime.loc[0][0]),np.mean(df_StationWaitingTime.loc[1][0]),np.mean(df_StationWaitingTime.loc[2][0]),np.mean(df_StationWaitingTime.loc[3][0])]\n",
      "C:\\Users\\mohammadreze\\AppData\\Local\\Temp\\ipykernel_4356\\3853490108.py:15: FutureWarning: Series.__getitem__ treating keys as positions is deprecated. In a future version, integer keys will always be treated as labels (consistent with DataFrame behavior). To access a value by position, use `ser.iloc[pos]`\n",
      "  df_InStoreWaitingTime_i.loc[j]=[np.mean(df_StationWaitingTime.loc[0][0]),np.mean(df_StationWaitingTime.loc[1][0]),np.mean(df_StationWaitingTime.loc[2][0]),np.mean(df_StationWaitingTime.loc[3][0])]\n",
      "C:\\Users\\mohammadreze\\AppData\\Local\\Temp\\ipykernel_4356\\3853490108.py:15: FutureWarning: Series.__getitem__ treating keys as positions is deprecated. In a future version, integer keys will always be treated as labels (consistent with DataFrame behavior). To access a value by position, use `ser.iloc[pos]`\n",
      "  df_InStoreWaitingTime_i.loc[j]=[np.mean(df_StationWaitingTime.loc[0][0]),np.mean(df_StationWaitingTime.loc[1][0]),np.mean(df_StationWaitingTime.loc[2][0]),np.mean(df_StationWaitingTime.loc[3][0])]\n",
      "C:\\Users\\mohammadreze\\AppData\\Local\\Temp\\ipykernel_4356\\3853490108.py:15: FutureWarning: Series.__getitem__ treating keys as positions is deprecated. In a future version, integer keys will always be treated as labels (consistent with DataFrame behavior). To access a value by position, use `ser.iloc[pos]`\n",
      "  df_InStoreWaitingTime_i.loc[j]=[np.mean(df_StationWaitingTime.loc[0][0]),np.mean(df_StationWaitingTime.loc[1][0]),np.mean(df_StationWaitingTime.loc[2][0]),np.mean(df_StationWaitingTime.loc[3][0])]\n",
      "C:\\Users\\mohammadreze\\AppData\\Local\\Temp\\ipykernel_4356\\3853490108.py:15: FutureWarning: Series.__getitem__ treating keys as positions is deprecated. In a future version, integer keys will always be treated as labels (consistent with DataFrame behavior). To access a value by position, use `ser.iloc[pos]`\n",
      "  df_InStoreWaitingTime_i.loc[j]=[np.mean(df_StationWaitingTime.loc[0][0]),np.mean(df_StationWaitingTime.loc[1][0]),np.mean(df_StationWaitingTime.loc[2][0]),np.mean(df_StationWaitingTime.loc[3][0])]\n",
      "C:\\Users\\mohammadreze\\AppData\\Local\\Temp\\ipykernel_4356\\3853490108.py:15: FutureWarning: Series.__getitem__ treating keys as positions is deprecated. In a future version, integer keys will always be treated as labels (consistent with DataFrame behavior). To access a value by position, use `ser.iloc[pos]`\n",
      "  df_InStoreWaitingTime_i.loc[j]=[np.mean(df_StationWaitingTime.loc[0][0]),np.mean(df_StationWaitingTime.loc[1][0]),np.mean(df_StationWaitingTime.loc[2][0]),np.mean(df_StationWaitingTime.loc[3][0])]\n",
      "C:\\Users\\mohammadreze\\AppData\\Local\\Temp\\ipykernel_4356\\3853490108.py:15: FutureWarning: Series.__getitem__ treating keys as positions is deprecated. In a future version, integer keys will always be treated as labels (consistent with DataFrame behavior). To access a value by position, use `ser.iloc[pos]`\n",
      "  df_InStoreWaitingTime_i.loc[j]=[np.mean(df_StationWaitingTime.loc[0][0]),np.mean(df_StationWaitingTime.loc[1][0]),np.mean(df_StationWaitingTime.loc[2][0]),np.mean(df_StationWaitingTime.loc[3][0])]\n",
      "C:\\Users\\mohammadreze\\AppData\\Local\\Temp\\ipykernel_4356\\3853490108.py:15: FutureWarning: Series.__getitem__ treating keys as positions is deprecated. In a future version, integer keys will always be treated as labels (consistent with DataFrame behavior). To access a value by position, use `ser.iloc[pos]`\n",
      "  df_InStoreWaitingTime_i.loc[j]=[np.mean(df_StationWaitingTime.loc[0][0]),np.mean(df_StationWaitingTime.loc[1][0]),np.mean(df_StationWaitingTime.loc[2][0]),np.mean(df_StationWaitingTime.loc[3][0])]\n",
      "C:\\Users\\mohammadreze\\AppData\\Local\\Temp\\ipykernel_4356\\3853490108.py:15: FutureWarning: Series.__getitem__ treating keys as positions is deprecated. In a future version, integer keys will always be treated as labels (consistent with DataFrame behavior). To access a value by position, use `ser.iloc[pos]`\n",
      "  df_InStoreWaitingTime_i.loc[j]=[np.mean(df_StationWaitingTime.loc[0][0]),np.mean(df_StationWaitingTime.loc[1][0]),np.mean(df_StationWaitingTime.loc[2][0]),np.mean(df_StationWaitingTime.loc[3][0])]\n",
      "C:\\Users\\mohammadreze\\AppData\\Local\\Temp\\ipykernel_4356\\3853490108.py:15: FutureWarning: Series.__getitem__ treating keys as positions is deprecated. In a future version, integer keys will always be treated as labels (consistent with DataFrame behavior). To access a value by position, use `ser.iloc[pos]`\n",
      "  df_InStoreWaitingTime_i.loc[j]=[np.mean(df_StationWaitingTime.loc[0][0]),np.mean(df_StationWaitingTime.loc[1][0]),np.mean(df_StationWaitingTime.loc[2][0]),np.mean(df_StationWaitingTime.loc[3][0])]\n",
      "C:\\Users\\mohammadreze\\AppData\\Local\\Temp\\ipykernel_4356\\3853490108.py:15: FutureWarning: Series.__getitem__ treating keys as positions is deprecated. In a future version, integer keys will always be treated as labels (consistent with DataFrame behavior). To access a value by position, use `ser.iloc[pos]`\n",
      "  df_InStoreWaitingTime_i.loc[j]=[np.mean(df_StationWaitingTime.loc[0][0]),np.mean(df_StationWaitingTime.loc[1][0]),np.mean(df_StationWaitingTime.loc[2][0]),np.mean(df_StationWaitingTime.loc[3][0])]\n",
      "C:\\Users\\mohammadreze\\AppData\\Local\\Temp\\ipykernel_4356\\3853490108.py:15: FutureWarning: Series.__getitem__ treating keys as positions is deprecated. In a future version, integer keys will always be treated as labels (consistent with DataFrame behavior). To access a value by position, use `ser.iloc[pos]`\n",
      "  df_InStoreWaitingTime_i.loc[j]=[np.mean(df_StationWaitingTime.loc[0][0]),np.mean(df_StationWaitingTime.loc[1][0]),np.mean(df_StationWaitingTime.loc[2][0]),np.mean(df_StationWaitingTime.loc[3][0])]\n",
      "C:\\Users\\mohammadreze\\AppData\\Local\\Temp\\ipykernel_4356\\3853490108.py:15: FutureWarning: Series.__getitem__ treating keys as positions is deprecated. In a future version, integer keys will always be treated as labels (consistent with DataFrame behavior). To access a value by position, use `ser.iloc[pos]`\n",
      "  df_InStoreWaitingTime_i.loc[j]=[np.mean(df_StationWaitingTime.loc[0][0]),np.mean(df_StationWaitingTime.loc[1][0]),np.mean(df_StationWaitingTime.loc[2][0]),np.mean(df_StationWaitingTime.loc[3][0])]\n",
      "C:\\Users\\mohammadreze\\AppData\\Local\\Temp\\ipykernel_4356\\3853490108.py:15: FutureWarning: Series.__getitem__ treating keys as positions is deprecated. In a future version, integer keys will always be treated as labels (consistent with DataFrame behavior). To access a value by position, use `ser.iloc[pos]`\n",
      "  df_InStoreWaitingTime_i.loc[j]=[np.mean(df_StationWaitingTime.loc[0][0]),np.mean(df_StationWaitingTime.loc[1][0]),np.mean(df_StationWaitingTime.loc[2][0]),np.mean(df_StationWaitingTime.loc[3][0])]\n",
      "C:\\Users\\mohammadreze\\AppData\\Local\\Temp\\ipykernel_4356\\3853490108.py:15: FutureWarning: Series.__getitem__ treating keys as positions is deprecated. In a future version, integer keys will always be treated as labels (consistent with DataFrame behavior). To access a value by position, use `ser.iloc[pos]`\n",
      "  df_InStoreWaitingTime_i.loc[j]=[np.mean(df_StationWaitingTime.loc[0][0]),np.mean(df_StationWaitingTime.loc[1][0]),np.mean(df_StationWaitingTime.loc[2][0]),np.mean(df_StationWaitingTime.loc[3][0])]\n",
      "C:\\Users\\mohammadreze\\AppData\\Local\\Temp\\ipykernel_4356\\3853490108.py:15: FutureWarning: Series.__getitem__ treating keys as positions is deprecated. In a future version, integer keys will always be treated as labels (consistent with DataFrame behavior). To access a value by position, use `ser.iloc[pos]`\n",
      "  df_InStoreWaitingTime_i.loc[j]=[np.mean(df_StationWaitingTime.loc[0][0]),np.mean(df_StationWaitingTime.loc[1][0]),np.mean(df_StationWaitingTime.loc[2][0]),np.mean(df_StationWaitingTime.loc[3][0])]\n",
      "C:\\Users\\mohammadreze\\AppData\\Local\\Temp\\ipykernel_4356\\3853490108.py:15: FutureWarning: Series.__getitem__ treating keys as positions is deprecated. In a future version, integer keys will always be treated as labels (consistent with DataFrame behavior). To access a value by position, use `ser.iloc[pos]`\n",
      "  df_InStoreWaitingTime_i.loc[j]=[np.mean(df_StationWaitingTime.loc[0][0]),np.mean(df_StationWaitingTime.loc[1][0]),np.mean(df_StationWaitingTime.loc[2][0]),np.mean(df_StationWaitingTime.loc[3][0])]\n",
      "C:\\Users\\mohammadreze\\AppData\\Local\\Temp\\ipykernel_4356\\3853490108.py:15: FutureWarning: Series.__getitem__ treating keys as positions is deprecated. In a future version, integer keys will always be treated as labels (consistent with DataFrame behavior). To access a value by position, use `ser.iloc[pos]`\n",
      "  df_InStoreWaitingTime_i.loc[j]=[np.mean(df_StationWaitingTime.loc[0][0]),np.mean(df_StationWaitingTime.loc[1][0]),np.mean(df_StationWaitingTime.loc[2][0]),np.mean(df_StationWaitingTime.loc[3][0])]\n",
      "C:\\Users\\mohammadreze\\AppData\\Local\\Temp\\ipykernel_4356\\3853490108.py:15: FutureWarning: Series.__getitem__ treating keys as positions is deprecated. In a future version, integer keys will always be treated as labels (consistent with DataFrame behavior). To access a value by position, use `ser.iloc[pos]`\n",
      "  df_InStoreWaitingTime_i.loc[j]=[np.mean(df_StationWaitingTime.loc[0][0]),np.mean(df_StationWaitingTime.loc[1][0]),np.mean(df_StationWaitingTime.loc[2][0]),np.mean(df_StationWaitingTime.loc[3][0])]\n",
      "C:\\Users\\mohammadreze\\AppData\\Local\\Temp\\ipykernel_4356\\3853490108.py:15: FutureWarning: Series.__getitem__ treating keys as positions is deprecated. In a future version, integer keys will always be treated as labels (consistent with DataFrame behavior). To access a value by position, use `ser.iloc[pos]`\n",
      "  df_InStoreWaitingTime_i.loc[j]=[np.mean(df_StationWaitingTime.loc[0][0]),np.mean(df_StationWaitingTime.loc[1][0]),np.mean(df_StationWaitingTime.loc[2][0]),np.mean(df_StationWaitingTime.loc[3][0])]\n",
      "C:\\Users\\mohammadreze\\AppData\\Local\\Temp\\ipykernel_4356\\3853490108.py:15: FutureWarning: Series.__getitem__ treating keys as positions is deprecated. In a future version, integer keys will always be treated as labels (consistent with DataFrame behavior). To access a value by position, use `ser.iloc[pos]`\n",
      "  df_InStoreWaitingTime_i.loc[j]=[np.mean(df_StationWaitingTime.loc[0][0]),np.mean(df_StationWaitingTime.loc[1][0]),np.mean(df_StationWaitingTime.loc[2][0]),np.mean(df_StationWaitingTime.loc[3][0])]\n",
      "C:\\Users\\mohammadreze\\AppData\\Local\\Temp\\ipykernel_4356\\3853490108.py:15: FutureWarning: Series.__getitem__ treating keys as positions is deprecated. In a future version, integer keys will always be treated as labels (consistent with DataFrame behavior). To access a value by position, use `ser.iloc[pos]`\n",
      "  df_InStoreWaitingTime_i.loc[j]=[np.mean(df_StationWaitingTime.loc[0][0]),np.mean(df_StationWaitingTime.loc[1][0]),np.mean(df_StationWaitingTime.loc[2][0]),np.mean(df_StationWaitingTime.loc[3][0])]\n",
      "C:\\Users\\mohammadreze\\AppData\\Local\\Temp\\ipykernel_4356\\3853490108.py:15: FutureWarning: Series.__getitem__ treating keys as positions is deprecated. In a future version, integer keys will always be treated as labels (consistent with DataFrame behavior). To access a value by position, use `ser.iloc[pos]`\n",
      "  df_InStoreWaitingTime_i.loc[j]=[np.mean(df_StationWaitingTime.loc[0][0]),np.mean(df_StationWaitingTime.loc[1][0]),np.mean(df_StationWaitingTime.loc[2][0]),np.mean(df_StationWaitingTime.loc[3][0])]\n",
      "C:\\Users\\mohammadreze\\AppData\\Local\\Temp\\ipykernel_4356\\3853490108.py:15: FutureWarning: Series.__getitem__ treating keys as positions is deprecated. In a future version, integer keys will always be treated as labels (consistent with DataFrame behavior). To access a value by position, use `ser.iloc[pos]`\n",
      "  df_InStoreWaitingTime_i.loc[j]=[np.mean(df_StationWaitingTime.loc[0][0]),np.mean(df_StationWaitingTime.loc[1][0]),np.mean(df_StationWaitingTime.loc[2][0]),np.mean(df_StationWaitingTime.loc[3][0])]\n",
      "C:\\Users\\mohammadreze\\AppData\\Local\\Temp\\ipykernel_4356\\3853490108.py:15: FutureWarning: Series.__getitem__ treating keys as positions is deprecated. In a future version, integer keys will always be treated as labels (consistent with DataFrame behavior). To access a value by position, use `ser.iloc[pos]`\n",
      "  df_InStoreWaitingTime_i.loc[j]=[np.mean(df_StationWaitingTime.loc[0][0]),np.mean(df_StationWaitingTime.loc[1][0]),np.mean(df_StationWaitingTime.loc[2][0]),np.mean(df_StationWaitingTime.loc[3][0])]\n",
      "C:\\Users\\mohammadreze\\AppData\\Local\\Temp\\ipykernel_4356\\3853490108.py:15: FutureWarning: Series.__getitem__ treating keys as positions is deprecated. In a future version, integer keys will always be treated as labels (consistent with DataFrame behavior). To access a value by position, use `ser.iloc[pos]`\n",
      "  df_InStoreWaitingTime_i.loc[j]=[np.mean(df_StationWaitingTime.loc[0][0]),np.mean(df_StationWaitingTime.loc[1][0]),np.mean(df_StationWaitingTime.loc[2][0]),np.mean(df_StationWaitingTime.loc[3][0])]\n",
      "C:\\Users\\mohammadreze\\AppData\\Local\\Temp\\ipykernel_4356\\3853490108.py:15: FutureWarning: Series.__getitem__ treating keys as positions is deprecated. In a future version, integer keys will always be treated as labels (consistent with DataFrame behavior). To access a value by position, use `ser.iloc[pos]`\n",
      "  df_InStoreWaitingTime_i.loc[j]=[np.mean(df_StationWaitingTime.loc[0][0]),np.mean(df_StationWaitingTime.loc[1][0]),np.mean(df_StationWaitingTime.loc[2][0]),np.mean(df_StationWaitingTime.loc[3][0])]\n",
      "C:\\Users\\mohammadreze\\AppData\\Local\\Temp\\ipykernel_4356\\3853490108.py:15: FutureWarning: Series.__getitem__ treating keys as positions is deprecated. In a future version, integer keys will always be treated as labels (consistent with DataFrame behavior). To access a value by position, use `ser.iloc[pos]`\n",
      "  df_InStoreWaitingTime_i.loc[j]=[np.mean(df_StationWaitingTime.loc[0][0]),np.mean(df_StationWaitingTime.loc[1][0]),np.mean(df_StationWaitingTime.loc[2][0]),np.mean(df_StationWaitingTime.loc[3][0])]\n",
      "C:\\Users\\mohammadreze\\AppData\\Local\\Temp\\ipykernel_4356\\3853490108.py:15: FutureWarning: Series.__getitem__ treating keys as positions is deprecated. In a future version, integer keys will always be treated as labels (consistent with DataFrame behavior). To access a value by position, use `ser.iloc[pos]`\n",
      "  df_InStoreWaitingTime_i.loc[j]=[np.mean(df_StationWaitingTime.loc[0][0]),np.mean(df_StationWaitingTime.loc[1][0]),np.mean(df_StationWaitingTime.loc[2][0]),np.mean(df_StationWaitingTime.loc[3][0])]\n",
      "C:\\Users\\mohammadreze\\AppData\\Local\\Temp\\ipykernel_4356\\3853490108.py:15: FutureWarning: Series.__getitem__ treating keys as positions is deprecated. In a future version, integer keys will always be treated as labels (consistent with DataFrame behavior). To access a value by position, use `ser.iloc[pos]`\n",
      "  df_InStoreWaitingTime_i.loc[j]=[np.mean(df_StationWaitingTime.loc[0][0]),np.mean(df_StationWaitingTime.loc[1][0]),np.mean(df_StationWaitingTime.loc[2][0]),np.mean(df_StationWaitingTime.loc[3][0])]\n",
      "C:\\Users\\mohammadreze\\AppData\\Local\\Temp\\ipykernel_4356\\3853490108.py:15: FutureWarning: Series.__getitem__ treating keys as positions is deprecated. In a future version, integer keys will always be treated as labels (consistent with DataFrame behavior). To access a value by position, use `ser.iloc[pos]`\n",
      "  df_InStoreWaitingTime_i.loc[j]=[np.mean(df_StationWaitingTime.loc[0][0]),np.mean(df_StationWaitingTime.loc[1][0]),np.mean(df_StationWaitingTime.loc[2][0]),np.mean(df_StationWaitingTime.loc[3][0])]\n",
      "C:\\Users\\mohammadreze\\AppData\\Local\\Temp\\ipykernel_4356\\3853490108.py:15: FutureWarning: Series.__getitem__ treating keys as positions is deprecated. In a future version, integer keys will always be treated as labels (consistent with DataFrame behavior). To access a value by position, use `ser.iloc[pos]`\n",
      "  df_InStoreWaitingTime_i.loc[j]=[np.mean(df_StationWaitingTime.loc[0][0]),np.mean(df_StationWaitingTime.loc[1][0]),np.mean(df_StationWaitingTime.loc[2][0]),np.mean(df_StationWaitingTime.loc[3][0])]\n",
      "C:\\Users\\mohammadreze\\AppData\\Local\\Temp\\ipykernel_4356\\3853490108.py:15: FutureWarning: Series.__getitem__ treating keys as positions is deprecated. In a future version, integer keys will always be treated as labels (consistent with DataFrame behavior). To access a value by position, use `ser.iloc[pos]`\n",
      "  df_InStoreWaitingTime_i.loc[j]=[np.mean(df_StationWaitingTime.loc[0][0]),np.mean(df_StationWaitingTime.loc[1][0]),np.mean(df_StationWaitingTime.loc[2][0]),np.mean(df_StationWaitingTime.loc[3][0])]\n",
      "C:\\Users\\mohammadreze\\AppData\\Local\\Temp\\ipykernel_4356\\3853490108.py:15: FutureWarning: Series.__getitem__ treating keys as positions is deprecated. In a future version, integer keys will always be treated as labels (consistent with DataFrame behavior). To access a value by position, use `ser.iloc[pos]`\n",
      "  df_InStoreWaitingTime_i.loc[j]=[np.mean(df_StationWaitingTime.loc[0][0]),np.mean(df_StationWaitingTime.loc[1][0]),np.mean(df_StationWaitingTime.loc[2][0]),np.mean(df_StationWaitingTime.loc[3][0])]\n",
      "C:\\Users\\mohammadreze\\AppData\\Local\\Temp\\ipykernel_4356\\3853490108.py:15: FutureWarning: Series.__getitem__ treating keys as positions is deprecated. In a future version, integer keys will always be treated as labels (consistent with DataFrame behavior). To access a value by position, use `ser.iloc[pos]`\n",
      "  df_InStoreWaitingTime_i.loc[j]=[np.mean(df_StationWaitingTime.loc[0][0]),np.mean(df_StationWaitingTime.loc[1][0]),np.mean(df_StationWaitingTime.loc[2][0]),np.mean(df_StationWaitingTime.loc[3][0])]\n",
      "C:\\Users\\mohammadreze\\AppData\\Local\\Temp\\ipykernel_4356\\3853490108.py:15: FutureWarning: Series.__getitem__ treating keys as positions is deprecated. In a future version, integer keys will always be treated as labels (consistent with DataFrame behavior). To access a value by position, use `ser.iloc[pos]`\n",
      "  df_InStoreWaitingTime_i.loc[j]=[np.mean(df_StationWaitingTime.loc[0][0]),np.mean(df_StationWaitingTime.loc[1][0]),np.mean(df_StationWaitingTime.loc[2][0]),np.mean(df_StationWaitingTime.loc[3][0])]\n",
      "C:\\Users\\mohammadreze\\AppData\\Local\\Temp\\ipykernel_4356\\3853490108.py:15: FutureWarning: Series.__getitem__ treating keys as positions is deprecated. In a future version, integer keys will always be treated as labels (consistent with DataFrame behavior). To access a value by position, use `ser.iloc[pos]`\n",
      "  df_InStoreWaitingTime_i.loc[j]=[np.mean(df_StationWaitingTime.loc[0][0]),np.mean(df_StationWaitingTime.loc[1][0]),np.mean(df_StationWaitingTime.loc[2][0]),np.mean(df_StationWaitingTime.loc[3][0])]\n",
      "C:\\Users\\mohammadreze\\AppData\\Local\\Temp\\ipykernel_4356\\3853490108.py:15: FutureWarning: Series.__getitem__ treating keys as positions is deprecated. In a future version, integer keys will always be treated as labels (consistent with DataFrame behavior). To access a value by position, use `ser.iloc[pos]`\n",
      "  df_InStoreWaitingTime_i.loc[j]=[np.mean(df_StationWaitingTime.loc[0][0]),np.mean(df_StationWaitingTime.loc[1][0]),np.mean(df_StationWaitingTime.loc[2][0]),np.mean(df_StationWaitingTime.loc[3][0])]\n",
      "C:\\Users\\mohammadreze\\AppData\\Local\\Temp\\ipykernel_4356\\3853490108.py:15: FutureWarning: Series.__getitem__ treating keys as positions is deprecated. In a future version, integer keys will always be treated as labels (consistent with DataFrame behavior). To access a value by position, use `ser.iloc[pos]`\n",
      "  df_InStoreWaitingTime_i.loc[j]=[np.mean(df_StationWaitingTime.loc[0][0]),np.mean(df_StationWaitingTime.loc[1][0]),np.mean(df_StationWaitingTime.loc[2][0]),np.mean(df_StationWaitingTime.loc[3][0])]\n",
      "C:\\Users\\mohammadreze\\AppData\\Local\\Temp\\ipykernel_4356\\3853490108.py:15: FutureWarning: Series.__getitem__ treating keys as positions is deprecated. In a future version, integer keys will always be treated as labels (consistent with DataFrame behavior). To access a value by position, use `ser.iloc[pos]`\n",
      "  df_InStoreWaitingTime_i.loc[j]=[np.mean(df_StationWaitingTime.loc[0][0]),np.mean(df_StationWaitingTime.loc[1][0]),np.mean(df_StationWaitingTime.loc[2][0]),np.mean(df_StationWaitingTime.loc[3][0])]\n",
      "C:\\Users\\mohammadreze\\AppData\\Local\\Temp\\ipykernel_4356\\3853490108.py:15: FutureWarning: Series.__getitem__ treating keys as positions is deprecated. In a future version, integer keys will always be treated as labels (consistent with DataFrame behavior). To access a value by position, use `ser.iloc[pos]`\n",
      "  df_InStoreWaitingTime_i.loc[j]=[np.mean(df_StationWaitingTime.loc[0][0]),np.mean(df_StationWaitingTime.loc[1][0]),np.mean(df_StationWaitingTime.loc[2][0]),np.mean(df_StationWaitingTime.loc[3][0])]\n",
      "C:\\Users\\mohammadreze\\AppData\\Local\\Temp\\ipykernel_4356\\3853490108.py:15: FutureWarning: Series.__getitem__ treating keys as positions is deprecated. In a future version, integer keys will always be treated as labels (consistent with DataFrame behavior). To access a value by position, use `ser.iloc[pos]`\n",
      "  df_InStoreWaitingTime_i.loc[j]=[np.mean(df_StationWaitingTime.loc[0][0]),np.mean(df_StationWaitingTime.loc[1][0]),np.mean(df_StationWaitingTime.loc[2][0]),np.mean(df_StationWaitingTime.loc[3][0])]\n",
      "C:\\Users\\mohammadreze\\AppData\\Local\\Temp\\ipykernel_4356\\3853490108.py:15: FutureWarning: Series.__getitem__ treating keys as positions is deprecated. In a future version, integer keys will always be treated as labels (consistent with DataFrame behavior). To access a value by position, use `ser.iloc[pos]`\n",
      "  df_InStoreWaitingTime_i.loc[j]=[np.mean(df_StationWaitingTime.loc[0][0]),np.mean(df_StationWaitingTime.loc[1][0]),np.mean(df_StationWaitingTime.loc[2][0]),np.mean(df_StationWaitingTime.loc[3][0])]\n",
      "C:\\Users\\mohammadreze\\AppData\\Local\\Temp\\ipykernel_4356\\3853490108.py:15: FutureWarning: Series.__getitem__ treating keys as positions is deprecated. In a future version, integer keys will always be treated as labels (consistent with DataFrame behavior). To access a value by position, use `ser.iloc[pos]`\n",
      "  df_InStoreWaitingTime_i.loc[j]=[np.mean(df_StationWaitingTime.loc[0][0]),np.mean(df_StationWaitingTime.loc[1][0]),np.mean(df_StationWaitingTime.loc[2][0]),np.mean(df_StationWaitingTime.loc[3][0])]\n",
      "C:\\Users\\mohammadreze\\AppData\\Local\\Temp\\ipykernel_4356\\3853490108.py:15: FutureWarning: Series.__getitem__ treating keys as positions is deprecated. In a future version, integer keys will always be treated as labels (consistent with DataFrame behavior). To access a value by position, use `ser.iloc[pos]`\n",
      "  df_InStoreWaitingTime_i.loc[j]=[np.mean(df_StationWaitingTime.loc[0][0]),np.mean(df_StationWaitingTime.loc[1][0]),np.mean(df_StationWaitingTime.loc[2][0]),np.mean(df_StationWaitingTime.loc[3][0])]\n",
      "C:\\Users\\mohammadreze\\AppData\\Local\\Temp\\ipykernel_4356\\3853490108.py:15: FutureWarning: Series.__getitem__ treating keys as positions is deprecated. In a future version, integer keys will always be treated as labels (consistent with DataFrame behavior). To access a value by position, use `ser.iloc[pos]`\n",
      "  df_InStoreWaitingTime_i.loc[j]=[np.mean(df_StationWaitingTime.loc[0][0]),np.mean(df_StationWaitingTime.loc[1][0]),np.mean(df_StationWaitingTime.loc[2][0]),np.mean(df_StationWaitingTime.loc[3][0])]\n",
      "C:\\Users\\mohammadreze\\AppData\\Local\\Temp\\ipykernel_4356\\3853490108.py:15: FutureWarning: Series.__getitem__ treating keys as positions is deprecated. In a future version, integer keys will always be treated as labels (consistent with DataFrame behavior). To access a value by position, use `ser.iloc[pos]`\n",
      "  df_InStoreWaitingTime_i.loc[j]=[np.mean(df_StationWaitingTime.loc[0][0]),np.mean(df_StationWaitingTime.loc[1][0]),np.mean(df_StationWaitingTime.loc[2][0]),np.mean(df_StationWaitingTime.loc[3][0])]\n",
      "C:\\Users\\mohammadreze\\AppData\\Local\\Temp\\ipykernel_4356\\3853490108.py:15: FutureWarning: Series.__getitem__ treating keys as positions is deprecated. In a future version, integer keys will always be treated as labels (consistent with DataFrame behavior). To access a value by position, use `ser.iloc[pos]`\n",
      "  df_InStoreWaitingTime_i.loc[j]=[np.mean(df_StationWaitingTime.loc[0][0]),np.mean(df_StationWaitingTime.loc[1][0]),np.mean(df_StationWaitingTime.loc[2][0]),np.mean(df_StationWaitingTime.loc[3][0])]\n",
      "C:\\Users\\mohammadreze\\AppData\\Local\\Temp\\ipykernel_4356\\3853490108.py:15: FutureWarning: Series.__getitem__ treating keys as positions is deprecated. In a future version, integer keys will always be treated as labels (consistent with DataFrame behavior). To access a value by position, use `ser.iloc[pos]`\n",
      "  df_InStoreWaitingTime_i.loc[j]=[np.mean(df_StationWaitingTime.loc[0][0]),np.mean(df_StationWaitingTime.loc[1][0]),np.mean(df_StationWaitingTime.loc[2][0]),np.mean(df_StationWaitingTime.loc[3][0])]\n",
      "C:\\Users\\mohammadreze\\AppData\\Local\\Temp\\ipykernel_4356\\3853490108.py:15: FutureWarning: Series.__getitem__ treating keys as positions is deprecated. In a future version, integer keys will always be treated as labels (consistent with DataFrame behavior). To access a value by position, use `ser.iloc[pos]`\n",
      "  df_InStoreWaitingTime_i.loc[j]=[np.mean(df_StationWaitingTime.loc[0][0]),np.mean(df_StationWaitingTime.loc[1][0]),np.mean(df_StationWaitingTime.loc[2][0]),np.mean(df_StationWaitingTime.loc[3][0])]\n",
      "C:\\Users\\mohammadreze\\AppData\\Local\\Temp\\ipykernel_4356\\3853490108.py:15: FutureWarning: Series.__getitem__ treating keys as positions is deprecated. In a future version, integer keys will always be treated as labels (consistent with DataFrame behavior). To access a value by position, use `ser.iloc[pos]`\n",
      "  df_InStoreWaitingTime_i.loc[j]=[np.mean(df_StationWaitingTime.loc[0][0]),np.mean(df_StationWaitingTime.loc[1][0]),np.mean(df_StationWaitingTime.loc[2][0]),np.mean(df_StationWaitingTime.loc[3][0])]\n",
      "C:\\Users\\mohammadreze\\AppData\\Local\\Temp\\ipykernel_4356\\3853490108.py:15: FutureWarning: Series.__getitem__ treating keys as positions is deprecated. In a future version, integer keys will always be treated as labels (consistent with DataFrame behavior). To access a value by position, use `ser.iloc[pos]`\n",
      "  df_InStoreWaitingTime_i.loc[j]=[np.mean(df_StationWaitingTime.loc[0][0]),np.mean(df_StationWaitingTime.loc[1][0]),np.mean(df_StationWaitingTime.loc[2][0]),np.mean(df_StationWaitingTime.loc[3][0])]\n",
      "C:\\Users\\mohammadreze\\AppData\\Local\\Temp\\ipykernel_4356\\3853490108.py:15: FutureWarning: Series.__getitem__ treating keys as positions is deprecated. In a future version, integer keys will always be treated as labels (consistent with DataFrame behavior). To access a value by position, use `ser.iloc[pos]`\n",
      "  df_InStoreWaitingTime_i.loc[j]=[np.mean(df_StationWaitingTime.loc[0][0]),np.mean(df_StationWaitingTime.loc[1][0]),np.mean(df_StationWaitingTime.loc[2][0]),np.mean(df_StationWaitingTime.loc[3][0])]\n",
      "C:\\Users\\mohammadreze\\AppData\\Local\\Temp\\ipykernel_4356\\3853490108.py:15: FutureWarning: Series.__getitem__ treating keys as positions is deprecated. In a future version, integer keys will always be treated as labels (consistent with DataFrame behavior). To access a value by position, use `ser.iloc[pos]`\n",
      "  df_InStoreWaitingTime_i.loc[j]=[np.mean(df_StationWaitingTime.loc[0][0]),np.mean(df_StationWaitingTime.loc[1][0]),np.mean(df_StationWaitingTime.loc[2][0]),np.mean(df_StationWaitingTime.loc[3][0])]\n",
      "C:\\Users\\mohammadreze\\AppData\\Local\\Temp\\ipykernel_4356\\3853490108.py:15: FutureWarning: Series.__getitem__ treating keys as positions is deprecated. In a future version, integer keys will always be treated as labels (consistent with DataFrame behavior). To access a value by position, use `ser.iloc[pos]`\n",
      "  df_InStoreWaitingTime_i.loc[j]=[np.mean(df_StationWaitingTime.loc[0][0]),np.mean(df_StationWaitingTime.loc[1][0]),np.mean(df_StationWaitingTime.loc[2][0]),np.mean(df_StationWaitingTime.loc[3][0])]\n",
      "C:\\Users\\mohammadreze\\AppData\\Local\\Temp\\ipykernel_4356\\3853490108.py:15: FutureWarning: Series.__getitem__ treating keys as positions is deprecated. In a future version, integer keys will always be treated as labels (consistent with DataFrame behavior). To access a value by position, use `ser.iloc[pos]`\n",
      "  df_InStoreWaitingTime_i.loc[j]=[np.mean(df_StationWaitingTime.loc[0][0]),np.mean(df_StationWaitingTime.loc[1][0]),np.mean(df_StationWaitingTime.loc[2][0]),np.mean(df_StationWaitingTime.loc[3][0])]\n",
      "C:\\Users\\mohammadreze\\AppData\\Local\\Temp\\ipykernel_4356\\3853490108.py:15: FutureWarning: Series.__getitem__ treating keys as positions is deprecated. In a future version, integer keys will always be treated as labels (consistent with DataFrame behavior). To access a value by position, use `ser.iloc[pos]`\n",
      "  df_InStoreWaitingTime_i.loc[j]=[np.mean(df_StationWaitingTime.loc[0][0]),np.mean(df_StationWaitingTime.loc[1][0]),np.mean(df_StationWaitingTime.loc[2][0]),np.mean(df_StationWaitingTime.loc[3][0])]\n",
      "C:\\Users\\mohammadreze\\AppData\\Local\\Temp\\ipykernel_4356\\3853490108.py:15: FutureWarning: Series.__getitem__ treating keys as positions is deprecated. In a future version, integer keys will always be treated as labels (consistent with DataFrame behavior). To access a value by position, use `ser.iloc[pos]`\n",
      "  df_InStoreWaitingTime_i.loc[j]=[np.mean(df_StationWaitingTime.loc[0][0]),np.mean(df_StationWaitingTime.loc[1][0]),np.mean(df_StationWaitingTime.loc[2][0]),np.mean(df_StationWaitingTime.loc[3][0])]\n",
      "C:\\Users\\mohammadreze\\AppData\\Local\\Temp\\ipykernel_4356\\3853490108.py:15: FutureWarning: Series.__getitem__ treating keys as positions is deprecated. In a future version, integer keys will always be treated as labels (consistent with DataFrame behavior). To access a value by position, use `ser.iloc[pos]`\n",
      "  df_InStoreWaitingTime_i.loc[j]=[np.mean(df_StationWaitingTime.loc[0][0]),np.mean(df_StationWaitingTime.loc[1][0]),np.mean(df_StationWaitingTime.loc[2][0]),np.mean(df_StationWaitingTime.loc[3][0])]\n",
      "C:\\Users\\mohammadreze\\AppData\\Local\\Temp\\ipykernel_4356\\3853490108.py:15: FutureWarning: Series.__getitem__ treating keys as positions is deprecated. In a future version, integer keys will always be treated as labels (consistent with DataFrame behavior). To access a value by position, use `ser.iloc[pos]`\n",
      "  df_InStoreWaitingTime_i.loc[j]=[np.mean(df_StationWaitingTime.loc[0][0]),np.mean(df_StationWaitingTime.loc[1][0]),np.mean(df_StationWaitingTime.loc[2][0]),np.mean(df_StationWaitingTime.loc[3][0])]\n",
      "C:\\Users\\mohammadreze\\AppData\\Local\\Temp\\ipykernel_4356\\3853490108.py:15: FutureWarning: Series.__getitem__ treating keys as positions is deprecated. In a future version, integer keys will always be treated as labels (consistent with DataFrame behavior). To access a value by position, use `ser.iloc[pos]`\n",
      "  df_InStoreWaitingTime_i.loc[j]=[np.mean(df_StationWaitingTime.loc[0][0]),np.mean(df_StationWaitingTime.loc[1][0]),np.mean(df_StationWaitingTime.loc[2][0]),np.mean(df_StationWaitingTime.loc[3][0])]\n",
      "C:\\Users\\mohammadreze\\AppData\\Local\\Temp\\ipykernel_4356\\3853490108.py:15: FutureWarning: Series.__getitem__ treating keys as positions is deprecated. In a future version, integer keys will always be treated as labels (consistent with DataFrame behavior). To access a value by position, use `ser.iloc[pos]`\n",
      "  df_InStoreWaitingTime_i.loc[j]=[np.mean(df_StationWaitingTime.loc[0][0]),np.mean(df_StationWaitingTime.loc[1][0]),np.mean(df_StationWaitingTime.loc[2][0]),np.mean(df_StationWaitingTime.loc[3][0])]\n",
      "C:\\Users\\mohammadreze\\AppData\\Local\\Temp\\ipykernel_4356\\3853490108.py:15: FutureWarning: Series.__getitem__ treating keys as positions is deprecated. In a future version, integer keys will always be treated as labels (consistent with DataFrame behavior). To access a value by position, use `ser.iloc[pos]`\n",
      "  df_InStoreWaitingTime_i.loc[j]=[np.mean(df_StationWaitingTime.loc[0][0]),np.mean(df_StationWaitingTime.loc[1][0]),np.mean(df_StationWaitingTime.loc[2][0]),np.mean(df_StationWaitingTime.loc[3][0])]\n",
      "C:\\Users\\mohammadreze\\AppData\\Local\\Temp\\ipykernel_4356\\3853490108.py:15: FutureWarning: Series.__getitem__ treating keys as positions is deprecated. In a future version, integer keys will always be treated as labels (consistent with DataFrame behavior). To access a value by position, use `ser.iloc[pos]`\n",
      "  df_InStoreWaitingTime_i.loc[j]=[np.mean(df_StationWaitingTime.loc[0][0]),np.mean(df_StationWaitingTime.loc[1][0]),np.mean(df_StationWaitingTime.loc[2][0]),np.mean(df_StationWaitingTime.loc[3][0])]\n",
      "C:\\Users\\mohammadreze\\AppData\\Local\\Temp\\ipykernel_4356\\3853490108.py:15: FutureWarning: Series.__getitem__ treating keys as positions is deprecated. In a future version, integer keys will always be treated as labels (consistent with DataFrame behavior). To access a value by position, use `ser.iloc[pos]`\n",
      "  df_InStoreWaitingTime_i.loc[j]=[np.mean(df_StationWaitingTime.loc[0][0]),np.mean(df_StationWaitingTime.loc[1][0]),np.mean(df_StationWaitingTime.loc[2][0]),np.mean(df_StationWaitingTime.loc[3][0])]\n",
      "C:\\Users\\mohammadreze\\AppData\\Local\\Temp\\ipykernel_4356\\3853490108.py:15: FutureWarning: Series.__getitem__ treating keys as positions is deprecated. In a future version, integer keys will always be treated as labels (consistent with DataFrame behavior). To access a value by position, use `ser.iloc[pos]`\n",
      "  df_InStoreWaitingTime_i.loc[j]=[np.mean(df_StationWaitingTime.loc[0][0]),np.mean(df_StationWaitingTime.loc[1][0]),np.mean(df_StationWaitingTime.loc[2][0]),np.mean(df_StationWaitingTime.loc[3][0])]\n",
      "C:\\Users\\mohammadreze\\AppData\\Local\\Temp\\ipykernel_4356\\3853490108.py:15: FutureWarning: Series.__getitem__ treating keys as positions is deprecated. In a future version, integer keys will always be treated as labels (consistent with DataFrame behavior). To access a value by position, use `ser.iloc[pos]`\n",
      "  df_InStoreWaitingTime_i.loc[j]=[np.mean(df_StationWaitingTime.loc[0][0]),np.mean(df_StationWaitingTime.loc[1][0]),np.mean(df_StationWaitingTime.loc[2][0]),np.mean(df_StationWaitingTime.loc[3][0])]\n",
      "C:\\Users\\mohammadreze\\AppData\\Local\\Temp\\ipykernel_4356\\3853490108.py:15: FutureWarning: Series.__getitem__ treating keys as positions is deprecated. In a future version, integer keys will always be treated as labels (consistent with DataFrame behavior). To access a value by position, use `ser.iloc[pos]`\n",
      "  df_InStoreWaitingTime_i.loc[j]=[np.mean(df_StationWaitingTime.loc[0][0]),np.mean(df_StationWaitingTime.loc[1][0]),np.mean(df_StationWaitingTime.loc[2][0]),np.mean(df_StationWaitingTime.loc[3][0])]\n",
      "C:\\Users\\mohammadreze\\AppData\\Local\\Temp\\ipykernel_4356\\3853490108.py:15: FutureWarning: Series.__getitem__ treating keys as positions is deprecated. In a future version, integer keys will always be treated as labels (consistent with DataFrame behavior). To access a value by position, use `ser.iloc[pos]`\n",
      "  df_InStoreWaitingTime_i.loc[j]=[np.mean(df_StationWaitingTime.loc[0][0]),np.mean(df_StationWaitingTime.loc[1][0]),np.mean(df_StationWaitingTime.loc[2][0]),np.mean(df_StationWaitingTime.loc[3][0])]\n",
      "C:\\Users\\mohammadreze\\AppData\\Local\\Temp\\ipykernel_4356\\3853490108.py:15: FutureWarning: Series.__getitem__ treating keys as positions is deprecated. In a future version, integer keys will always be treated as labels (consistent with DataFrame behavior). To access a value by position, use `ser.iloc[pos]`\n",
      "  df_InStoreWaitingTime_i.loc[j]=[np.mean(df_StationWaitingTime.loc[0][0]),np.mean(df_StationWaitingTime.loc[1][0]),np.mean(df_StationWaitingTime.loc[2][0]),np.mean(df_StationWaitingTime.loc[3][0])]\n",
      "C:\\Users\\mohammadreze\\AppData\\Local\\Temp\\ipykernel_4356\\3853490108.py:15: FutureWarning: Series.__getitem__ treating keys as positions is deprecated. In a future version, integer keys will always be treated as labels (consistent with DataFrame behavior). To access a value by position, use `ser.iloc[pos]`\n",
      "  df_InStoreWaitingTime_i.loc[j]=[np.mean(df_StationWaitingTime.loc[0][0]),np.mean(df_StationWaitingTime.loc[1][0]),np.mean(df_StationWaitingTime.loc[2][0]),np.mean(df_StationWaitingTime.loc[3][0])]\n",
      "C:\\Users\\mohammadreze\\AppData\\Local\\Temp\\ipykernel_4356\\3853490108.py:15: FutureWarning: Series.__getitem__ treating keys as positions is deprecated. In a future version, integer keys will always be treated as labels (consistent with DataFrame behavior). To access a value by position, use `ser.iloc[pos]`\n",
      "  df_InStoreWaitingTime_i.loc[j]=[np.mean(df_StationWaitingTime.loc[0][0]),np.mean(df_StationWaitingTime.loc[1][0]),np.mean(df_StationWaitingTime.loc[2][0]),np.mean(df_StationWaitingTime.loc[3][0])]\n",
      "C:\\Users\\mohammadreze\\AppData\\Local\\Temp\\ipykernel_4356\\3853490108.py:15: FutureWarning: Series.__getitem__ treating keys as positions is deprecated. In a future version, integer keys will always be treated as labels (consistent with DataFrame behavior). To access a value by position, use `ser.iloc[pos]`\n",
      "  df_InStoreWaitingTime_i.loc[j]=[np.mean(df_StationWaitingTime.loc[0][0]),np.mean(df_StationWaitingTime.loc[1][0]),np.mean(df_StationWaitingTime.loc[2][0]),np.mean(df_StationWaitingTime.loc[3][0])]\n",
      "C:\\Users\\mohammadreze\\AppData\\Local\\Temp\\ipykernel_4356\\3853490108.py:15: FutureWarning: Series.__getitem__ treating keys as positions is deprecated. In a future version, integer keys will always be treated as labels (consistent with DataFrame behavior). To access a value by position, use `ser.iloc[pos]`\n",
      "  df_InStoreWaitingTime_i.loc[j]=[np.mean(df_StationWaitingTime.loc[0][0]),np.mean(df_StationWaitingTime.loc[1][0]),np.mean(df_StationWaitingTime.loc[2][0]),np.mean(df_StationWaitingTime.loc[3][0])]\n",
      "C:\\Users\\mohammadreze\\AppData\\Local\\Temp\\ipykernel_4356\\3853490108.py:15: FutureWarning: Series.__getitem__ treating keys as positions is deprecated. In a future version, integer keys will always be treated as labels (consistent with DataFrame behavior). To access a value by position, use `ser.iloc[pos]`\n",
      "  df_InStoreWaitingTime_i.loc[j]=[np.mean(df_StationWaitingTime.loc[0][0]),np.mean(df_StationWaitingTime.loc[1][0]),np.mean(df_StationWaitingTime.loc[2][0]),np.mean(df_StationWaitingTime.loc[3][0])]\n",
      "C:\\Users\\mohammadreze\\AppData\\Local\\Temp\\ipykernel_4356\\3853490108.py:15: FutureWarning: Series.__getitem__ treating keys as positions is deprecated. In a future version, integer keys will always be treated as labels (consistent with DataFrame behavior). To access a value by position, use `ser.iloc[pos]`\n",
      "  df_InStoreWaitingTime_i.loc[j]=[np.mean(df_StationWaitingTime.loc[0][0]),np.mean(df_StationWaitingTime.loc[1][0]),np.mean(df_StationWaitingTime.loc[2][0]),np.mean(df_StationWaitingTime.loc[3][0])]\n",
      "C:\\Users\\mohammadreze\\AppData\\Local\\Temp\\ipykernel_4356\\3853490108.py:15: FutureWarning: Series.__getitem__ treating keys as positions is deprecated. In a future version, integer keys will always be treated as labels (consistent with DataFrame behavior). To access a value by position, use `ser.iloc[pos]`\n",
      "  df_InStoreWaitingTime_i.loc[j]=[np.mean(df_StationWaitingTime.loc[0][0]),np.mean(df_StationWaitingTime.loc[1][0]),np.mean(df_StationWaitingTime.loc[2][0]),np.mean(df_StationWaitingTime.loc[3][0])]\n",
      "C:\\Users\\mohammadreze\\AppData\\Local\\Temp\\ipykernel_4356\\3853490108.py:15: FutureWarning: Series.__getitem__ treating keys as positions is deprecated. In a future version, integer keys will always be treated as labels (consistent with DataFrame behavior). To access a value by position, use `ser.iloc[pos]`\n",
      "  df_InStoreWaitingTime_i.loc[j]=[np.mean(df_StationWaitingTime.loc[0][0]),np.mean(df_StationWaitingTime.loc[1][0]),np.mean(df_StationWaitingTime.loc[2][0]),np.mean(df_StationWaitingTime.loc[3][0])]\n",
      "C:\\Users\\mohammadreze\\AppData\\Local\\Temp\\ipykernel_4356\\3853490108.py:15: FutureWarning: Series.__getitem__ treating keys as positions is deprecated. In a future version, integer keys will always be treated as labels (consistent with DataFrame behavior). To access a value by position, use `ser.iloc[pos]`\n",
      "  df_InStoreWaitingTime_i.loc[j]=[np.mean(df_StationWaitingTime.loc[0][0]),np.mean(df_StationWaitingTime.loc[1][0]),np.mean(df_StationWaitingTime.loc[2][0]),np.mean(df_StationWaitingTime.loc[3][0])]\n",
      "C:\\Users\\mohammadreze\\AppData\\Local\\Temp\\ipykernel_4356\\3853490108.py:15: FutureWarning: Series.__getitem__ treating keys as positions is deprecated. In a future version, integer keys will always be treated as labels (consistent with DataFrame behavior). To access a value by position, use `ser.iloc[pos]`\n",
      "  df_InStoreWaitingTime_i.loc[j]=[np.mean(df_StationWaitingTime.loc[0][0]),np.mean(df_StationWaitingTime.loc[1][0]),np.mean(df_StationWaitingTime.loc[2][0]),np.mean(df_StationWaitingTime.loc[3][0])]\n",
      "C:\\Users\\mohammadreze\\AppData\\Local\\Temp\\ipykernel_4356\\3853490108.py:15: FutureWarning: Series.__getitem__ treating keys as positions is deprecated. In a future version, integer keys will always be treated as labels (consistent with DataFrame behavior). To access a value by position, use `ser.iloc[pos]`\n",
      "  df_InStoreWaitingTime_i.loc[j]=[np.mean(df_StationWaitingTime.loc[0][0]),np.mean(df_StationWaitingTime.loc[1][0]),np.mean(df_StationWaitingTime.loc[2][0]),np.mean(df_StationWaitingTime.loc[3][0])]\n",
      "C:\\Users\\mohammadreze\\AppData\\Local\\Temp\\ipykernel_4356\\3853490108.py:15: FutureWarning: Series.__getitem__ treating keys as positions is deprecated. In a future version, integer keys will always be treated as labels (consistent with DataFrame behavior). To access a value by position, use `ser.iloc[pos]`\n",
      "  df_InStoreWaitingTime_i.loc[j]=[np.mean(df_StationWaitingTime.loc[0][0]),np.mean(df_StationWaitingTime.loc[1][0]),np.mean(df_StationWaitingTime.loc[2][0]),np.mean(df_StationWaitingTime.loc[3][0])]\n",
      "C:\\Users\\mohammadreze\\AppData\\Local\\Temp\\ipykernel_4356\\3853490108.py:15: FutureWarning: Series.__getitem__ treating keys as positions is deprecated. In a future version, integer keys will always be treated as labels (consistent with DataFrame behavior). To access a value by position, use `ser.iloc[pos]`\n",
      "  df_InStoreWaitingTime_i.loc[j]=[np.mean(df_StationWaitingTime.loc[0][0]),np.mean(df_StationWaitingTime.loc[1][0]),np.mean(df_StationWaitingTime.loc[2][0]),np.mean(df_StationWaitingTime.loc[3][0])]\n",
      "C:\\Users\\mohammadreze\\AppData\\Local\\Temp\\ipykernel_4356\\3853490108.py:15: FutureWarning: Series.__getitem__ treating keys as positions is deprecated. In a future version, integer keys will always be treated as labels (consistent with DataFrame behavior). To access a value by position, use `ser.iloc[pos]`\n",
      "  df_InStoreWaitingTime_i.loc[j]=[np.mean(df_StationWaitingTime.loc[0][0]),np.mean(df_StationWaitingTime.loc[1][0]),np.mean(df_StationWaitingTime.loc[2][0]),np.mean(df_StationWaitingTime.loc[3][0])]\n",
      "C:\\Users\\mohammadreze\\AppData\\Local\\Temp\\ipykernel_4356\\3853490108.py:15: FutureWarning: Series.__getitem__ treating keys as positions is deprecated. In a future version, integer keys will always be treated as labels (consistent with DataFrame behavior). To access a value by position, use `ser.iloc[pos]`\n",
      "  df_InStoreWaitingTime_i.loc[j]=[np.mean(df_StationWaitingTime.loc[0][0]),np.mean(df_StationWaitingTime.loc[1][0]),np.mean(df_StationWaitingTime.loc[2][0]),np.mean(df_StationWaitingTime.loc[3][0])]\n",
      "C:\\Users\\mohammadreze\\AppData\\Local\\Temp\\ipykernel_4356\\3853490108.py:15: FutureWarning: Series.__getitem__ treating keys as positions is deprecated. In a future version, integer keys will always be treated as labels (consistent with DataFrame behavior). To access a value by position, use `ser.iloc[pos]`\n",
      "  df_InStoreWaitingTime_i.loc[j]=[np.mean(df_StationWaitingTime.loc[0][0]),np.mean(df_StationWaitingTime.loc[1][0]),np.mean(df_StationWaitingTime.loc[2][0]),np.mean(df_StationWaitingTime.loc[3][0])]\n",
      "C:\\Users\\mohammadreze\\AppData\\Local\\Temp\\ipykernel_4356\\3853490108.py:15: FutureWarning: Series.__getitem__ treating keys as positions is deprecated. In a future version, integer keys will always be treated as labels (consistent with DataFrame behavior). To access a value by position, use `ser.iloc[pos]`\n",
      "  df_InStoreWaitingTime_i.loc[j]=[np.mean(df_StationWaitingTime.loc[0][0]),np.mean(df_StationWaitingTime.loc[1][0]),np.mean(df_StationWaitingTime.loc[2][0]),np.mean(df_StationWaitingTime.loc[3][0])]\n",
      "C:\\Users\\mohammadreze\\AppData\\Local\\Temp\\ipykernel_4356\\3853490108.py:15: FutureWarning: Series.__getitem__ treating keys as positions is deprecated. In a future version, integer keys will always be treated as labels (consistent with DataFrame behavior). To access a value by position, use `ser.iloc[pos]`\n",
      "  df_InStoreWaitingTime_i.loc[j]=[np.mean(df_StationWaitingTime.loc[0][0]),np.mean(df_StationWaitingTime.loc[1][0]),np.mean(df_StationWaitingTime.loc[2][0]),np.mean(df_StationWaitingTime.loc[3][0])]\n",
      "C:\\Users\\mohammadreze\\AppData\\Local\\Temp\\ipykernel_4356\\3853490108.py:15: FutureWarning: Series.__getitem__ treating keys as positions is deprecated. In a future version, integer keys will always be treated as labels (consistent with DataFrame behavior). To access a value by position, use `ser.iloc[pos]`\n",
      "  df_InStoreWaitingTime_i.loc[j]=[np.mean(df_StationWaitingTime.loc[0][0]),np.mean(df_StationWaitingTime.loc[1][0]),np.mean(df_StationWaitingTime.loc[2][0]),np.mean(df_StationWaitingTime.loc[3][0])]\n",
      "C:\\Users\\mohammadreze\\AppData\\Local\\Temp\\ipykernel_4356\\3853490108.py:15: FutureWarning: Series.__getitem__ treating keys as positions is deprecated. In a future version, integer keys will always be treated as labels (consistent with DataFrame behavior). To access a value by position, use `ser.iloc[pos]`\n",
      "  df_InStoreWaitingTime_i.loc[j]=[np.mean(df_StationWaitingTime.loc[0][0]),np.mean(df_StationWaitingTime.loc[1][0]),np.mean(df_StationWaitingTime.loc[2][0]),np.mean(df_StationWaitingTime.loc[3][0])]\n",
      "C:\\Users\\mohammadreze\\AppData\\Local\\Temp\\ipykernel_4356\\3853490108.py:15: FutureWarning: Series.__getitem__ treating keys as positions is deprecated. In a future version, integer keys will always be treated as labels (consistent with DataFrame behavior). To access a value by position, use `ser.iloc[pos]`\n",
      "  df_InStoreWaitingTime_i.loc[j]=[np.mean(df_StationWaitingTime.loc[0][0]),np.mean(df_StationWaitingTime.loc[1][0]),np.mean(df_StationWaitingTime.loc[2][0]),np.mean(df_StationWaitingTime.loc[3][0])]\n",
      "C:\\Users\\mohammadreze\\AppData\\Local\\Temp\\ipykernel_4356\\3853490108.py:15: FutureWarning: Series.__getitem__ treating keys as positions is deprecated. In a future version, integer keys will always be treated as labels (consistent with DataFrame behavior). To access a value by position, use `ser.iloc[pos]`\n",
      "  df_InStoreWaitingTime_i.loc[j]=[np.mean(df_StationWaitingTime.loc[0][0]),np.mean(df_StationWaitingTime.loc[1][0]),np.mean(df_StationWaitingTime.loc[2][0]),np.mean(df_StationWaitingTime.loc[3][0])]\n",
      "C:\\Users\\mohammadreze\\AppData\\Local\\Temp\\ipykernel_4356\\3853490108.py:15: FutureWarning: Series.__getitem__ treating keys as positions is deprecated. In a future version, integer keys will always be treated as labels (consistent with DataFrame behavior). To access a value by position, use `ser.iloc[pos]`\n",
      "  df_InStoreWaitingTime_i.loc[j]=[np.mean(df_StationWaitingTime.loc[0][0]),np.mean(df_StationWaitingTime.loc[1][0]),np.mean(df_StationWaitingTime.loc[2][0]),np.mean(df_StationWaitingTime.loc[3][0])]\n",
      "C:\\Users\\mohammadreze\\AppData\\Local\\Temp\\ipykernel_4356\\3853490108.py:15: FutureWarning: Series.__getitem__ treating keys as positions is deprecated. In a future version, integer keys will always be treated as labels (consistent with DataFrame behavior). To access a value by position, use `ser.iloc[pos]`\n",
      "  df_InStoreWaitingTime_i.loc[j]=[np.mean(df_StationWaitingTime.loc[0][0]),np.mean(df_StationWaitingTime.loc[1][0]),np.mean(df_StationWaitingTime.loc[2][0]),np.mean(df_StationWaitingTime.loc[3][0])]\n",
      "C:\\Users\\mohammadreze\\AppData\\Local\\Temp\\ipykernel_4356\\3853490108.py:15: FutureWarning: Series.__getitem__ treating keys as positions is deprecated. In a future version, integer keys will always be treated as labels (consistent with DataFrame behavior). To access a value by position, use `ser.iloc[pos]`\n",
      "  df_InStoreWaitingTime_i.loc[j]=[np.mean(df_StationWaitingTime.loc[0][0]),np.mean(df_StationWaitingTime.loc[1][0]),np.mean(df_StationWaitingTime.loc[2][0]),np.mean(df_StationWaitingTime.loc[3][0])]\n",
      "C:\\Users\\mohammadreze\\AppData\\Local\\Temp\\ipykernel_4356\\3853490108.py:15: FutureWarning: Series.__getitem__ treating keys as positions is deprecated. In a future version, integer keys will always be treated as labels (consistent with DataFrame behavior). To access a value by position, use `ser.iloc[pos]`\n",
      "  df_InStoreWaitingTime_i.loc[j]=[np.mean(df_StationWaitingTime.loc[0][0]),np.mean(df_StationWaitingTime.loc[1][0]),np.mean(df_StationWaitingTime.loc[2][0]),np.mean(df_StationWaitingTime.loc[3][0])]\n",
      "C:\\Users\\mohammadreze\\AppData\\Local\\Temp\\ipykernel_4356\\3853490108.py:15: FutureWarning: Series.__getitem__ treating keys as positions is deprecated. In a future version, integer keys will always be treated as labels (consistent with DataFrame behavior). To access a value by position, use `ser.iloc[pos]`\n",
      "  df_InStoreWaitingTime_i.loc[j]=[np.mean(df_StationWaitingTime.loc[0][0]),np.mean(df_StationWaitingTime.loc[1][0]),np.mean(df_StationWaitingTime.loc[2][0]),np.mean(df_StationWaitingTime.loc[3][0])]\n",
      "C:\\Users\\mohammadreze\\AppData\\Local\\Temp\\ipykernel_4356\\3853490108.py:15: FutureWarning: Series.__getitem__ treating keys as positions is deprecated. In a future version, integer keys will always be treated as labels (consistent with DataFrame behavior). To access a value by position, use `ser.iloc[pos]`\n",
      "  df_InStoreWaitingTime_i.loc[j]=[np.mean(df_StationWaitingTime.loc[0][0]),np.mean(df_StationWaitingTime.loc[1][0]),np.mean(df_StationWaitingTime.loc[2][0]),np.mean(df_StationWaitingTime.loc[3][0])]\n",
      "C:\\Users\\mohammadreze\\AppData\\Local\\Temp\\ipykernel_4356\\3853490108.py:15: FutureWarning: Series.__getitem__ treating keys as positions is deprecated. In a future version, integer keys will always be treated as labels (consistent with DataFrame behavior). To access a value by position, use `ser.iloc[pos]`\n",
      "  df_InStoreWaitingTime_i.loc[j]=[np.mean(df_StationWaitingTime.loc[0][0]),np.mean(df_StationWaitingTime.loc[1][0]),np.mean(df_StationWaitingTime.loc[2][0]),np.mean(df_StationWaitingTime.loc[3][0])]\n",
      "C:\\Users\\mohammadreze\\AppData\\Local\\Temp\\ipykernel_4356\\3853490108.py:15: FutureWarning: Series.__getitem__ treating keys as positions is deprecated. In a future version, integer keys will always be treated as labels (consistent with DataFrame behavior). To access a value by position, use `ser.iloc[pos]`\n",
      "  df_InStoreWaitingTime_i.loc[j]=[np.mean(df_StationWaitingTime.loc[0][0]),np.mean(df_StationWaitingTime.loc[1][0]),np.mean(df_StationWaitingTime.loc[2][0]),np.mean(df_StationWaitingTime.loc[3][0])]\n",
      "C:\\Users\\mohammadreze\\AppData\\Local\\Temp\\ipykernel_4356\\3853490108.py:15: FutureWarning: Series.__getitem__ treating keys as positions is deprecated. In a future version, integer keys will always be treated as labels (consistent with DataFrame behavior). To access a value by position, use `ser.iloc[pos]`\n",
      "  df_InStoreWaitingTime_i.loc[j]=[np.mean(df_StationWaitingTime.loc[0][0]),np.mean(df_StationWaitingTime.loc[1][0]),np.mean(df_StationWaitingTime.loc[2][0]),np.mean(df_StationWaitingTime.loc[3][0])]\n",
      "C:\\Users\\mohammadreze\\AppData\\Local\\Temp\\ipykernel_4356\\3853490108.py:15: FutureWarning: Series.__getitem__ treating keys as positions is deprecated. In a future version, integer keys will always be treated as labels (consistent with DataFrame behavior). To access a value by position, use `ser.iloc[pos]`\n",
      "  df_InStoreWaitingTime_i.loc[j]=[np.mean(df_StationWaitingTime.loc[0][0]),np.mean(df_StationWaitingTime.loc[1][0]),np.mean(df_StationWaitingTime.loc[2][0]),np.mean(df_StationWaitingTime.loc[3][0])]\n",
      "C:\\Users\\mohammadreze\\AppData\\Local\\Temp\\ipykernel_4356\\3853490108.py:15: FutureWarning: Series.__getitem__ treating keys as positions is deprecated. In a future version, integer keys will always be treated as labels (consistent with DataFrame behavior). To access a value by position, use `ser.iloc[pos]`\n",
      "  df_InStoreWaitingTime_i.loc[j]=[np.mean(df_StationWaitingTime.loc[0][0]),np.mean(df_StationWaitingTime.loc[1][0]),np.mean(df_StationWaitingTime.loc[2][0]),np.mean(df_StationWaitingTime.loc[3][0])]\n",
      "C:\\Users\\mohammadreze\\AppData\\Local\\Temp\\ipykernel_4356\\3853490108.py:15: FutureWarning: Series.__getitem__ treating keys as positions is deprecated. In a future version, integer keys will always be treated as labels (consistent with DataFrame behavior). To access a value by position, use `ser.iloc[pos]`\n",
      "  df_InStoreWaitingTime_i.loc[j]=[np.mean(df_StationWaitingTime.loc[0][0]),np.mean(df_StationWaitingTime.loc[1][0]),np.mean(df_StationWaitingTime.loc[2][0]),np.mean(df_StationWaitingTime.loc[3][0])]\n",
      "C:\\Users\\mohammadreze\\AppData\\Local\\Temp\\ipykernel_4356\\3853490108.py:15: FutureWarning: Series.__getitem__ treating keys as positions is deprecated. In a future version, integer keys will always be treated as labels (consistent with DataFrame behavior). To access a value by position, use `ser.iloc[pos]`\n",
      "  df_InStoreWaitingTime_i.loc[j]=[np.mean(df_StationWaitingTime.loc[0][0]),np.mean(df_StationWaitingTime.loc[1][0]),np.mean(df_StationWaitingTime.loc[2][0]),np.mean(df_StationWaitingTime.loc[3][0])]\n",
      "C:\\Users\\mohammadreze\\AppData\\Local\\Temp\\ipykernel_4356\\3853490108.py:15: FutureWarning: Series.__getitem__ treating keys as positions is deprecated. In a future version, integer keys will always be treated as labels (consistent with DataFrame behavior). To access a value by position, use `ser.iloc[pos]`\n",
      "  df_InStoreWaitingTime_i.loc[j]=[np.mean(df_StationWaitingTime.loc[0][0]),np.mean(df_StationWaitingTime.loc[1][0]),np.mean(df_StationWaitingTime.loc[2][0]),np.mean(df_StationWaitingTime.loc[3][0])]\n",
      "C:\\Users\\mohammadreze\\AppData\\Local\\Temp\\ipykernel_4356\\3853490108.py:15: FutureWarning: Series.__getitem__ treating keys as positions is deprecated. In a future version, integer keys will always be treated as labels (consistent with DataFrame behavior). To access a value by position, use `ser.iloc[pos]`\n",
      "  df_InStoreWaitingTime_i.loc[j]=[np.mean(df_StationWaitingTime.loc[0][0]),np.mean(df_StationWaitingTime.loc[1][0]),np.mean(df_StationWaitingTime.loc[2][0]),np.mean(df_StationWaitingTime.loc[3][0])]\n",
      "C:\\Users\\mohammadreze\\AppData\\Local\\Temp\\ipykernel_4356\\3853490108.py:15: FutureWarning: Series.__getitem__ treating keys as positions is deprecated. In a future version, integer keys will always be treated as labels (consistent with DataFrame behavior). To access a value by position, use `ser.iloc[pos]`\n",
      "  df_InStoreWaitingTime_i.loc[j]=[np.mean(df_StationWaitingTime.loc[0][0]),np.mean(df_StationWaitingTime.loc[1][0]),np.mean(df_StationWaitingTime.loc[2][0]),np.mean(df_StationWaitingTime.loc[3][0])]\n",
      "C:\\Users\\mohammadreze\\AppData\\Local\\Temp\\ipykernel_4356\\3853490108.py:15: FutureWarning: Series.__getitem__ treating keys as positions is deprecated. In a future version, integer keys will always be treated as labels (consistent with DataFrame behavior). To access a value by position, use `ser.iloc[pos]`\n",
      "  df_InStoreWaitingTime_i.loc[j]=[np.mean(df_StationWaitingTime.loc[0][0]),np.mean(df_StationWaitingTime.loc[1][0]),np.mean(df_StationWaitingTime.loc[2][0]),np.mean(df_StationWaitingTime.loc[3][0])]\n",
      "C:\\Users\\mohammadreze\\AppData\\Local\\Temp\\ipykernel_4356\\3853490108.py:15: FutureWarning: Series.__getitem__ treating keys as positions is deprecated. In a future version, integer keys will always be treated as labels (consistent with DataFrame behavior). To access a value by position, use `ser.iloc[pos]`\n",
      "  df_InStoreWaitingTime_i.loc[j]=[np.mean(df_StationWaitingTime.loc[0][0]),np.mean(df_StationWaitingTime.loc[1][0]),np.mean(df_StationWaitingTime.loc[2][0]),np.mean(df_StationWaitingTime.loc[3][0])]\n",
      "C:\\Users\\mohammadreze\\AppData\\Local\\Temp\\ipykernel_4356\\3853490108.py:15: FutureWarning: Series.__getitem__ treating keys as positions is deprecated. In a future version, integer keys will always be treated as labels (consistent with DataFrame behavior). To access a value by position, use `ser.iloc[pos]`\n",
      "  df_InStoreWaitingTime_i.loc[j]=[np.mean(df_StationWaitingTime.loc[0][0]),np.mean(df_StationWaitingTime.loc[1][0]),np.mean(df_StationWaitingTime.loc[2][0]),np.mean(df_StationWaitingTime.loc[3][0])]\n",
      "C:\\Users\\mohammadreze\\AppData\\Local\\Temp\\ipykernel_4356\\3853490108.py:15: FutureWarning: Series.__getitem__ treating keys as positions is deprecated. In a future version, integer keys will always be treated as labels (consistent with DataFrame behavior). To access a value by position, use `ser.iloc[pos]`\n",
      "  df_InStoreWaitingTime_i.loc[j]=[np.mean(df_StationWaitingTime.loc[0][0]),np.mean(df_StationWaitingTime.loc[1][0]),np.mean(df_StationWaitingTime.loc[2][0]),np.mean(df_StationWaitingTime.loc[3][0])]\n",
      "C:\\Users\\mohammadreze\\AppData\\Local\\Temp\\ipykernel_4356\\3853490108.py:15: FutureWarning: Series.__getitem__ treating keys as positions is deprecated. In a future version, integer keys will always be treated as labels (consistent with DataFrame behavior). To access a value by position, use `ser.iloc[pos]`\n",
      "  df_InStoreWaitingTime_i.loc[j]=[np.mean(df_StationWaitingTime.loc[0][0]),np.mean(df_StationWaitingTime.loc[1][0]),np.mean(df_StationWaitingTime.loc[2][0]),np.mean(df_StationWaitingTime.loc[3][0])]\n",
      "C:\\Users\\mohammadreze\\AppData\\Local\\Temp\\ipykernel_4356\\3853490108.py:15: FutureWarning: Series.__getitem__ treating keys as positions is deprecated. In a future version, integer keys will always be treated as labels (consistent with DataFrame behavior). To access a value by position, use `ser.iloc[pos]`\n",
      "  df_InStoreWaitingTime_i.loc[j]=[np.mean(df_StationWaitingTime.loc[0][0]),np.mean(df_StationWaitingTime.loc[1][0]),np.mean(df_StationWaitingTime.loc[2][0]),np.mean(df_StationWaitingTime.loc[3][0])]\n",
      "C:\\Users\\mohammadreze\\AppData\\Local\\Temp\\ipykernel_4356\\3853490108.py:15: FutureWarning: Series.__getitem__ treating keys as positions is deprecated. In a future version, integer keys will always be treated as labels (consistent with DataFrame behavior). To access a value by position, use `ser.iloc[pos]`\n",
      "  df_InStoreWaitingTime_i.loc[j]=[np.mean(df_StationWaitingTime.loc[0][0]),np.mean(df_StationWaitingTime.loc[1][0]),np.mean(df_StationWaitingTime.loc[2][0]),np.mean(df_StationWaitingTime.loc[3][0])]\n",
      "C:\\Users\\mohammadreze\\AppData\\Local\\Temp\\ipykernel_4356\\3853490108.py:15: FutureWarning: Series.__getitem__ treating keys as positions is deprecated. In a future version, integer keys will always be treated as labels (consistent with DataFrame behavior). To access a value by position, use `ser.iloc[pos]`\n",
      "  df_InStoreWaitingTime_i.loc[j]=[np.mean(df_StationWaitingTime.loc[0][0]),np.mean(df_StationWaitingTime.loc[1][0]),np.mean(df_StationWaitingTime.loc[2][0]),np.mean(df_StationWaitingTime.loc[3][0])]\n",
      "C:\\Users\\mohammadreze\\AppData\\Local\\Temp\\ipykernel_4356\\3853490108.py:15: FutureWarning: Series.__getitem__ treating keys as positions is deprecated. In a future version, integer keys will always be treated as labels (consistent with DataFrame behavior). To access a value by position, use `ser.iloc[pos]`\n",
      "  df_InStoreWaitingTime_i.loc[j]=[np.mean(df_StationWaitingTime.loc[0][0]),np.mean(df_StationWaitingTime.loc[1][0]),np.mean(df_StationWaitingTime.loc[2][0]),np.mean(df_StationWaitingTime.loc[3][0])]\n",
      "C:\\Users\\mohammadreze\\AppData\\Local\\Temp\\ipykernel_4356\\3853490108.py:15: FutureWarning: Series.__getitem__ treating keys as positions is deprecated. In a future version, integer keys will always be treated as labels (consistent with DataFrame behavior). To access a value by position, use `ser.iloc[pos]`\n",
      "  df_InStoreWaitingTime_i.loc[j]=[np.mean(df_StationWaitingTime.loc[0][0]),np.mean(df_StationWaitingTime.loc[1][0]),np.mean(df_StationWaitingTime.loc[2][0]),np.mean(df_StationWaitingTime.loc[3][0])]\n",
      "C:\\Users\\mohammadreze\\AppData\\Local\\Temp\\ipykernel_4356\\3853490108.py:15: FutureWarning: Series.__getitem__ treating keys as positions is deprecated. In a future version, integer keys will always be treated as labels (consistent with DataFrame behavior). To access a value by position, use `ser.iloc[pos]`\n",
      "  df_InStoreWaitingTime_i.loc[j]=[np.mean(df_StationWaitingTime.loc[0][0]),np.mean(df_StationWaitingTime.loc[1][0]),np.mean(df_StationWaitingTime.loc[2][0]),np.mean(df_StationWaitingTime.loc[3][0])]\n",
      "C:\\Users\\mohammadreze\\AppData\\Local\\Temp\\ipykernel_4356\\3853490108.py:15: FutureWarning: Series.__getitem__ treating keys as positions is deprecated. In a future version, integer keys will always be treated as labels (consistent with DataFrame behavior). To access a value by position, use `ser.iloc[pos]`\n",
      "  df_InStoreWaitingTime_i.loc[j]=[np.mean(df_StationWaitingTime.loc[0][0]),np.mean(df_StationWaitingTime.loc[1][0]),np.mean(df_StationWaitingTime.loc[2][0]),np.mean(df_StationWaitingTime.loc[3][0])]\n",
      "C:\\Users\\mohammadreze\\AppData\\Local\\Temp\\ipykernel_4356\\3853490108.py:15: FutureWarning: Series.__getitem__ treating keys as positions is deprecated. In a future version, integer keys will always be treated as labels (consistent with DataFrame behavior). To access a value by position, use `ser.iloc[pos]`\n",
      "  df_InStoreWaitingTime_i.loc[j]=[np.mean(df_StationWaitingTime.loc[0][0]),np.mean(df_StationWaitingTime.loc[1][0]),np.mean(df_StationWaitingTime.loc[2][0]),np.mean(df_StationWaitingTime.loc[3][0])]\n",
      "C:\\Users\\mohammadreze\\AppData\\Local\\Temp\\ipykernel_4356\\3853490108.py:15: FutureWarning: Series.__getitem__ treating keys as positions is deprecated. In a future version, integer keys will always be treated as labels (consistent with DataFrame behavior). To access a value by position, use `ser.iloc[pos]`\n",
      "  df_InStoreWaitingTime_i.loc[j]=[np.mean(df_StationWaitingTime.loc[0][0]),np.mean(df_StationWaitingTime.loc[1][0]),np.mean(df_StationWaitingTime.loc[2][0]),np.mean(df_StationWaitingTime.loc[3][0])]\n",
      "C:\\Users\\mohammadreze\\AppData\\Local\\Temp\\ipykernel_4356\\3853490108.py:15: FutureWarning: Series.__getitem__ treating keys as positions is deprecated. In a future version, integer keys will always be treated as labels (consistent with DataFrame behavior). To access a value by position, use `ser.iloc[pos]`\n",
      "  df_InStoreWaitingTime_i.loc[j]=[np.mean(df_StationWaitingTime.loc[0][0]),np.mean(df_StationWaitingTime.loc[1][0]),np.mean(df_StationWaitingTime.loc[2][0]),np.mean(df_StationWaitingTime.loc[3][0])]\n",
      "C:\\Users\\mohammadreze\\AppData\\Local\\Temp\\ipykernel_4356\\3853490108.py:15: FutureWarning: Series.__getitem__ treating keys as positions is deprecated. In a future version, integer keys will always be treated as labels (consistent with DataFrame behavior). To access a value by position, use `ser.iloc[pos]`\n",
      "  df_InStoreWaitingTime_i.loc[j]=[np.mean(df_StationWaitingTime.loc[0][0]),np.mean(df_StationWaitingTime.loc[1][0]),np.mean(df_StationWaitingTime.loc[2][0]),np.mean(df_StationWaitingTime.loc[3][0])]\n",
      "C:\\Users\\mohammadreze\\AppData\\Local\\Temp\\ipykernel_4356\\3853490108.py:15: FutureWarning: Series.__getitem__ treating keys as positions is deprecated. In a future version, integer keys will always be treated as labels (consistent with DataFrame behavior). To access a value by position, use `ser.iloc[pos]`\n",
      "  df_InStoreWaitingTime_i.loc[j]=[np.mean(df_StationWaitingTime.loc[0][0]),np.mean(df_StationWaitingTime.loc[1][0]),np.mean(df_StationWaitingTime.loc[2][0]),np.mean(df_StationWaitingTime.loc[3][0])]\n",
      "C:\\Users\\mohammadreze\\AppData\\Local\\Temp\\ipykernel_4356\\3853490108.py:15: FutureWarning: Series.__getitem__ treating keys as positions is deprecated. In a future version, integer keys will always be treated as labels (consistent with DataFrame behavior). To access a value by position, use `ser.iloc[pos]`\n",
      "  df_InStoreWaitingTime_i.loc[j]=[np.mean(df_StationWaitingTime.loc[0][0]),np.mean(df_StationWaitingTime.loc[1][0]),np.mean(df_StationWaitingTime.loc[2][0]),np.mean(df_StationWaitingTime.loc[3][0])]\n",
      "C:\\Users\\mohammadreze\\AppData\\Local\\Temp\\ipykernel_4356\\3853490108.py:15: FutureWarning: Series.__getitem__ treating keys as positions is deprecated. In a future version, integer keys will always be treated as labels (consistent with DataFrame behavior). To access a value by position, use `ser.iloc[pos]`\n",
      "  df_InStoreWaitingTime_i.loc[j]=[np.mean(df_StationWaitingTime.loc[0][0]),np.mean(df_StationWaitingTime.loc[1][0]),np.mean(df_StationWaitingTime.loc[2][0]),np.mean(df_StationWaitingTime.loc[3][0])]\n",
      "C:\\Users\\mohammadreze\\AppData\\Local\\Temp\\ipykernel_4356\\3853490108.py:15: FutureWarning: Series.__getitem__ treating keys as positions is deprecated. In a future version, integer keys will always be treated as labels (consistent with DataFrame behavior). To access a value by position, use `ser.iloc[pos]`\n",
      "  df_InStoreWaitingTime_i.loc[j]=[np.mean(df_StationWaitingTime.loc[0][0]),np.mean(df_StationWaitingTime.loc[1][0]),np.mean(df_StationWaitingTime.loc[2][0]),np.mean(df_StationWaitingTime.loc[3][0])]\n",
      "C:\\Users\\mohammadreze\\AppData\\Local\\Temp\\ipykernel_4356\\3853490108.py:15: FutureWarning: Series.__getitem__ treating keys as positions is deprecated. In a future version, integer keys will always be treated as labels (consistent with DataFrame behavior). To access a value by position, use `ser.iloc[pos]`\n",
      "  df_InStoreWaitingTime_i.loc[j]=[np.mean(df_StationWaitingTime.loc[0][0]),np.mean(df_StationWaitingTime.loc[1][0]),np.mean(df_StationWaitingTime.loc[2][0]),np.mean(df_StationWaitingTime.loc[3][0])]\n",
      "C:\\Users\\mohammadreze\\AppData\\Local\\Temp\\ipykernel_4356\\3853490108.py:15: FutureWarning: Series.__getitem__ treating keys as positions is deprecated. In a future version, integer keys will always be treated as labels (consistent with DataFrame behavior). To access a value by position, use `ser.iloc[pos]`\n",
      "  df_InStoreWaitingTime_i.loc[j]=[np.mean(df_StationWaitingTime.loc[0][0]),np.mean(df_StationWaitingTime.loc[1][0]),np.mean(df_StationWaitingTime.loc[2][0]),np.mean(df_StationWaitingTime.loc[3][0])]\n",
      "C:\\Users\\mohammadreze\\AppData\\Local\\Temp\\ipykernel_4356\\3853490108.py:15: FutureWarning: Series.__getitem__ treating keys as positions is deprecated. In a future version, integer keys will always be treated as labels (consistent with DataFrame behavior). To access a value by position, use `ser.iloc[pos]`\n",
      "  df_InStoreWaitingTime_i.loc[j]=[np.mean(df_StationWaitingTime.loc[0][0]),np.mean(df_StationWaitingTime.loc[1][0]),np.mean(df_StationWaitingTime.loc[2][0]),np.mean(df_StationWaitingTime.loc[3][0])]\n",
      "C:\\Users\\mohammadreze\\AppData\\Local\\Temp\\ipykernel_4356\\3853490108.py:15: FutureWarning: Series.__getitem__ treating keys as positions is deprecated. In a future version, integer keys will always be treated as labels (consistent with DataFrame behavior). To access a value by position, use `ser.iloc[pos]`\n",
      "  df_InStoreWaitingTime_i.loc[j]=[np.mean(df_StationWaitingTime.loc[0][0]),np.mean(df_StationWaitingTime.loc[1][0]),np.mean(df_StationWaitingTime.loc[2][0]),np.mean(df_StationWaitingTime.loc[3][0])]\n",
      "C:\\Users\\mohammadreze\\AppData\\Local\\Temp\\ipykernel_4356\\3853490108.py:15: FutureWarning: Series.__getitem__ treating keys as positions is deprecated. In a future version, integer keys will always be treated as labels (consistent with DataFrame behavior). To access a value by position, use `ser.iloc[pos]`\n",
      "  df_InStoreWaitingTime_i.loc[j]=[np.mean(df_StationWaitingTime.loc[0][0]),np.mean(df_StationWaitingTime.loc[1][0]),np.mean(df_StationWaitingTime.loc[2][0]),np.mean(df_StationWaitingTime.loc[3][0])]\n",
      "C:\\Users\\mohammadreze\\AppData\\Local\\Temp\\ipykernel_4356\\3853490108.py:15: FutureWarning: Series.__getitem__ treating keys as positions is deprecated. In a future version, integer keys will always be treated as labels (consistent with DataFrame behavior). To access a value by position, use `ser.iloc[pos]`\n",
      "  df_InStoreWaitingTime_i.loc[j]=[np.mean(df_StationWaitingTime.loc[0][0]),np.mean(df_StationWaitingTime.loc[1][0]),np.mean(df_StationWaitingTime.loc[2][0]),np.mean(df_StationWaitingTime.loc[3][0])]\n",
      "C:\\Users\\mohammadreze\\AppData\\Local\\Temp\\ipykernel_4356\\3853490108.py:15: FutureWarning: Series.__getitem__ treating keys as positions is deprecated. In a future version, integer keys will always be treated as labels (consistent with DataFrame behavior). To access a value by position, use `ser.iloc[pos]`\n",
      "  df_InStoreWaitingTime_i.loc[j]=[np.mean(df_StationWaitingTime.loc[0][0]),np.mean(df_StationWaitingTime.loc[1][0]),np.mean(df_StationWaitingTime.loc[2][0]),np.mean(df_StationWaitingTime.loc[3][0])]\n",
      "C:\\Users\\mohammadreze\\AppData\\Local\\Temp\\ipykernel_4356\\3853490108.py:15: FutureWarning: Series.__getitem__ treating keys as positions is deprecated. In a future version, integer keys will always be treated as labels (consistent with DataFrame behavior). To access a value by position, use `ser.iloc[pos]`\n",
      "  df_InStoreWaitingTime_i.loc[j]=[np.mean(df_StationWaitingTime.loc[0][0]),np.mean(df_StationWaitingTime.loc[1][0]),np.mean(df_StationWaitingTime.loc[2][0]),np.mean(df_StationWaitingTime.loc[3][0])]\n",
      "C:\\Users\\mohammadreze\\AppData\\Local\\Temp\\ipykernel_4356\\3853490108.py:15: FutureWarning: Series.__getitem__ treating keys as positions is deprecated. In a future version, integer keys will always be treated as labels (consistent with DataFrame behavior). To access a value by position, use `ser.iloc[pos]`\n",
      "  df_InStoreWaitingTime_i.loc[j]=[np.mean(df_StationWaitingTime.loc[0][0]),np.mean(df_StationWaitingTime.loc[1][0]),np.mean(df_StationWaitingTime.loc[2][0]),np.mean(df_StationWaitingTime.loc[3][0])]\n",
      "C:\\Users\\mohammadreze\\AppData\\Local\\Temp\\ipykernel_4356\\3853490108.py:15: FutureWarning: Series.__getitem__ treating keys as positions is deprecated. In a future version, integer keys will always be treated as labels (consistent with DataFrame behavior). To access a value by position, use `ser.iloc[pos]`\n",
      "  df_InStoreWaitingTime_i.loc[j]=[np.mean(df_StationWaitingTime.loc[0][0]),np.mean(df_StationWaitingTime.loc[1][0]),np.mean(df_StationWaitingTime.loc[2][0]),np.mean(df_StationWaitingTime.loc[3][0])]\n",
      "C:\\Users\\mohammadreze\\AppData\\Local\\Temp\\ipykernel_4356\\3853490108.py:15: FutureWarning: Series.__getitem__ treating keys as positions is deprecated. In a future version, integer keys will always be treated as labels (consistent with DataFrame behavior). To access a value by position, use `ser.iloc[pos]`\n",
      "  df_InStoreWaitingTime_i.loc[j]=[np.mean(df_StationWaitingTime.loc[0][0]),np.mean(df_StationWaitingTime.loc[1][0]),np.mean(df_StationWaitingTime.loc[2][0]),np.mean(df_StationWaitingTime.loc[3][0])]\n",
      "C:\\Users\\mohammadreze\\AppData\\Local\\Temp\\ipykernel_4356\\3853490108.py:15: FutureWarning: Series.__getitem__ treating keys as positions is deprecated. In a future version, integer keys will always be treated as labels (consistent with DataFrame behavior). To access a value by position, use `ser.iloc[pos]`\n",
      "  df_InStoreWaitingTime_i.loc[j]=[np.mean(df_StationWaitingTime.loc[0][0]),np.mean(df_StationWaitingTime.loc[1][0]),np.mean(df_StationWaitingTime.loc[2][0]),np.mean(df_StationWaitingTime.loc[3][0])]\n",
      "C:\\Users\\mohammadreze\\AppData\\Local\\Temp\\ipykernel_4356\\3853490108.py:15: FutureWarning: Series.__getitem__ treating keys as positions is deprecated. In a future version, integer keys will always be treated as labels (consistent with DataFrame behavior). To access a value by position, use `ser.iloc[pos]`\n",
      "  df_InStoreWaitingTime_i.loc[j]=[np.mean(df_StationWaitingTime.loc[0][0]),np.mean(df_StationWaitingTime.loc[1][0]),np.mean(df_StationWaitingTime.loc[2][0]),np.mean(df_StationWaitingTime.loc[3][0])]\n",
      "C:\\Users\\mohammadreze\\AppData\\Local\\Temp\\ipykernel_4356\\3853490108.py:15: FutureWarning: Series.__getitem__ treating keys as positions is deprecated. In a future version, integer keys will always be treated as labels (consistent with DataFrame behavior). To access a value by position, use `ser.iloc[pos]`\n",
      "  df_InStoreWaitingTime_i.loc[j]=[np.mean(df_StationWaitingTime.loc[0][0]),np.mean(df_StationWaitingTime.loc[1][0]),np.mean(df_StationWaitingTime.loc[2][0]),np.mean(df_StationWaitingTime.loc[3][0])]\n",
      "C:\\Users\\mohammadreze\\AppData\\Local\\Temp\\ipykernel_4356\\3853490108.py:15: FutureWarning: Series.__getitem__ treating keys as positions is deprecated. In a future version, integer keys will always be treated as labels (consistent with DataFrame behavior). To access a value by position, use `ser.iloc[pos]`\n",
      "  df_InStoreWaitingTime_i.loc[j]=[np.mean(df_StationWaitingTime.loc[0][0]),np.mean(df_StationWaitingTime.loc[1][0]),np.mean(df_StationWaitingTime.loc[2][0]),np.mean(df_StationWaitingTime.loc[3][0])]\n",
      "C:\\Users\\mohammadreze\\AppData\\Local\\Temp\\ipykernel_4356\\3853490108.py:15: FutureWarning: Series.__getitem__ treating keys as positions is deprecated. In a future version, integer keys will always be treated as labels (consistent with DataFrame behavior). To access a value by position, use `ser.iloc[pos]`\n",
      "  df_InStoreWaitingTime_i.loc[j]=[np.mean(df_StationWaitingTime.loc[0][0]),np.mean(df_StationWaitingTime.loc[1][0]),np.mean(df_StationWaitingTime.loc[2][0]),np.mean(df_StationWaitingTime.loc[3][0])]\n",
      "C:\\Users\\mohammadreze\\AppData\\Local\\Temp\\ipykernel_4356\\3853490108.py:15: FutureWarning: Series.__getitem__ treating keys as positions is deprecated. In a future version, integer keys will always be treated as labels (consistent with DataFrame behavior). To access a value by position, use `ser.iloc[pos]`\n",
      "  df_InStoreWaitingTime_i.loc[j]=[np.mean(df_StationWaitingTime.loc[0][0]),np.mean(df_StationWaitingTime.loc[1][0]),np.mean(df_StationWaitingTime.loc[2][0]),np.mean(df_StationWaitingTime.loc[3][0])]\n",
      "C:\\Users\\mohammadreze\\AppData\\Local\\Temp\\ipykernel_4356\\3853490108.py:15: FutureWarning: Series.__getitem__ treating keys as positions is deprecated. In a future version, integer keys will always be treated as labels (consistent with DataFrame behavior). To access a value by position, use `ser.iloc[pos]`\n",
      "  df_InStoreWaitingTime_i.loc[j]=[np.mean(df_StationWaitingTime.loc[0][0]),np.mean(df_StationWaitingTime.loc[1][0]),np.mean(df_StationWaitingTime.loc[2][0]),np.mean(df_StationWaitingTime.loc[3][0])]\n",
      "C:\\Users\\mohammadreze\\AppData\\Local\\Temp\\ipykernel_4356\\3853490108.py:15: FutureWarning: Series.__getitem__ treating keys as positions is deprecated. In a future version, integer keys will always be treated as labels (consistent with DataFrame behavior). To access a value by position, use `ser.iloc[pos]`\n",
      "  df_InStoreWaitingTime_i.loc[j]=[np.mean(df_StationWaitingTime.loc[0][0]),np.mean(df_StationWaitingTime.loc[1][0]),np.mean(df_StationWaitingTime.loc[2][0]),np.mean(df_StationWaitingTime.loc[3][0])]\n",
      "C:\\Users\\mohammadreze\\AppData\\Local\\Temp\\ipykernel_4356\\3853490108.py:15: FutureWarning: Series.__getitem__ treating keys as positions is deprecated. In a future version, integer keys will always be treated as labels (consistent with DataFrame behavior). To access a value by position, use `ser.iloc[pos]`\n",
      "  df_InStoreWaitingTime_i.loc[j]=[np.mean(df_StationWaitingTime.loc[0][0]),np.mean(df_StationWaitingTime.loc[1][0]),np.mean(df_StationWaitingTime.loc[2][0]),np.mean(df_StationWaitingTime.loc[3][0])]\n",
      "C:\\Users\\mohammadreze\\AppData\\Local\\Temp\\ipykernel_4356\\3853490108.py:15: FutureWarning: Series.__getitem__ treating keys as positions is deprecated. In a future version, integer keys will always be treated as labels (consistent with DataFrame behavior). To access a value by position, use `ser.iloc[pos]`\n",
      "  df_InStoreWaitingTime_i.loc[j]=[np.mean(df_StationWaitingTime.loc[0][0]),np.mean(df_StationWaitingTime.loc[1][0]),np.mean(df_StationWaitingTime.loc[2][0]),np.mean(df_StationWaitingTime.loc[3][0])]\n",
      "C:\\Users\\mohammadreze\\AppData\\Local\\Temp\\ipykernel_4356\\3853490108.py:15: FutureWarning: Series.__getitem__ treating keys as positions is deprecated. In a future version, integer keys will always be treated as labels (consistent with DataFrame behavior). To access a value by position, use `ser.iloc[pos]`\n",
      "  df_InStoreWaitingTime_i.loc[j]=[np.mean(df_StationWaitingTime.loc[0][0]),np.mean(df_StationWaitingTime.loc[1][0]),np.mean(df_StationWaitingTime.loc[2][0]),np.mean(df_StationWaitingTime.loc[3][0])]\n",
      "C:\\Users\\mohammadreze\\AppData\\Local\\Temp\\ipykernel_4356\\3853490108.py:15: FutureWarning: Series.__getitem__ treating keys as positions is deprecated. In a future version, integer keys will always be treated as labels (consistent with DataFrame behavior). To access a value by position, use `ser.iloc[pos]`\n",
      "  df_InStoreWaitingTime_i.loc[j]=[np.mean(df_StationWaitingTime.loc[0][0]),np.mean(df_StationWaitingTime.loc[1][0]),np.mean(df_StationWaitingTime.loc[2][0]),np.mean(df_StationWaitingTime.loc[3][0])]\n",
      "C:\\Users\\mohammadreze\\AppData\\Local\\Temp\\ipykernel_4356\\3853490108.py:15: FutureWarning: Series.__getitem__ treating keys as positions is deprecated. In a future version, integer keys will always be treated as labels (consistent with DataFrame behavior). To access a value by position, use `ser.iloc[pos]`\n",
      "  df_InStoreWaitingTime_i.loc[j]=[np.mean(df_StationWaitingTime.loc[0][0]),np.mean(df_StationWaitingTime.loc[1][0]),np.mean(df_StationWaitingTime.loc[2][0]),np.mean(df_StationWaitingTime.loc[3][0])]\n",
      "C:\\Users\\mohammadreze\\AppData\\Local\\Temp\\ipykernel_4356\\3853490108.py:15: FutureWarning: Series.__getitem__ treating keys as positions is deprecated. In a future version, integer keys will always be treated as labels (consistent with DataFrame behavior). To access a value by position, use `ser.iloc[pos]`\n",
      "  df_InStoreWaitingTime_i.loc[j]=[np.mean(df_StationWaitingTime.loc[0][0]),np.mean(df_StationWaitingTime.loc[1][0]),np.mean(df_StationWaitingTime.loc[2][0]),np.mean(df_StationWaitingTime.loc[3][0])]\n",
      "C:\\Users\\mohammadreze\\AppData\\Local\\Temp\\ipykernel_4356\\3853490108.py:15: FutureWarning: Series.__getitem__ treating keys as positions is deprecated. In a future version, integer keys will always be treated as labels (consistent with DataFrame behavior). To access a value by position, use `ser.iloc[pos]`\n",
      "  df_InStoreWaitingTime_i.loc[j]=[np.mean(df_StationWaitingTime.loc[0][0]),np.mean(df_StationWaitingTime.loc[1][0]),np.mean(df_StationWaitingTime.loc[2][0]),np.mean(df_StationWaitingTime.loc[3][0])]\n",
      "C:\\Users\\mohammadreze\\AppData\\Local\\Temp\\ipykernel_4356\\3853490108.py:15: FutureWarning: Series.__getitem__ treating keys as positions is deprecated. In a future version, integer keys will always be treated as labels (consistent with DataFrame behavior). To access a value by position, use `ser.iloc[pos]`\n",
      "  df_InStoreWaitingTime_i.loc[j]=[np.mean(df_StationWaitingTime.loc[0][0]),np.mean(df_StationWaitingTime.loc[1][0]),np.mean(df_StationWaitingTime.loc[2][0]),np.mean(df_StationWaitingTime.loc[3][0])]\n",
      "C:\\Users\\mohammadreze\\AppData\\Local\\Temp\\ipykernel_4356\\3853490108.py:15: FutureWarning: Series.__getitem__ treating keys as positions is deprecated. In a future version, integer keys will always be treated as labels (consistent with DataFrame behavior). To access a value by position, use `ser.iloc[pos]`\n",
      "  df_InStoreWaitingTime_i.loc[j]=[np.mean(df_StationWaitingTime.loc[0][0]),np.mean(df_StationWaitingTime.loc[1][0]),np.mean(df_StationWaitingTime.loc[2][0]),np.mean(df_StationWaitingTime.loc[3][0])]\n",
      "C:\\Users\\mohammadreze\\AppData\\Local\\Temp\\ipykernel_4356\\3853490108.py:15: FutureWarning: Series.__getitem__ treating keys as positions is deprecated. In a future version, integer keys will always be treated as labels (consistent with DataFrame behavior). To access a value by position, use `ser.iloc[pos]`\n",
      "  df_InStoreWaitingTime_i.loc[j]=[np.mean(df_StationWaitingTime.loc[0][0]),np.mean(df_StationWaitingTime.loc[1][0]),np.mean(df_StationWaitingTime.loc[2][0]),np.mean(df_StationWaitingTime.loc[3][0])]\n",
      "C:\\Users\\mohammadreze\\AppData\\Local\\Temp\\ipykernel_4356\\3853490108.py:15: FutureWarning: Series.__getitem__ treating keys as positions is deprecated. In a future version, integer keys will always be treated as labels (consistent with DataFrame behavior). To access a value by position, use `ser.iloc[pos]`\n",
      "  df_InStoreWaitingTime_i.loc[j]=[np.mean(df_StationWaitingTime.loc[0][0]),np.mean(df_StationWaitingTime.loc[1][0]),np.mean(df_StationWaitingTime.loc[2][0]),np.mean(df_StationWaitingTime.loc[3][0])]\n",
      "C:\\Users\\mohammadreze\\AppData\\Local\\Temp\\ipykernel_4356\\3853490108.py:15: FutureWarning: Series.__getitem__ treating keys as positions is deprecated. In a future version, integer keys will always be treated as labels (consistent with DataFrame behavior). To access a value by position, use `ser.iloc[pos]`\n",
      "  df_InStoreWaitingTime_i.loc[j]=[np.mean(df_StationWaitingTime.loc[0][0]),np.mean(df_StationWaitingTime.loc[1][0]),np.mean(df_StationWaitingTime.loc[2][0]),np.mean(df_StationWaitingTime.loc[3][0])]\n",
      "C:\\Users\\mohammadreze\\AppData\\Local\\Temp\\ipykernel_4356\\3853490108.py:15: FutureWarning: Series.__getitem__ treating keys as positions is deprecated. In a future version, integer keys will always be treated as labels (consistent with DataFrame behavior). To access a value by position, use `ser.iloc[pos]`\n",
      "  df_InStoreWaitingTime_i.loc[j]=[np.mean(df_StationWaitingTime.loc[0][0]),np.mean(df_StationWaitingTime.loc[1][0]),np.mean(df_StationWaitingTime.loc[2][0]),np.mean(df_StationWaitingTime.loc[3][0])]\n",
      "C:\\Users\\mohammadreze\\AppData\\Local\\Temp\\ipykernel_4356\\3853490108.py:15: FutureWarning: Series.__getitem__ treating keys as positions is deprecated. In a future version, integer keys will always be treated as labels (consistent with DataFrame behavior). To access a value by position, use `ser.iloc[pos]`\n",
      "  df_InStoreWaitingTime_i.loc[j]=[np.mean(df_StationWaitingTime.loc[0][0]),np.mean(df_StationWaitingTime.loc[1][0]),np.mean(df_StationWaitingTime.loc[2][0]),np.mean(df_StationWaitingTime.loc[3][0])]\n",
      "C:\\Users\\mohammadreze\\AppData\\Local\\Temp\\ipykernel_4356\\3853490108.py:15: FutureWarning: Series.__getitem__ treating keys as positions is deprecated. In a future version, integer keys will always be treated as labels (consistent with DataFrame behavior). To access a value by position, use `ser.iloc[pos]`\n",
      "  df_InStoreWaitingTime_i.loc[j]=[np.mean(df_StationWaitingTime.loc[0][0]),np.mean(df_StationWaitingTime.loc[1][0]),np.mean(df_StationWaitingTime.loc[2][0]),np.mean(df_StationWaitingTime.loc[3][0])]\n",
      "C:\\Users\\mohammadreze\\AppData\\Local\\Temp\\ipykernel_4356\\3853490108.py:15: FutureWarning: Series.__getitem__ treating keys as positions is deprecated. In a future version, integer keys will always be treated as labels (consistent with DataFrame behavior). To access a value by position, use `ser.iloc[pos]`\n",
      "  df_InStoreWaitingTime_i.loc[j]=[np.mean(df_StationWaitingTime.loc[0][0]),np.mean(df_StationWaitingTime.loc[1][0]),np.mean(df_StationWaitingTime.loc[2][0]),np.mean(df_StationWaitingTime.loc[3][0])]\n",
      "C:\\Users\\mohammadreze\\AppData\\Local\\Temp\\ipykernel_4356\\3853490108.py:15: FutureWarning: Series.__getitem__ treating keys as positions is deprecated. In a future version, integer keys will always be treated as labels (consistent with DataFrame behavior). To access a value by position, use `ser.iloc[pos]`\n",
      "  df_InStoreWaitingTime_i.loc[j]=[np.mean(df_StationWaitingTime.loc[0][0]),np.mean(df_StationWaitingTime.loc[1][0]),np.mean(df_StationWaitingTime.loc[2][0]),np.mean(df_StationWaitingTime.loc[3][0])]\n",
      "C:\\Users\\mohammadreze\\AppData\\Local\\Temp\\ipykernel_4356\\3853490108.py:15: FutureWarning: Series.__getitem__ treating keys as positions is deprecated. In a future version, integer keys will always be treated as labels (consistent with DataFrame behavior). To access a value by position, use `ser.iloc[pos]`\n",
      "  df_InStoreWaitingTime_i.loc[j]=[np.mean(df_StationWaitingTime.loc[0][0]),np.mean(df_StationWaitingTime.loc[1][0]),np.mean(df_StationWaitingTime.loc[2][0]),np.mean(df_StationWaitingTime.loc[3][0])]\n",
      "C:\\Users\\mohammadreze\\AppData\\Local\\Temp\\ipykernel_4356\\3853490108.py:15: FutureWarning: Series.__getitem__ treating keys as positions is deprecated. In a future version, integer keys will always be treated as labels (consistent with DataFrame behavior). To access a value by position, use `ser.iloc[pos]`\n",
      "  df_InStoreWaitingTime_i.loc[j]=[np.mean(df_StationWaitingTime.loc[0][0]),np.mean(df_StationWaitingTime.loc[1][0]),np.mean(df_StationWaitingTime.loc[2][0]),np.mean(df_StationWaitingTime.loc[3][0])]\n",
      "C:\\Users\\mohammadreze\\AppData\\Local\\Temp\\ipykernel_4356\\3853490108.py:15: FutureWarning: Series.__getitem__ treating keys as positions is deprecated. In a future version, integer keys will always be treated as labels (consistent with DataFrame behavior). To access a value by position, use `ser.iloc[pos]`\n",
      "  df_InStoreWaitingTime_i.loc[j]=[np.mean(df_StationWaitingTime.loc[0][0]),np.mean(df_StationWaitingTime.loc[1][0]),np.mean(df_StationWaitingTime.loc[2][0]),np.mean(df_StationWaitingTime.loc[3][0])]\n",
      "C:\\Users\\mohammadreze\\AppData\\Local\\Temp\\ipykernel_4356\\3853490108.py:15: FutureWarning: Series.__getitem__ treating keys as positions is deprecated. In a future version, integer keys will always be treated as labels (consistent with DataFrame behavior). To access a value by position, use `ser.iloc[pos]`\n",
      "  df_InStoreWaitingTime_i.loc[j]=[np.mean(df_StationWaitingTime.loc[0][0]),np.mean(df_StationWaitingTime.loc[1][0]),np.mean(df_StationWaitingTime.loc[2][0]),np.mean(df_StationWaitingTime.loc[3][0])]\n",
      "C:\\Users\\mohammadreze\\AppData\\Local\\Temp\\ipykernel_4356\\3853490108.py:15: FutureWarning: Series.__getitem__ treating keys as positions is deprecated. In a future version, integer keys will always be treated as labels (consistent with DataFrame behavior). To access a value by position, use `ser.iloc[pos]`\n",
      "  df_InStoreWaitingTime_i.loc[j]=[np.mean(df_StationWaitingTime.loc[0][0]),np.mean(df_StationWaitingTime.loc[1][0]),np.mean(df_StationWaitingTime.loc[2][0]),np.mean(df_StationWaitingTime.loc[3][0])]\n",
      "C:\\Users\\mohammadreze\\AppData\\Local\\Temp\\ipykernel_4356\\3853490108.py:15: FutureWarning: Series.__getitem__ treating keys as positions is deprecated. In a future version, integer keys will always be treated as labels (consistent with DataFrame behavior). To access a value by position, use `ser.iloc[pos]`\n",
      "  df_InStoreWaitingTime_i.loc[j]=[np.mean(df_StationWaitingTime.loc[0][0]),np.mean(df_StationWaitingTime.loc[1][0]),np.mean(df_StationWaitingTime.loc[2][0]),np.mean(df_StationWaitingTime.loc[3][0])]\n",
      "C:\\Users\\mohammadreze\\AppData\\Local\\Temp\\ipykernel_4356\\3853490108.py:15: FutureWarning: Series.__getitem__ treating keys as positions is deprecated. In a future version, integer keys will always be treated as labels (consistent with DataFrame behavior). To access a value by position, use `ser.iloc[pos]`\n",
      "  df_InStoreWaitingTime_i.loc[j]=[np.mean(df_StationWaitingTime.loc[0][0]),np.mean(df_StationWaitingTime.loc[1][0]),np.mean(df_StationWaitingTime.loc[2][0]),np.mean(df_StationWaitingTime.loc[3][0])]\n",
      "C:\\Users\\mohammadreze\\AppData\\Local\\Temp\\ipykernel_4356\\3853490108.py:15: FutureWarning: Series.__getitem__ treating keys as positions is deprecated. In a future version, integer keys will always be treated as labels (consistent with DataFrame behavior). To access a value by position, use `ser.iloc[pos]`\n",
      "  df_InStoreWaitingTime_i.loc[j]=[np.mean(df_StationWaitingTime.loc[0][0]),np.mean(df_StationWaitingTime.loc[1][0]),np.mean(df_StationWaitingTime.loc[2][0]),np.mean(df_StationWaitingTime.loc[3][0])]\n",
      "C:\\Users\\mohammadreze\\AppData\\Local\\Temp\\ipykernel_4356\\3853490108.py:15: FutureWarning: Series.__getitem__ treating keys as positions is deprecated. In a future version, integer keys will always be treated as labels (consistent with DataFrame behavior). To access a value by position, use `ser.iloc[pos]`\n",
      "  df_InStoreWaitingTime_i.loc[j]=[np.mean(df_StationWaitingTime.loc[0][0]),np.mean(df_StationWaitingTime.loc[1][0]),np.mean(df_StationWaitingTime.loc[2][0]),np.mean(df_StationWaitingTime.loc[3][0])]\n",
      "C:\\Users\\mohammadreze\\AppData\\Local\\Temp\\ipykernel_4356\\3853490108.py:15: FutureWarning: Series.__getitem__ treating keys as positions is deprecated. In a future version, integer keys will always be treated as labels (consistent with DataFrame behavior). To access a value by position, use `ser.iloc[pos]`\n",
      "  df_InStoreWaitingTime_i.loc[j]=[np.mean(df_StationWaitingTime.loc[0][0]),np.mean(df_StationWaitingTime.loc[1][0]),np.mean(df_StationWaitingTime.loc[2][0]),np.mean(df_StationWaitingTime.loc[3][0])]\n",
      "C:\\Users\\mohammadreze\\AppData\\Local\\Temp\\ipykernel_4356\\3853490108.py:15: FutureWarning: Series.__getitem__ treating keys as positions is deprecated. In a future version, integer keys will always be treated as labels (consistent with DataFrame behavior). To access a value by position, use `ser.iloc[pos]`\n",
      "  df_InStoreWaitingTime_i.loc[j]=[np.mean(df_StationWaitingTime.loc[0][0]),np.mean(df_StationWaitingTime.loc[1][0]),np.mean(df_StationWaitingTime.loc[2][0]),np.mean(df_StationWaitingTime.loc[3][0])]\n",
      "C:\\Users\\mohammadreze\\AppData\\Local\\Temp\\ipykernel_4356\\3853490108.py:15: FutureWarning: Series.__getitem__ treating keys as positions is deprecated. In a future version, integer keys will always be treated as labels (consistent with DataFrame behavior). To access a value by position, use `ser.iloc[pos]`\n",
      "  df_InStoreWaitingTime_i.loc[j]=[np.mean(df_StationWaitingTime.loc[0][0]),np.mean(df_StationWaitingTime.loc[1][0]),np.mean(df_StationWaitingTime.loc[2][0]),np.mean(df_StationWaitingTime.loc[3][0])]\n",
      "C:\\Users\\mohammadreze\\AppData\\Local\\Temp\\ipykernel_4356\\3853490108.py:15: FutureWarning: Series.__getitem__ treating keys as positions is deprecated. In a future version, integer keys will always be treated as labels (consistent with DataFrame behavior). To access a value by position, use `ser.iloc[pos]`\n",
      "  df_InStoreWaitingTime_i.loc[j]=[np.mean(df_StationWaitingTime.loc[0][0]),np.mean(df_StationWaitingTime.loc[1][0]),np.mean(df_StationWaitingTime.loc[2][0]),np.mean(df_StationWaitingTime.loc[3][0])]\n",
      "C:\\Users\\mohammadreze\\AppData\\Local\\Temp\\ipykernel_4356\\3853490108.py:15: FutureWarning: Series.__getitem__ treating keys as positions is deprecated. In a future version, integer keys will always be treated as labels (consistent with DataFrame behavior). To access a value by position, use `ser.iloc[pos]`\n",
      "  df_InStoreWaitingTime_i.loc[j]=[np.mean(df_StationWaitingTime.loc[0][0]),np.mean(df_StationWaitingTime.loc[1][0]),np.mean(df_StationWaitingTime.loc[2][0]),np.mean(df_StationWaitingTime.loc[3][0])]\n",
      "C:\\Users\\mohammadreze\\AppData\\Local\\Temp\\ipykernel_4356\\3853490108.py:15: FutureWarning: Series.__getitem__ treating keys as positions is deprecated. In a future version, integer keys will always be treated as labels (consistent with DataFrame behavior). To access a value by position, use `ser.iloc[pos]`\n",
      "  df_InStoreWaitingTime_i.loc[j]=[np.mean(df_StationWaitingTime.loc[0][0]),np.mean(df_StationWaitingTime.loc[1][0]),np.mean(df_StationWaitingTime.loc[2][0]),np.mean(df_StationWaitingTime.loc[3][0])]\n",
      "C:\\Users\\mohammadreze\\AppData\\Local\\Temp\\ipykernel_4356\\3853490108.py:15: FutureWarning: Series.__getitem__ treating keys as positions is deprecated. In a future version, integer keys will always be treated as labels (consistent with DataFrame behavior). To access a value by position, use `ser.iloc[pos]`\n",
      "  df_InStoreWaitingTime_i.loc[j]=[np.mean(df_StationWaitingTime.loc[0][0]),np.mean(df_StationWaitingTime.loc[1][0]),np.mean(df_StationWaitingTime.loc[2][0]),np.mean(df_StationWaitingTime.loc[3][0])]\n",
      "C:\\Users\\mohammadreze\\AppData\\Local\\Temp\\ipykernel_4356\\3853490108.py:15: FutureWarning: Series.__getitem__ treating keys as positions is deprecated. In a future version, integer keys will always be treated as labels (consistent with DataFrame behavior). To access a value by position, use `ser.iloc[pos]`\n",
      "  df_InStoreWaitingTime_i.loc[j]=[np.mean(df_StationWaitingTime.loc[0][0]),np.mean(df_StationWaitingTime.loc[1][0]),np.mean(df_StationWaitingTime.loc[2][0]),np.mean(df_StationWaitingTime.loc[3][0])]\n",
      "C:\\Users\\mohammadreze\\AppData\\Local\\Temp\\ipykernel_4356\\3853490108.py:15: FutureWarning: Series.__getitem__ treating keys as positions is deprecated. In a future version, integer keys will always be treated as labels (consistent with DataFrame behavior). To access a value by position, use `ser.iloc[pos]`\n",
      "  df_InStoreWaitingTime_i.loc[j]=[np.mean(df_StationWaitingTime.loc[0][0]),np.mean(df_StationWaitingTime.loc[1][0]),np.mean(df_StationWaitingTime.loc[2][0]),np.mean(df_StationWaitingTime.loc[3][0])]\n",
      "C:\\Users\\mohammadreze\\AppData\\Local\\Temp\\ipykernel_4356\\3853490108.py:15: FutureWarning: Series.__getitem__ treating keys as positions is deprecated. In a future version, integer keys will always be treated as labels (consistent with DataFrame behavior). To access a value by position, use `ser.iloc[pos]`\n",
      "  df_InStoreWaitingTime_i.loc[j]=[np.mean(df_StationWaitingTime.loc[0][0]),np.mean(df_StationWaitingTime.loc[1][0]),np.mean(df_StationWaitingTime.loc[2][0]),np.mean(df_StationWaitingTime.loc[3][0])]\n",
      "C:\\Users\\mohammadreze\\AppData\\Local\\Temp\\ipykernel_4356\\3853490108.py:15: FutureWarning: Series.__getitem__ treating keys as positions is deprecated. In a future version, integer keys will always be treated as labels (consistent with DataFrame behavior). To access a value by position, use `ser.iloc[pos]`\n",
      "  df_InStoreWaitingTime_i.loc[j]=[np.mean(df_StationWaitingTime.loc[0][0]),np.mean(df_StationWaitingTime.loc[1][0]),np.mean(df_StationWaitingTime.loc[2][0]),np.mean(df_StationWaitingTime.loc[3][0])]\n",
      "C:\\Users\\mohammadreze\\AppData\\Local\\Temp\\ipykernel_4356\\3853490108.py:15: FutureWarning: Series.__getitem__ treating keys as positions is deprecated. In a future version, integer keys will always be treated as labels (consistent with DataFrame behavior). To access a value by position, use `ser.iloc[pos]`\n",
      "  df_InStoreWaitingTime_i.loc[j]=[np.mean(df_StationWaitingTime.loc[0][0]),np.mean(df_StationWaitingTime.loc[1][0]),np.mean(df_StationWaitingTime.loc[2][0]),np.mean(df_StationWaitingTime.loc[3][0])]\n",
      "C:\\Users\\mohammadreze\\AppData\\Local\\Temp\\ipykernel_4356\\3853490108.py:15: FutureWarning: Series.__getitem__ treating keys as positions is deprecated. In a future version, integer keys will always be treated as labels (consistent with DataFrame behavior). To access a value by position, use `ser.iloc[pos]`\n",
      "  df_InStoreWaitingTime_i.loc[j]=[np.mean(df_StationWaitingTime.loc[0][0]),np.mean(df_StationWaitingTime.loc[1][0]),np.mean(df_StationWaitingTime.loc[2][0]),np.mean(df_StationWaitingTime.loc[3][0])]\n",
      "C:\\Users\\mohammadreze\\AppData\\Local\\Temp\\ipykernel_4356\\3853490108.py:15: FutureWarning: Series.__getitem__ treating keys as positions is deprecated. In a future version, integer keys will always be treated as labels (consistent with DataFrame behavior). To access a value by position, use `ser.iloc[pos]`\n",
      "  df_InStoreWaitingTime_i.loc[j]=[np.mean(df_StationWaitingTime.loc[0][0]),np.mean(df_StationWaitingTime.loc[1][0]),np.mean(df_StationWaitingTime.loc[2][0]),np.mean(df_StationWaitingTime.loc[3][0])]\n",
      "C:\\Users\\mohammadreze\\AppData\\Local\\Temp\\ipykernel_4356\\3853490108.py:15: FutureWarning: Series.__getitem__ treating keys as positions is deprecated. In a future version, integer keys will always be treated as labels (consistent with DataFrame behavior). To access a value by position, use `ser.iloc[pos]`\n",
      "  df_InStoreWaitingTime_i.loc[j]=[np.mean(df_StationWaitingTime.loc[0][0]),np.mean(df_StationWaitingTime.loc[1][0]),np.mean(df_StationWaitingTime.loc[2][0]),np.mean(df_StationWaitingTime.loc[3][0])]\n",
      "C:\\Users\\mohammadreze\\AppData\\Local\\Temp\\ipykernel_4356\\3853490108.py:15: FutureWarning: Series.__getitem__ treating keys as positions is deprecated. In a future version, integer keys will always be treated as labels (consistent with DataFrame behavior). To access a value by position, use `ser.iloc[pos]`\n",
      "  df_InStoreWaitingTime_i.loc[j]=[np.mean(df_StationWaitingTime.loc[0][0]),np.mean(df_StationWaitingTime.loc[1][0]),np.mean(df_StationWaitingTime.loc[2][0]),np.mean(df_StationWaitingTime.loc[3][0])]\n",
      "C:\\Users\\mohammadreze\\AppData\\Local\\Temp\\ipykernel_4356\\3853490108.py:15: FutureWarning: Series.__getitem__ treating keys as positions is deprecated. In a future version, integer keys will always be treated as labels (consistent with DataFrame behavior). To access a value by position, use `ser.iloc[pos]`\n",
      "  df_InStoreWaitingTime_i.loc[j]=[np.mean(df_StationWaitingTime.loc[0][0]),np.mean(df_StationWaitingTime.loc[1][0]),np.mean(df_StationWaitingTime.loc[2][0]),np.mean(df_StationWaitingTime.loc[3][0])]\n",
      "C:\\Users\\mohammadreze\\AppData\\Local\\Temp\\ipykernel_4356\\3853490108.py:15: FutureWarning: Series.__getitem__ treating keys as positions is deprecated. In a future version, integer keys will always be treated as labels (consistent with DataFrame behavior). To access a value by position, use `ser.iloc[pos]`\n",
      "  df_InStoreWaitingTime_i.loc[j]=[np.mean(df_StationWaitingTime.loc[0][0]),np.mean(df_StationWaitingTime.loc[1][0]),np.mean(df_StationWaitingTime.loc[2][0]),np.mean(df_StationWaitingTime.loc[3][0])]\n",
      "C:\\Users\\mohammadreze\\AppData\\Local\\Temp\\ipykernel_4356\\3853490108.py:15: FutureWarning: Series.__getitem__ treating keys as positions is deprecated. In a future version, integer keys will always be treated as labels (consistent with DataFrame behavior). To access a value by position, use `ser.iloc[pos]`\n",
      "  df_InStoreWaitingTime_i.loc[j]=[np.mean(df_StationWaitingTime.loc[0][0]),np.mean(df_StationWaitingTime.loc[1][0]),np.mean(df_StationWaitingTime.loc[2][0]),np.mean(df_StationWaitingTime.loc[3][0])]\n",
      "C:\\Users\\mohammadreze\\AppData\\Local\\Temp\\ipykernel_4356\\3853490108.py:15: FutureWarning: Series.__getitem__ treating keys as positions is deprecated. In a future version, integer keys will always be treated as labels (consistent with DataFrame behavior). To access a value by position, use `ser.iloc[pos]`\n",
      "  df_InStoreWaitingTime_i.loc[j]=[np.mean(df_StationWaitingTime.loc[0][0]),np.mean(df_StationWaitingTime.loc[1][0]),np.mean(df_StationWaitingTime.loc[2][0]),np.mean(df_StationWaitingTime.loc[3][0])]\n",
      "C:\\Users\\mohammadreze\\AppData\\Local\\Temp\\ipykernel_4356\\3853490108.py:15: FutureWarning: Series.__getitem__ treating keys as positions is deprecated. In a future version, integer keys will always be treated as labels (consistent with DataFrame behavior). To access a value by position, use `ser.iloc[pos]`\n",
      "  df_InStoreWaitingTime_i.loc[j]=[np.mean(df_StationWaitingTime.loc[0][0]),np.mean(df_StationWaitingTime.loc[1][0]),np.mean(df_StationWaitingTime.loc[2][0]),np.mean(df_StationWaitingTime.loc[3][0])]\n",
      "C:\\Users\\mohammadreze\\AppData\\Local\\Temp\\ipykernel_4356\\3853490108.py:15: FutureWarning: Series.__getitem__ treating keys as positions is deprecated. In a future version, integer keys will always be treated as labels (consistent with DataFrame behavior). To access a value by position, use `ser.iloc[pos]`\n",
      "  df_InStoreWaitingTime_i.loc[j]=[np.mean(df_StationWaitingTime.loc[0][0]),np.mean(df_StationWaitingTime.loc[1][0]),np.mean(df_StationWaitingTime.loc[2][0]),np.mean(df_StationWaitingTime.loc[3][0])]\n",
      "C:\\Users\\mohammadreze\\AppData\\Local\\Temp\\ipykernel_4356\\3853490108.py:15: FutureWarning: Series.__getitem__ treating keys as positions is deprecated. In a future version, integer keys will always be treated as labels (consistent with DataFrame behavior). To access a value by position, use `ser.iloc[pos]`\n",
      "  df_InStoreWaitingTime_i.loc[j]=[np.mean(df_StationWaitingTime.loc[0][0]),np.mean(df_StationWaitingTime.loc[1][0]),np.mean(df_StationWaitingTime.loc[2][0]),np.mean(df_StationWaitingTime.loc[3][0])]\n",
      "C:\\Users\\mohammadreze\\AppData\\Local\\Temp\\ipykernel_4356\\3853490108.py:15: FutureWarning: Series.__getitem__ treating keys as positions is deprecated. In a future version, integer keys will always be treated as labels (consistent with DataFrame behavior). To access a value by position, use `ser.iloc[pos]`\n",
      "  df_InStoreWaitingTime_i.loc[j]=[np.mean(df_StationWaitingTime.loc[0][0]),np.mean(df_StationWaitingTime.loc[1][0]),np.mean(df_StationWaitingTime.loc[2][0]),np.mean(df_StationWaitingTime.loc[3][0])]\n",
      "C:\\Users\\mohammadreze\\AppData\\Local\\Temp\\ipykernel_4356\\3853490108.py:15: FutureWarning: Series.__getitem__ treating keys as positions is deprecated. In a future version, integer keys will always be treated as labels (consistent with DataFrame behavior). To access a value by position, use `ser.iloc[pos]`\n",
      "  df_InStoreWaitingTime_i.loc[j]=[np.mean(df_StationWaitingTime.loc[0][0]),np.mean(df_StationWaitingTime.loc[1][0]),np.mean(df_StationWaitingTime.loc[2][0]),np.mean(df_StationWaitingTime.loc[3][0])]\n",
      "C:\\Users\\mohammadreze\\AppData\\Local\\Temp\\ipykernel_4356\\3853490108.py:15: FutureWarning: Series.__getitem__ treating keys as positions is deprecated. In a future version, integer keys will always be treated as labels (consistent with DataFrame behavior). To access a value by position, use `ser.iloc[pos]`\n",
      "  df_InStoreWaitingTime_i.loc[j]=[np.mean(df_StationWaitingTime.loc[0][0]),np.mean(df_StationWaitingTime.loc[1][0]),np.mean(df_StationWaitingTime.loc[2][0]),np.mean(df_StationWaitingTime.loc[3][0])]\n",
      "C:\\Users\\mohammadreze\\AppData\\Local\\Temp\\ipykernel_4356\\3853490108.py:15: FutureWarning: Series.__getitem__ treating keys as positions is deprecated. In a future version, integer keys will always be treated as labels (consistent with DataFrame behavior). To access a value by position, use `ser.iloc[pos]`\n",
      "  df_InStoreWaitingTime_i.loc[j]=[np.mean(df_StationWaitingTime.loc[0][0]),np.mean(df_StationWaitingTime.loc[1][0]),np.mean(df_StationWaitingTime.loc[2][0]),np.mean(df_StationWaitingTime.loc[3][0])]\n",
      "C:\\Users\\mohammadreze\\AppData\\Local\\Temp\\ipykernel_4356\\3853490108.py:15: FutureWarning: Series.__getitem__ treating keys as positions is deprecated. In a future version, integer keys will always be treated as labels (consistent with DataFrame behavior). To access a value by position, use `ser.iloc[pos]`\n",
      "  df_InStoreWaitingTime_i.loc[j]=[np.mean(df_StationWaitingTime.loc[0][0]),np.mean(df_StationWaitingTime.loc[1][0]),np.mean(df_StationWaitingTime.loc[2][0]),np.mean(df_StationWaitingTime.loc[3][0])]\n",
      "C:\\Users\\mohammadreze\\AppData\\Local\\Temp\\ipykernel_4356\\3853490108.py:15: FutureWarning: Series.__getitem__ treating keys as positions is deprecated. In a future version, integer keys will always be treated as labels (consistent with DataFrame behavior). To access a value by position, use `ser.iloc[pos]`\n",
      "  df_InStoreWaitingTime_i.loc[j]=[np.mean(df_StationWaitingTime.loc[0][0]),np.mean(df_StationWaitingTime.loc[1][0]),np.mean(df_StationWaitingTime.loc[2][0]),np.mean(df_StationWaitingTime.loc[3][0])]\n",
      "C:\\Users\\mohammadreze\\AppData\\Local\\Temp\\ipykernel_4356\\3853490108.py:15: FutureWarning: Series.__getitem__ treating keys as positions is deprecated. In a future version, integer keys will always be treated as labels (consistent with DataFrame behavior). To access a value by position, use `ser.iloc[pos]`\n",
      "  df_InStoreWaitingTime_i.loc[j]=[np.mean(df_StationWaitingTime.loc[0][0]),np.mean(df_StationWaitingTime.loc[1][0]),np.mean(df_StationWaitingTime.loc[2][0]),np.mean(df_StationWaitingTime.loc[3][0])]\n",
      "C:\\Users\\mohammadreze\\AppData\\Local\\Temp\\ipykernel_4356\\3853490108.py:15: FutureWarning: Series.__getitem__ treating keys as positions is deprecated. In a future version, integer keys will always be treated as labels (consistent with DataFrame behavior). To access a value by position, use `ser.iloc[pos]`\n",
      "  df_InStoreWaitingTime_i.loc[j]=[np.mean(df_StationWaitingTime.loc[0][0]),np.mean(df_StationWaitingTime.loc[1][0]),np.mean(df_StationWaitingTime.loc[2][0]),np.mean(df_StationWaitingTime.loc[3][0])]\n",
      "C:\\Users\\mohammadreze\\AppData\\Local\\Temp\\ipykernel_4356\\3853490108.py:15: FutureWarning: Series.__getitem__ treating keys as positions is deprecated. In a future version, integer keys will always be treated as labels (consistent with DataFrame behavior). To access a value by position, use `ser.iloc[pos]`\n",
      "  df_InStoreWaitingTime_i.loc[j]=[np.mean(df_StationWaitingTime.loc[0][0]),np.mean(df_StationWaitingTime.loc[1][0]),np.mean(df_StationWaitingTime.loc[2][0]),np.mean(df_StationWaitingTime.loc[3][0])]\n",
      "C:\\Users\\mohammadreze\\AppData\\Local\\Temp\\ipykernel_4356\\3853490108.py:15: FutureWarning: Series.__getitem__ treating keys as positions is deprecated. In a future version, integer keys will always be treated as labels (consistent with DataFrame behavior). To access a value by position, use `ser.iloc[pos]`\n",
      "  df_InStoreWaitingTime_i.loc[j]=[np.mean(df_StationWaitingTime.loc[0][0]),np.mean(df_StationWaitingTime.loc[1][0]),np.mean(df_StationWaitingTime.loc[2][0]),np.mean(df_StationWaitingTime.loc[3][0])]\n",
      "C:\\Users\\mohammadreze\\AppData\\Local\\Temp\\ipykernel_4356\\3853490108.py:15: FutureWarning: Series.__getitem__ treating keys as positions is deprecated. In a future version, integer keys will always be treated as labels (consistent with DataFrame behavior). To access a value by position, use `ser.iloc[pos]`\n",
      "  df_InStoreWaitingTime_i.loc[j]=[np.mean(df_StationWaitingTime.loc[0][0]),np.mean(df_StationWaitingTime.loc[1][0]),np.mean(df_StationWaitingTime.loc[2][0]),np.mean(df_StationWaitingTime.loc[3][0])]\n",
      "C:\\Users\\mohammadreze\\AppData\\Local\\Temp\\ipykernel_4356\\3853490108.py:15: FutureWarning: Series.__getitem__ treating keys as positions is deprecated. In a future version, integer keys will always be treated as labels (consistent with DataFrame behavior). To access a value by position, use `ser.iloc[pos]`\n",
      "  df_InStoreWaitingTime_i.loc[j]=[np.mean(df_StationWaitingTime.loc[0][0]),np.mean(df_StationWaitingTime.loc[1][0]),np.mean(df_StationWaitingTime.loc[2][0]),np.mean(df_StationWaitingTime.loc[3][0])]\n",
      "C:\\Users\\mohammadreze\\AppData\\Local\\Temp\\ipykernel_4356\\3853490108.py:15: FutureWarning: Series.__getitem__ treating keys as positions is deprecated. In a future version, integer keys will always be treated as labels (consistent with DataFrame behavior). To access a value by position, use `ser.iloc[pos]`\n",
      "  df_InStoreWaitingTime_i.loc[j]=[np.mean(df_StationWaitingTime.loc[0][0]),np.mean(df_StationWaitingTime.loc[1][0]),np.mean(df_StationWaitingTime.loc[2][0]),np.mean(df_StationWaitingTime.loc[3][0])]\n",
      "C:\\Users\\mohammadreze\\AppData\\Local\\Temp\\ipykernel_4356\\3853490108.py:15: FutureWarning: Series.__getitem__ treating keys as positions is deprecated. In a future version, integer keys will always be treated as labels (consistent with DataFrame behavior). To access a value by position, use `ser.iloc[pos]`\n",
      "  df_InStoreWaitingTime_i.loc[j]=[np.mean(df_StationWaitingTime.loc[0][0]),np.mean(df_StationWaitingTime.loc[1][0]),np.mean(df_StationWaitingTime.loc[2][0]),np.mean(df_StationWaitingTime.loc[3][0])]\n",
      "C:\\Users\\mohammadreze\\AppData\\Local\\Temp\\ipykernel_4356\\3853490108.py:15: FutureWarning: Series.__getitem__ treating keys as positions is deprecated. In a future version, integer keys will always be treated as labels (consistent with DataFrame behavior). To access a value by position, use `ser.iloc[pos]`\n",
      "  df_InStoreWaitingTime_i.loc[j]=[np.mean(df_StationWaitingTime.loc[0][0]),np.mean(df_StationWaitingTime.loc[1][0]),np.mean(df_StationWaitingTime.loc[2][0]),np.mean(df_StationWaitingTime.loc[3][0])]\n",
      "C:\\Users\\mohammadreze\\AppData\\Local\\Temp\\ipykernel_4356\\3853490108.py:15: FutureWarning: Series.__getitem__ treating keys as positions is deprecated. In a future version, integer keys will always be treated as labels (consistent with DataFrame behavior). To access a value by position, use `ser.iloc[pos]`\n",
      "  df_InStoreWaitingTime_i.loc[j]=[np.mean(df_StationWaitingTime.loc[0][0]),np.mean(df_StationWaitingTime.loc[1][0]),np.mean(df_StationWaitingTime.loc[2][0]),np.mean(df_StationWaitingTime.loc[3][0])]\n",
      "C:\\Users\\mohammadreze\\AppData\\Local\\Temp\\ipykernel_4356\\3853490108.py:15: FutureWarning: Series.__getitem__ treating keys as positions is deprecated. In a future version, integer keys will always be treated as labels (consistent with DataFrame behavior). To access a value by position, use `ser.iloc[pos]`\n",
      "  df_InStoreWaitingTime_i.loc[j]=[np.mean(df_StationWaitingTime.loc[0][0]),np.mean(df_StationWaitingTime.loc[1][0]),np.mean(df_StationWaitingTime.loc[2][0]),np.mean(df_StationWaitingTime.loc[3][0])]\n",
      "C:\\Users\\mohammadreze\\AppData\\Local\\Temp\\ipykernel_4356\\3853490108.py:15: FutureWarning: Series.__getitem__ treating keys as positions is deprecated. In a future version, integer keys will always be treated as labels (consistent with DataFrame behavior). To access a value by position, use `ser.iloc[pos]`\n",
      "  df_InStoreWaitingTime_i.loc[j]=[np.mean(df_StationWaitingTime.loc[0][0]),np.mean(df_StationWaitingTime.loc[1][0]),np.mean(df_StationWaitingTime.loc[2][0]),np.mean(df_StationWaitingTime.loc[3][0])]\n",
      "C:\\Users\\mohammadreze\\AppData\\Local\\Temp\\ipykernel_4356\\3853490108.py:15: FutureWarning: Series.__getitem__ treating keys as positions is deprecated. In a future version, integer keys will always be treated as labels (consistent with DataFrame behavior). To access a value by position, use `ser.iloc[pos]`\n",
      "  df_InStoreWaitingTime_i.loc[j]=[np.mean(df_StationWaitingTime.loc[0][0]),np.mean(df_StationWaitingTime.loc[1][0]),np.mean(df_StationWaitingTime.loc[2][0]),np.mean(df_StationWaitingTime.loc[3][0])]\n",
      "C:\\Users\\mohammadreze\\AppData\\Local\\Temp\\ipykernel_4356\\3853490108.py:15: FutureWarning: Series.__getitem__ treating keys as positions is deprecated. In a future version, integer keys will always be treated as labels (consistent with DataFrame behavior). To access a value by position, use `ser.iloc[pos]`\n",
      "  df_InStoreWaitingTime_i.loc[j]=[np.mean(df_StationWaitingTime.loc[0][0]),np.mean(df_StationWaitingTime.loc[1][0]),np.mean(df_StationWaitingTime.loc[2][0]),np.mean(df_StationWaitingTime.loc[3][0])]\n",
      "C:\\Users\\mohammadreze\\AppData\\Local\\Temp\\ipykernel_4356\\3853490108.py:15: FutureWarning: Series.__getitem__ treating keys as positions is deprecated. In a future version, integer keys will always be treated as labels (consistent with DataFrame behavior). To access a value by position, use `ser.iloc[pos]`\n",
      "  df_InStoreWaitingTime_i.loc[j]=[np.mean(df_StationWaitingTime.loc[0][0]),np.mean(df_StationWaitingTime.loc[1][0]),np.mean(df_StationWaitingTime.loc[2][0]),np.mean(df_StationWaitingTime.loc[3][0])]\n",
      "C:\\Users\\mohammadreze\\AppData\\Local\\Temp\\ipykernel_4356\\3853490108.py:15: FutureWarning: Series.__getitem__ treating keys as positions is deprecated. In a future version, integer keys will always be treated as labels (consistent with DataFrame behavior). To access a value by position, use `ser.iloc[pos]`\n",
      "  df_InStoreWaitingTime_i.loc[j]=[np.mean(df_StationWaitingTime.loc[0][0]),np.mean(df_StationWaitingTime.loc[1][0]),np.mean(df_StationWaitingTime.loc[2][0]),np.mean(df_StationWaitingTime.loc[3][0])]\n",
      "C:\\Users\\mohammadreze\\AppData\\Local\\Temp\\ipykernel_4356\\3853490108.py:15: FutureWarning: Series.__getitem__ treating keys as positions is deprecated. In a future version, integer keys will always be treated as labels (consistent with DataFrame behavior). To access a value by position, use `ser.iloc[pos]`\n",
      "  df_InStoreWaitingTime_i.loc[j]=[np.mean(df_StationWaitingTime.loc[0][0]),np.mean(df_StationWaitingTime.loc[1][0]),np.mean(df_StationWaitingTime.loc[2][0]),np.mean(df_StationWaitingTime.loc[3][0])]\n",
      "C:\\Users\\mohammadreze\\AppData\\Local\\Temp\\ipykernel_4356\\3853490108.py:15: FutureWarning: Series.__getitem__ treating keys as positions is deprecated. In a future version, integer keys will always be treated as labels (consistent with DataFrame behavior). To access a value by position, use `ser.iloc[pos]`\n",
      "  df_InStoreWaitingTime_i.loc[j]=[np.mean(df_StationWaitingTime.loc[0][0]),np.mean(df_StationWaitingTime.loc[1][0]),np.mean(df_StationWaitingTime.loc[2][0]),np.mean(df_StationWaitingTime.loc[3][0])]\n",
      "C:\\Users\\mohammadreze\\AppData\\Local\\Temp\\ipykernel_4356\\3853490108.py:15: FutureWarning: Series.__getitem__ treating keys as positions is deprecated. In a future version, integer keys will always be treated as labels (consistent with DataFrame behavior). To access a value by position, use `ser.iloc[pos]`\n",
      "  df_InStoreWaitingTime_i.loc[j]=[np.mean(df_StationWaitingTime.loc[0][0]),np.mean(df_StationWaitingTime.loc[1][0]),np.mean(df_StationWaitingTime.loc[2][0]),np.mean(df_StationWaitingTime.loc[3][0])]\n",
      "C:\\Users\\mohammadreze\\AppData\\Local\\Temp\\ipykernel_4356\\3853490108.py:15: FutureWarning: Series.__getitem__ treating keys as positions is deprecated. In a future version, integer keys will always be treated as labels (consistent with DataFrame behavior). To access a value by position, use `ser.iloc[pos]`\n",
      "  df_InStoreWaitingTime_i.loc[j]=[np.mean(df_StationWaitingTime.loc[0][0]),np.mean(df_StationWaitingTime.loc[1][0]),np.mean(df_StationWaitingTime.loc[2][0]),np.mean(df_StationWaitingTime.loc[3][0])]\n",
      "C:\\Users\\mohammadreze\\AppData\\Local\\Temp\\ipykernel_4356\\3853490108.py:15: FutureWarning: Series.__getitem__ treating keys as positions is deprecated. In a future version, integer keys will always be treated as labels (consistent with DataFrame behavior). To access a value by position, use `ser.iloc[pos]`\n",
      "  df_InStoreWaitingTime_i.loc[j]=[np.mean(df_StationWaitingTime.loc[0][0]),np.mean(df_StationWaitingTime.loc[1][0]),np.mean(df_StationWaitingTime.loc[2][0]),np.mean(df_StationWaitingTime.loc[3][0])]\n",
      "C:\\Users\\mohammadreze\\AppData\\Local\\Temp\\ipykernel_4356\\3853490108.py:15: FutureWarning: Series.__getitem__ treating keys as positions is deprecated. In a future version, integer keys will always be treated as labels (consistent with DataFrame behavior). To access a value by position, use `ser.iloc[pos]`\n",
      "  df_InStoreWaitingTime_i.loc[j]=[np.mean(df_StationWaitingTime.loc[0][0]),np.mean(df_StationWaitingTime.loc[1][0]),np.mean(df_StationWaitingTime.loc[2][0]),np.mean(df_StationWaitingTime.loc[3][0])]\n",
      "C:\\Users\\mohammadreze\\AppData\\Local\\Temp\\ipykernel_4356\\3853490108.py:15: FutureWarning: Series.__getitem__ treating keys as positions is deprecated. In a future version, integer keys will always be treated as labels (consistent with DataFrame behavior). To access a value by position, use `ser.iloc[pos]`\n",
      "  df_InStoreWaitingTime_i.loc[j]=[np.mean(df_StationWaitingTime.loc[0][0]),np.mean(df_StationWaitingTime.loc[1][0]),np.mean(df_StationWaitingTime.loc[2][0]),np.mean(df_StationWaitingTime.loc[3][0])]\n",
      "C:\\Users\\mohammadreze\\AppData\\Local\\Temp\\ipykernel_4356\\3853490108.py:15: FutureWarning: Series.__getitem__ treating keys as positions is deprecated. In a future version, integer keys will always be treated as labels (consistent with DataFrame behavior). To access a value by position, use `ser.iloc[pos]`\n",
      "  df_InStoreWaitingTime_i.loc[j]=[np.mean(df_StationWaitingTime.loc[0][0]),np.mean(df_StationWaitingTime.loc[1][0]),np.mean(df_StationWaitingTime.loc[2][0]),np.mean(df_StationWaitingTime.loc[3][0])]\n",
      "C:\\Users\\mohammadreze\\AppData\\Local\\Temp\\ipykernel_4356\\3853490108.py:15: FutureWarning: Series.__getitem__ treating keys as positions is deprecated. In a future version, integer keys will always be treated as labels (consistent with DataFrame behavior). To access a value by position, use `ser.iloc[pos]`\n",
      "  df_InStoreWaitingTime_i.loc[j]=[np.mean(df_StationWaitingTime.loc[0][0]),np.mean(df_StationWaitingTime.loc[1][0]),np.mean(df_StationWaitingTime.loc[2][0]),np.mean(df_StationWaitingTime.loc[3][0])]\n",
      "C:\\Users\\mohammadreze\\AppData\\Local\\Temp\\ipykernel_4356\\3853490108.py:15: FutureWarning: Series.__getitem__ treating keys as positions is deprecated. In a future version, integer keys will always be treated as labels (consistent with DataFrame behavior). To access a value by position, use `ser.iloc[pos]`\n",
      "  df_InStoreWaitingTime_i.loc[j]=[np.mean(df_StationWaitingTime.loc[0][0]),np.mean(df_StationWaitingTime.loc[1][0]),np.mean(df_StationWaitingTime.loc[2][0]),np.mean(df_StationWaitingTime.loc[3][0])]\n",
      "C:\\Users\\mohammadreze\\AppData\\Local\\Temp\\ipykernel_4356\\3853490108.py:15: FutureWarning: Series.__getitem__ treating keys as positions is deprecated. In a future version, integer keys will always be treated as labels (consistent with DataFrame behavior). To access a value by position, use `ser.iloc[pos]`\n",
      "  df_InStoreWaitingTime_i.loc[j]=[np.mean(df_StationWaitingTime.loc[0][0]),np.mean(df_StationWaitingTime.loc[1][0]),np.mean(df_StationWaitingTime.loc[2][0]),np.mean(df_StationWaitingTime.loc[3][0])]\n",
      "C:\\Users\\mohammadreze\\AppData\\Local\\Temp\\ipykernel_4356\\3853490108.py:15: FutureWarning: Series.__getitem__ treating keys as positions is deprecated. In a future version, integer keys will always be treated as labels (consistent with DataFrame behavior). To access a value by position, use `ser.iloc[pos]`\n",
      "  df_InStoreWaitingTime_i.loc[j]=[np.mean(df_StationWaitingTime.loc[0][0]),np.mean(df_StationWaitingTime.loc[1][0]),np.mean(df_StationWaitingTime.loc[2][0]),np.mean(df_StationWaitingTime.loc[3][0])]\n",
      "C:\\Users\\mohammadreze\\AppData\\Local\\Temp\\ipykernel_4356\\3853490108.py:15: FutureWarning: Series.__getitem__ treating keys as positions is deprecated. In a future version, integer keys will always be treated as labels (consistent with DataFrame behavior). To access a value by position, use `ser.iloc[pos]`\n",
      "  df_InStoreWaitingTime_i.loc[j]=[np.mean(df_StationWaitingTime.loc[0][0]),np.mean(df_StationWaitingTime.loc[1][0]),np.mean(df_StationWaitingTime.loc[2][0]),np.mean(df_StationWaitingTime.loc[3][0])]\n",
      "C:\\Users\\mohammadreze\\AppData\\Local\\Temp\\ipykernel_4356\\3853490108.py:15: FutureWarning: Series.__getitem__ treating keys as positions is deprecated. In a future version, integer keys will always be treated as labels (consistent with DataFrame behavior). To access a value by position, use `ser.iloc[pos]`\n",
      "  df_InStoreWaitingTime_i.loc[j]=[np.mean(df_StationWaitingTime.loc[0][0]),np.mean(df_StationWaitingTime.loc[1][0]),np.mean(df_StationWaitingTime.loc[2][0]),np.mean(df_StationWaitingTime.loc[3][0])]\n",
      "C:\\Users\\mohammadreze\\AppData\\Local\\Temp\\ipykernel_4356\\3853490108.py:15: FutureWarning: Series.__getitem__ treating keys as positions is deprecated. In a future version, integer keys will always be treated as labels (consistent with DataFrame behavior). To access a value by position, use `ser.iloc[pos]`\n",
      "  df_InStoreWaitingTime_i.loc[j]=[np.mean(df_StationWaitingTime.loc[0][0]),np.mean(df_StationWaitingTime.loc[1][0]),np.mean(df_StationWaitingTime.loc[2][0]),np.mean(df_StationWaitingTime.loc[3][0])]\n",
      "C:\\Users\\mohammadreze\\AppData\\Local\\Temp\\ipykernel_4356\\3853490108.py:15: FutureWarning: Series.__getitem__ treating keys as positions is deprecated. In a future version, integer keys will always be treated as labels (consistent with DataFrame behavior). To access a value by position, use `ser.iloc[pos]`\n",
      "  df_InStoreWaitingTime_i.loc[j]=[np.mean(df_StationWaitingTime.loc[0][0]),np.mean(df_StationWaitingTime.loc[1][0]),np.mean(df_StationWaitingTime.loc[2][0]),np.mean(df_StationWaitingTime.loc[3][0])]\n",
      "C:\\Users\\mohammadreze\\AppData\\Local\\Temp\\ipykernel_4356\\3853490108.py:15: FutureWarning: Series.__getitem__ treating keys as positions is deprecated. In a future version, integer keys will always be treated as labels (consistent with DataFrame behavior). To access a value by position, use `ser.iloc[pos]`\n",
      "  df_InStoreWaitingTime_i.loc[j]=[np.mean(df_StationWaitingTime.loc[0][0]),np.mean(df_StationWaitingTime.loc[1][0]),np.mean(df_StationWaitingTime.loc[2][0]),np.mean(df_StationWaitingTime.loc[3][0])]\n",
      "C:\\Users\\mohammadreze\\AppData\\Local\\Temp\\ipykernel_4356\\3853490108.py:15: FutureWarning: Series.__getitem__ treating keys as positions is deprecated. In a future version, integer keys will always be treated as labels (consistent with DataFrame behavior). To access a value by position, use `ser.iloc[pos]`\n",
      "  df_InStoreWaitingTime_i.loc[j]=[np.mean(df_StationWaitingTime.loc[0][0]),np.mean(df_StationWaitingTime.loc[1][0]),np.mean(df_StationWaitingTime.loc[2][0]),np.mean(df_StationWaitingTime.loc[3][0])]\n",
      "C:\\Users\\mohammadreze\\AppData\\Local\\Temp\\ipykernel_4356\\3853490108.py:15: FutureWarning: Series.__getitem__ treating keys as positions is deprecated. In a future version, integer keys will always be treated as labels (consistent with DataFrame behavior). To access a value by position, use `ser.iloc[pos]`\n",
      "  df_InStoreWaitingTime_i.loc[j]=[np.mean(df_StationWaitingTime.loc[0][0]),np.mean(df_StationWaitingTime.loc[1][0]),np.mean(df_StationWaitingTime.loc[2][0]),np.mean(df_StationWaitingTime.loc[3][0])]\n",
      "C:\\Users\\mohammadreze\\AppData\\Local\\Temp\\ipykernel_4356\\3853490108.py:15: FutureWarning: Series.__getitem__ treating keys as positions is deprecated. In a future version, integer keys will always be treated as labels (consistent with DataFrame behavior). To access a value by position, use `ser.iloc[pos]`\n",
      "  df_InStoreWaitingTime_i.loc[j]=[np.mean(df_StationWaitingTime.loc[0][0]),np.mean(df_StationWaitingTime.loc[1][0]),np.mean(df_StationWaitingTime.loc[2][0]),np.mean(df_StationWaitingTime.loc[3][0])]\n",
      "C:\\Users\\mohammadreze\\AppData\\Local\\Temp\\ipykernel_4356\\3853490108.py:15: FutureWarning: Series.__getitem__ treating keys as positions is deprecated. In a future version, integer keys will always be treated as labels (consistent with DataFrame behavior). To access a value by position, use `ser.iloc[pos]`\n",
      "  df_InStoreWaitingTime_i.loc[j]=[np.mean(df_StationWaitingTime.loc[0][0]),np.mean(df_StationWaitingTime.loc[1][0]),np.mean(df_StationWaitingTime.loc[2][0]),np.mean(df_StationWaitingTime.loc[3][0])]\n",
      "C:\\Users\\mohammadreze\\AppData\\Local\\Temp\\ipykernel_4356\\3853490108.py:15: FutureWarning: Series.__getitem__ treating keys as positions is deprecated. In a future version, integer keys will always be treated as labels (consistent with DataFrame behavior). To access a value by position, use `ser.iloc[pos]`\n",
      "  df_InStoreWaitingTime_i.loc[j]=[np.mean(df_StationWaitingTime.loc[0][0]),np.mean(df_StationWaitingTime.loc[1][0]),np.mean(df_StationWaitingTime.loc[2][0]),np.mean(df_StationWaitingTime.loc[3][0])]\n",
      "C:\\Users\\mohammadreze\\AppData\\Local\\Temp\\ipykernel_4356\\3853490108.py:15: FutureWarning: Series.__getitem__ treating keys as positions is deprecated. In a future version, integer keys will always be treated as labels (consistent with DataFrame behavior). To access a value by position, use `ser.iloc[pos]`\n",
      "  df_InStoreWaitingTime_i.loc[j]=[np.mean(df_StationWaitingTime.loc[0][0]),np.mean(df_StationWaitingTime.loc[1][0]),np.mean(df_StationWaitingTime.loc[2][0]),np.mean(df_StationWaitingTime.loc[3][0])]\n",
      "C:\\Users\\mohammadreze\\AppData\\Local\\Temp\\ipykernel_4356\\3853490108.py:15: FutureWarning: Series.__getitem__ treating keys as positions is deprecated. In a future version, integer keys will always be treated as labels (consistent with DataFrame behavior). To access a value by position, use `ser.iloc[pos]`\n",
      "  df_InStoreWaitingTime_i.loc[j]=[np.mean(df_StationWaitingTime.loc[0][0]),np.mean(df_StationWaitingTime.loc[1][0]),np.mean(df_StationWaitingTime.loc[2][0]),np.mean(df_StationWaitingTime.loc[3][0])]\n",
      "C:\\Users\\mohammadreze\\AppData\\Local\\Temp\\ipykernel_4356\\3853490108.py:15: FutureWarning: Series.__getitem__ treating keys as positions is deprecated. In a future version, integer keys will always be treated as labels (consistent with DataFrame behavior). To access a value by position, use `ser.iloc[pos]`\n",
      "  df_InStoreWaitingTime_i.loc[j]=[np.mean(df_StationWaitingTime.loc[0][0]),np.mean(df_StationWaitingTime.loc[1][0]),np.mean(df_StationWaitingTime.loc[2][0]),np.mean(df_StationWaitingTime.loc[3][0])]\n",
      "C:\\Users\\mohammadreze\\AppData\\Local\\Temp\\ipykernel_4356\\3853490108.py:15: FutureWarning: Series.__getitem__ treating keys as positions is deprecated. In a future version, integer keys will always be treated as labels (consistent with DataFrame behavior). To access a value by position, use `ser.iloc[pos]`\n",
      "  df_InStoreWaitingTime_i.loc[j]=[np.mean(df_StationWaitingTime.loc[0][0]),np.mean(df_StationWaitingTime.loc[1][0]),np.mean(df_StationWaitingTime.loc[2][0]),np.mean(df_StationWaitingTime.loc[3][0])]\n",
      "C:\\Users\\mohammadreze\\AppData\\Local\\Temp\\ipykernel_4356\\3853490108.py:15: FutureWarning: Series.__getitem__ treating keys as positions is deprecated. In a future version, integer keys will always be treated as labels (consistent with DataFrame behavior). To access a value by position, use `ser.iloc[pos]`\n",
      "  df_InStoreWaitingTime_i.loc[j]=[np.mean(df_StationWaitingTime.loc[0][0]),np.mean(df_StationWaitingTime.loc[1][0]),np.mean(df_StationWaitingTime.loc[2][0]),np.mean(df_StationWaitingTime.loc[3][0])]\n",
      "C:\\Users\\mohammadreze\\AppData\\Local\\Temp\\ipykernel_4356\\3853490108.py:15: FutureWarning: Series.__getitem__ treating keys as positions is deprecated. In a future version, integer keys will always be treated as labels (consistent with DataFrame behavior). To access a value by position, use `ser.iloc[pos]`\n",
      "  df_InStoreWaitingTime_i.loc[j]=[np.mean(df_StationWaitingTime.loc[0][0]),np.mean(df_StationWaitingTime.loc[1][0]),np.mean(df_StationWaitingTime.loc[2][0]),np.mean(df_StationWaitingTime.loc[3][0])]\n",
      "C:\\Users\\mohammadreze\\AppData\\Local\\Temp\\ipykernel_4356\\3853490108.py:15: FutureWarning: Series.__getitem__ treating keys as positions is deprecated. In a future version, integer keys will always be treated as labels (consistent with DataFrame behavior). To access a value by position, use `ser.iloc[pos]`\n",
      "  df_InStoreWaitingTime_i.loc[j]=[np.mean(df_StationWaitingTime.loc[0][0]),np.mean(df_StationWaitingTime.loc[1][0]),np.mean(df_StationWaitingTime.loc[2][0]),np.mean(df_StationWaitingTime.loc[3][0])]\n",
      "C:\\Users\\mohammadreze\\AppData\\Local\\Temp\\ipykernel_4356\\3853490108.py:15: FutureWarning: Series.__getitem__ treating keys as positions is deprecated. In a future version, integer keys will always be treated as labels (consistent with DataFrame behavior). To access a value by position, use `ser.iloc[pos]`\n",
      "  df_InStoreWaitingTime_i.loc[j]=[np.mean(df_StationWaitingTime.loc[0][0]),np.mean(df_StationWaitingTime.loc[1][0]),np.mean(df_StationWaitingTime.loc[2][0]),np.mean(df_StationWaitingTime.loc[3][0])]\n",
      "C:\\Users\\mohammadreze\\AppData\\Local\\Temp\\ipykernel_4356\\3853490108.py:15: FutureWarning: Series.__getitem__ treating keys as positions is deprecated. In a future version, integer keys will always be treated as labels (consistent with DataFrame behavior). To access a value by position, use `ser.iloc[pos]`\n",
      "  df_InStoreWaitingTime_i.loc[j]=[np.mean(df_StationWaitingTime.loc[0][0]),np.mean(df_StationWaitingTime.loc[1][0]),np.mean(df_StationWaitingTime.loc[2][0]),np.mean(df_StationWaitingTime.loc[3][0])]\n",
      "C:\\Users\\mohammadreze\\AppData\\Local\\Temp\\ipykernel_4356\\3853490108.py:15: FutureWarning: Series.__getitem__ treating keys as positions is deprecated. In a future version, integer keys will always be treated as labels (consistent with DataFrame behavior). To access a value by position, use `ser.iloc[pos]`\n",
      "  df_InStoreWaitingTime_i.loc[j]=[np.mean(df_StationWaitingTime.loc[0][0]),np.mean(df_StationWaitingTime.loc[1][0]),np.mean(df_StationWaitingTime.loc[2][0]),np.mean(df_StationWaitingTime.loc[3][0])]\n",
      "C:\\Users\\mohammadreze\\AppData\\Local\\Temp\\ipykernel_4356\\3853490108.py:15: FutureWarning: Series.__getitem__ treating keys as positions is deprecated. In a future version, integer keys will always be treated as labels (consistent with DataFrame behavior). To access a value by position, use `ser.iloc[pos]`\n",
      "  df_InStoreWaitingTime_i.loc[j]=[np.mean(df_StationWaitingTime.loc[0][0]),np.mean(df_StationWaitingTime.loc[1][0]),np.mean(df_StationWaitingTime.loc[2][0]),np.mean(df_StationWaitingTime.loc[3][0])]\n",
      "C:\\Users\\mohammadreze\\AppData\\Local\\Temp\\ipykernel_4356\\3853490108.py:15: FutureWarning: Series.__getitem__ treating keys as positions is deprecated. In a future version, integer keys will always be treated as labels (consistent with DataFrame behavior). To access a value by position, use `ser.iloc[pos]`\n",
      "  df_InStoreWaitingTime_i.loc[j]=[np.mean(df_StationWaitingTime.loc[0][0]),np.mean(df_StationWaitingTime.loc[1][0]),np.mean(df_StationWaitingTime.loc[2][0]),np.mean(df_StationWaitingTime.loc[3][0])]\n"
     ]
    }
   ],
   "source": [
    "df_InStoreWaitingTime = pd.DataFrame(columns = ['Avg Station 1', 'Avg Station 2', 'Avg Station 3', 'Avg Station 4'])\n",
    "df_ParkingQueue = pd.DataFrame(columns = ['Avg #Full Parking','Avg Parking Queue'])\n",
    "df_FullySerevedPeople = pd.DataFrame(columns = ['Avg #Full Served People'])\n",
    "\n",
    "\n",
    "df_NumPeopleInStore\n",
    "for k in range(10):\n",
    "    i=5+5*k\n",
    "    df_InStoreWaitingTime_i = pd.DataFrame(columns = ['Avg Station 1', 'Avg Station 2', 'Avg Station 3', 'Avg Station 4'])\n",
    "    df_ParkingQueue_i = pd.DataFrame(columns = ['Avg #Full Parking','Avg Parking Queue'])\n",
    "    list_FullySerevedPeople_i = []\n",
    "\n",
    "    for j in range(30):\n",
    "        df_StationLineLength_History, df_StationWaitingTime, array_FullySerevedPeople=PantryQueue(i)\n",
    "        df_InStoreWaitingTime_i.loc[j]=[np.mean(df_StationWaitingTime.loc[0][0]),np.mean(df_StationWaitingTime.loc[1][0]),np.mean(df_StationWaitingTime.loc[2][0]),np.mean(df_StationWaitingTime.loc[3][0])]\n",
    "        df_ParkingQueue_i.loc[j]=df_StationLineLength_History.iloc[-2:,:].mean(axis=1).values\n",
    "        list_FullySerevedPeople_i+=[array_FullySerevedPeople.sum()]\n",
    "    df_InStoreWaitingTime.loc[i]=df_InStoreWaitingTime_i.mean()\n",
    "    df_ParkingQueue.loc[i]=df_ParkingQueue_i.mean()\n",
    "    df_FullySerevedPeople.loc[i]=np.mean(list_FullySerevedPeople_i)\n",
    "\n",
    "    # print(df_ParkingQueue)"
   ]
  },
  {
   "cell_type": "code",
   "execution_count": null,
   "metadata": {
    "id": "nji1sVlRUs7a",
    "outputId": "0462abba-65aa-431c-f65d-189246198fc7"
   },
   "outputs": [
    {
     "data": {
      "text/plain": [
       "<Axes: title={'center': 'Average Number of cars in the parking lot and queue throughout a 3-hour day'}, xlabel='#Parking Capacity', ylabel='#Cars'>"
      ]
     },
     "execution_count": 92,
     "metadata": {},
     "output_type": "execute_result"
    },
    {
     "data": {
      "image/png": "[encoded data removed]",
      "text/plain": [
       "<Figure size 600x300 with 1 Axes>"
      ]
     },
     "metadata": {},
     "output_type": "display_data"
    }
   ],
   "source": [
    "df_ParkingQueue.plot(figsize=(6, 3), title='Average Number of cars in the parking lot and queue throughout a 3-hour day',xlabel= '#Parking Capacity',ylabel='#Cars' )"
   ]
  },
  {
   "cell_type": "code",
   "execution_count": null,
   "metadata": {
    "id": "xw87SsckUs7a",
    "outputId": "697e3036-f406-472b-cd0b-f591f47aaf96"
   },
   "outputs": [
    {
     "data": {
      "text/plain": [
       "<Axes: title={'center': 'Average Shopping Waiting Time in a 3-hour day'}, xlabel='#Parking Capacity', ylabel='Minutes'>"
      ]
     },
     "execution_count": 93,
     "metadata": {},
     "output_type": "execute_result"
    },
    {
     "data": {
      "image/png": "[encoded data removed]",
      "text/plain": [
       "<Figure size 600x300 with 1 Axes>"
      ]
     },
     "metadata": {},
     "output_type": "display_data"
    }
   ],
   "source": [
    "df_InStoreWaitingTime.mean(axis=1).plot(figsize=(6, 3), title='Average Shopping Waiting Time in a 3-hour day',xlabel= '#Parking Capacity',ylabel='Minutes' )\n"
   ]
  },
  {
   "cell_type": "code",
   "execution_count": null,
   "metadata": {
    "id": "QmDzxAqwUs7a",
    "outputId": "89b432a1-8720-4a32-c6bd-c0635331f739"
   },
   "outputs": [
    {
     "data": {
      "text/plain": [
       "<Axes: title={'center': 'Average fully serevd people throughout a 3-hour day'}, xlabel='#Parking Capacity', ylabel='#People'>"
      ]
     },
     "execution_count": 94,
     "metadata": {},
     "output_type": "execute_result"
    },
    {
     "data": {
      "image/png": "[encoded data removed]",
      "text/plain": [
       "<Figure size 600x300 with 1 Axes>"
      ]
     },
     "metadata": {},
     "output_type": "display_data"
    }
   ],
   "source": [
    "df_FullySerevedPeople.plot(figsize=(6, 3), title='Average fully serevd people throughout a 3-hour day',xlabel= '#Parking Capacity',ylabel='#People' )"
   ]
  },
  {
   "cell_type": "code",
   "execution_count": null,
   "metadata": {
    "id": "GHxrweSIUs7b"
   },
   "outputs": [],
   "source": [
    "df_NumPeopleInStore = pd.DataFrame(PantryQueue().iloc[:-3,:].T.sum(axis=1).copy())\n",
    "df_NumCarInParkingQueue = pd.DataFrame(PantryQueue().iloc[-2:,:].T.copy())\n",
    "\n",
    "df_NumPeopleInStore\n",
    "for i in range(5,30):\n",
    "    df_NumPeopleInStore[str(i)]=PantryQueue().iloc[:-3,:].T.sum(axis=1)#.plot(figsize=(10, 5))\n",
    "    df_NumCarInParkingQueue+=PantryQueue().iloc[-2:,:].T#.plot(figsize=(10, 5))"
   ]
  },
  {
   "cell_type": "code",
   "execution_count": null,
   "metadata": {
    "id": "gmY7MqJzUs7i",
    "outputId": "e018e274-b6ee-478f-d20b-7a4a66802cf5"
   },
   "outputs": [
    {
     "data": {
      "text/plain": [
       "<Axes: title={'center': 'Number of cars in the parking lot and queue throughout a 3-hour day'}, xlabel='Minute of the day', ylabel='#Cars'>"
      ]
     },
     "execution_count": 8,
     "metadata": {},
     "output_type": "execute_result"
    },
    {
     "data": {
      "image/png": "[encoded data removed]",
      "text/plain": [
       "<Figure size 600x300 with 1 Axes>"
      ]
     },
     "metadata": {},
     "output_type": "display_data"
    },
    {
     "data": {
      "image/png": "[encoded data removed]",
      "text/plain": [
       "<Figure size 600x300 with 1 Axes>"
      ]
     },
     "metadata": {},
     "output_type": "display_data"
    }
   ],
   "source": [
    "import matplotlib as plt\n",
    "\n",
    "df_NumPeopleInStore.mean(axis=1).iloc[1:].plot(figsize=(6, 3), title='Average number of shoppers throughout a 3-hour day',xlabel= 'Minute of the day',ylabel='#People' )\n",
    "(df_NumCarInParkingQueue/30).iloc[1:].plot(figsize=(6, 3), title='Number of cars in the parking lot and queue throughout a 3-hour day',xlabel= 'Minute of the day',ylabel='#Cars' )\n"
   ]
  },
  {
   "cell_type": "code",
   "execution_count": null,
   "metadata": {
    "id": "RP7_kAKvUs7i",
    "outputId": "f8c3e051-0794-4588-bc97-d129cd6e88c6"
   },
   "outputs": [
    {
     "data": {
      "text/html": [
       "<div>\n",
       "<style scoped>\n",
       "    .dataframe tbody tr th:only-of-type {\n",
       "        vertical-align: middle;\n",
       "    }\n",
       "\n",
       "    .dataframe tbody tr th {\n",
       "        vertical-align: top;\n",
       "    }\n",
       "\n",
       "    .dataframe thead th {\n",
       "        text-align: right;\n",
       "    }\n",
       "</style>\n",
       "<table border=\"1\" class=\"dataframe\">\n",
       "  <thead>\n",
       "    <tr style=\"text-align: right;\">\n",
       "      <th>StationNumber</th>\n",
       "      <th>OccupiedParking</th>\n",
       "      <th>ParkingWaitingLine</th>\n",
       "    </tr>\n",
       "    <tr>\n",
       "      <th>Date</th>\n",
       "      <th></th>\n",
       "      <th></th>\n",
       "    </tr>\n",
       "  </thead>\n",
       "  <tbody>\n",
       "    <tr>\n",
       "      <th>0</th>\n",
       "      <td>0</td>\n",
       "      <td>0</td>\n",
       "    </tr>\n",
       "    <tr>\n",
       "      <th>1</th>\n",
       "      <td>0</td>\n",
       "      <td>0</td>\n",
       "    </tr>\n",
       "    <tr>\n",
       "      <th>2</th>\n",
       "      <td>11</td>\n",
       "      <td>0</td>\n",
       "    </tr>\n",
       "    <tr>\n",
       "      <th>3</th>\n",
       "      <td>20</td>\n",
       "      <td>0</td>\n",
       "    </tr>\n",
       "    <tr>\n",
       "      <th>4</th>\n",
       "      <td>31</td>\n",
       "      <td>0</td>\n",
       "    </tr>\n",
       "    <tr>\n",
       "      <th>...</th>\n",
       "      <td>...</td>\n",
       "      <td>...</td>\n",
       "    </tr>\n",
       "    <tr>\n",
       "      <th>176</th>\n",
       "      <td>592</td>\n",
       "      <td>635</td>\n",
       "    </tr>\n",
       "    <tr>\n",
       "      <th>177</th>\n",
       "      <td>593</td>\n",
       "      <td>634</td>\n",
       "    </tr>\n",
       "    <tr>\n",
       "      <th>178</th>\n",
       "      <td>594</td>\n",
       "      <td>638</td>\n",
       "    </tr>\n",
       "    <tr>\n",
       "      <th>179</th>\n",
       "      <td>594</td>\n",
       "      <td>640</td>\n",
       "    </tr>\n",
       "    <tr>\n",
       "      <th>180</th>\n",
       "      <td>599</td>\n",
       "      <td>643</td>\n",
       "    </tr>\n",
       "  </tbody>\n",
       "</table>\n",
       "<p>181 rows × 2 columns</p>\n",
       "</div>"
      ],
      "text/plain": [
       "StationNumber  OccupiedParking  ParkingWaitingLine\n",
       "Date                                              \n",
       "0                            0                   0\n",
       "1                            0                   0\n",
       "2                           11                   0\n",
       "3                           20                   0\n",
       "4                           31                   0\n",
       "...                        ...                 ...\n",
       "176                        592                 635\n",
       "177                        593                 634\n",
       "178                        594                 638\n",
       "179                        594                 640\n",
       "180                        599                 643\n",
       "\n",
       "[181 rows x 2 columns]"
      ]
     },
     "execution_count": 108,
     "metadata": {},
     "output_type": "execute_result"
    }
   ],
   "source": [
    "df_NumCarInParkingQueue"
   ]
  },
  {
   "cell_type": "code",
   "execution_count": null,
   "metadata": {
    "id": "9ecfGgh7Us7i",
    "outputId": "a1b38c16-9ed8-4bff-971b-ad136f6973f6"
   },
   "outputs": [
    {
     "data": {
      "text/plain": [
       "[0.2506354825581486,\n",
       " 0.2657840824519285,\n",
       " 0.009273480662024916,\n",
       " 0.1432012838344969]"
      ]
     },
     "execution_count": 20,
     "metadata": {},
     "output_type": "execute_result"
    }
   ],
   "source": [
    "list(np.random.rand(1, 3)[0])\n",
    "list(np.random.exponential(1/5, 4))"
   ]
  },
  {
   "cell_type": "code",
   "execution_count": null,
   "metadata": {
    "id": "932fWhEgUs7j",
    "outputId": "6e4c67b9-e465-4512-b85e-ed3cb9179920"
   },
   "outputs": [
    {
     "data": {
      "text/plain": [
       "[1.1057692307692308, 1.2644230769230769, 1.4038461538461537, 1.0]"
      ]
     },
     "execution_count": 21,
     "metadata": {},
     "output_type": "execute_result"
    }
   ],
   "source": [
    "AverageWaitingTime=[]\n",
    "for station in StationsNameList:\n",
    "    AverageWaitingTime+= [np.mean(df_StationWaitingTime.iloc[station,0])]\n",
    "AverageWaitingTime"
   ]
  },
  {
   "cell_type": "code",
   "execution_count": null,
   "metadata": {
    "id": "qVDo3HiUUs7j",
    "outputId": "6d9b0513-eabb-4d4e-e6f2-f4e6b308e021"
   },
   "outputs": [
    {
     "data": {
      "text/html": [
       "<div>\n",
       "<style scoped>\n",
       "    .dataframe tbody tr th:only-of-type {\n",
       "        vertical-align: middle;\n",
       "    }\n",
       "\n",
       "    .dataframe tbody tr th {\n",
       "        vertical-align: top;\n",
       "    }\n",
       "\n",
       "    .dataframe thead th {\n",
       "        text-align: right;\n",
       "    }\n",
       "</style>\n",
       "<table border=\"1\" class=\"dataframe\">\n",
       "  <thead>\n",
       "    <tr style=\"text-align: right;\">\n",
       "      <th></th>\n",
       "      <th>WaitingTime</th>\n",
       "    </tr>\n",
       "    <tr>\n",
       "      <th>StationNumber</th>\n",
       "      <th></th>\n",
       "    </tr>\n",
       "  </thead>\n",
       "  <tbody>\n",
       "    <tr>\n",
       "      <th>0</th>\n",
       "      <td>[1.0, 1.0, 1.0, 2.0, 1.0, 2.0, 2.0, 1.0, 1.0, ...</td>\n",
       "    </tr>\n",
       "    <tr>\n",
       "      <th>1</th>\n",
       "      <td>[1.0, 1.0, 1.0, 1.0, 2.0, 1.0, 1.0, 1.0, 1.0, ...</td>\n",
       "    </tr>\n",
       "    <tr>\n",
       "      <th>2</th>\n",
       "      <td>[2.0, 3.0, 2.0, 2.0, 2.0, 2.0, 2.0, 2.0, 2.0, ...</td>\n",
       "    </tr>\n",
       "    <tr>\n",
       "      <th>3</th>\n",
       "      <td>[1.0, 1.0, 1.0, 1.0, 1.0, 1.0, 1.0, 1.0, 1.0, ...</td>\n",
       "    </tr>\n",
       "  </tbody>\n",
       "</table>\n",
       "</div>"
      ],
      "text/plain": [
       "                                                     WaitingTime\n",
       "StationNumber                                                   \n",
       "0              [1.0, 1.0, 1.0, 2.0, 1.0, 2.0, 2.0, 1.0, 1.0, ...\n",
       "1              [1.0, 1.0, 1.0, 1.0, 2.0, 1.0, 1.0, 1.0, 1.0, ...\n",
       "2              [2.0, 3.0, 2.0, 2.0, 2.0, 2.0, 2.0, 2.0, 2.0, ...\n",
       "3              [1.0, 1.0, 1.0, 1.0, 1.0, 1.0, 1.0, 1.0, 1.0, ..."
      ]
     },
     "execution_count": 22,
     "metadata": {},
     "output_type": "execute_result"
    }
   ],
   "source": [
    "df_StationWaitingTime"
   ]
  },
  {
   "cell_type": "code",
   "execution_count": null,
   "metadata": {
    "id": "Z5Xg9eoCUs7j"
   },
   "outputs": [],
   "source": [
    "# df_StationLineLength_History.iloc[-20:,-40:]"
   ]
  },
  {
   "cell_type": "code",
   "execution_count": null,
   "metadata": {
    "id": "IL7hYn-JUs7j"
   },
   "outputs": [],
   "source": [
    "# df_StationLineLength_History.iloc[:,:].T.plot()\n"
   ]
  },
  {
   "cell_type": "code",
   "execution_count": null,
   "metadata": {
    "id": "rJYiVFKTUs7k",
    "outputId": "4119cae6-a3f8-459f-8f21-c230f997d55f"
   },
   "outputs": [
    {
     "data": {
      "text/html": [
       "<div>\n",
       "<style scoped>\n",
       "    .dataframe tbody tr th:only-of-type {\n",
       "        vertical-align: middle;\n",
       "    }\n",
       "\n",
       "    .dataframe tbody tr th {\n",
       "        vertical-align: top;\n",
       "    }\n",
       "\n",
       "    .dataframe thead th {\n",
       "        text-align: right;\n",
       "    }\n",
       "</style>\n",
       "<table border=\"1\" class=\"dataframe\">\n",
       "  <thead>\n",
       "    <tr style=\"text-align: right;\">\n",
       "      <th></th>\n",
       "      <th>#NotProcessedPeopleInCar</th>\n",
       "    </tr>\n",
       "  </thead>\n",
       "  <tbody>\n",
       "    <tr>\n",
       "      <th>0</th>\n",
       "      <td>0.0</td>\n",
       "    </tr>\n",
       "    <tr>\n",
       "      <th>1</th>\n",
       "      <td>0.0</td>\n",
       "    </tr>\n",
       "    <tr>\n",
       "      <th>2</th>\n",
       "      <td>0.0</td>\n",
       "    </tr>\n",
       "    <tr>\n",
       "      <th>3</th>\n",
       "      <td>0.0</td>\n",
       "    </tr>\n",
       "    <tr>\n",
       "      <th>4</th>\n",
       "      <td>0.0</td>\n",
       "    </tr>\n",
       "    <tr>\n",
       "      <th>...</th>\n",
       "      <td>...</td>\n",
       "    </tr>\n",
       "    <tr>\n",
       "      <th>64</th>\n",
       "      <td>0.0</td>\n",
       "    </tr>\n",
       "    <tr>\n",
       "      <th>65</th>\n",
       "      <td>0.0</td>\n",
       "    </tr>\n",
       "    <tr>\n",
       "      <th>66</th>\n",
       "      <td>0.0</td>\n",
       "    </tr>\n",
       "    <tr>\n",
       "      <th>67</th>\n",
       "      <td>0.0</td>\n",
       "    </tr>\n",
       "    <tr>\n",
       "      <th>68</th>\n",
       "      <td>0.0</td>\n",
       "    </tr>\n",
       "  </tbody>\n",
       "</table>\n",
       "<p>69 rows × 1 columns</p>\n",
       "</div>"
      ],
      "text/plain": [
       "    #NotProcessedPeopleInCar\n",
       "0                        0.0\n",
       "1                        0.0\n",
       "2                        0.0\n",
       "3                        0.0\n",
       "4                        0.0\n",
       "..                       ...\n",
       "64                       0.0\n",
       "65                       0.0\n",
       "66                       0.0\n",
       "67                       0.0\n",
       "68                       0.0\n",
       "\n",
       "[69 rows x 1 columns]"
      ]
     },
     "execution_count": 24,
     "metadata": {},
     "output_type": "execute_result"
    }
   ],
   "source": [
    "df_cars[:]"
   ]
  },
  {
   "cell_type": "code",
   "execution_count": null,
   "metadata": {
    "id": "ABBtE7IgUs7k",
    "outputId": "f86c2790-e43b-44b8-98fa-112cdc18e18e"
   },
   "outputs": [
    {
     "data": {
      "text/plain": [
       "1"
      ]
     },
     "execution_count": 194,
     "metadata": {},
     "output_type": "execute_result"
    }
   ],
   "source": [
    "min(df_StationLineLength.iloc[station, 0], df_StationServers.iloc[station, 0])"
   ]
  },
  {
   "cell_type": "code",
   "execution_count": null,
   "metadata": {
    "id": "nmfldIyLUs7k",
    "outputId": "1e303c3f-0ef0-4509-e7fa-36256fb0ba2f"
   },
   "outputs": [
    {
     "name": "stdout",
     "output_type": "stream",
     "text": [
      "0\n"
     ]
    }
   ],
   "source": [
    "for i in range(1): print(i)"
   ]
  },
  {
   "cell_type": "code",
   "execution_count": null,
   "metadata": {
    "id": "-mxNDhuzUs7k",
    "outputId": "32ad2218-b55f-4d62-ce71-e96a3367d9e7"
   },
   "outputs": [
    {
     "data": {
      "text/plain": [
       "1"
      ]
     },
     "execution_count": 193,
     "metadata": {},
     "output_type": "execute_result"
    }
   ],
   "source": [
    "k"
   ]
  },
  {
   "cell_type": "code",
   "execution_count": null,
   "metadata": {
    "id": "OCDQFduLUs7k",
    "outputId": "df0d1427-0588-48ba-9c30-36fd10db98b4"
   },
   "outputs": [
    {
     "data": {
      "text/plain": [
       "0"
      ]
     },
     "execution_count": 155,
     "metadata": {},
     "output_type": "execute_result"
    }
   ],
   "source": [
    "max(ParkingWaitingLineLength_list)"
   ]
  },
  {
   "cell_type": "code",
   "execution_count": null,
   "metadata": {
    "id": "livxHrzPUs7l",
    "outputId": "90d4a3d1-4e1a-4415-db9e-c9c835e9d137"
   },
   "outputs": [
    {
     "data": {
      "text/plain": [
       "[0, 1, 2, 3, 4]"
      ]
     },
     "execution_count": 132,
     "metadata": {},
     "output_type": "execute_result"
    }
   ],
   "source": [
    "InFeasibleStationIndex"
   ]
  },
  {
   "cell_type": "code",
   "execution_count": null,
   "metadata": {
    "id": "YlBCljtkUs7l",
    "outputId": "3700bc3d-b2f0-4f62-8049-9e4b3ce16804"
   },
   "outputs": [
    {
     "data": {
      "text/plain": [
       "array([0., 0., 0., 0., 0.])"
      ]
     },
     "execution_count": 128,
     "metadata": {},
     "output_type": "execute_result"
    }
   ],
   "source": [
    "Adjusted_Init_state"
   ]
  },
  {
   "cell_type": "code",
   "execution_count": null,
   "metadata": {
    "id": "6tFbL3E-Us7l",
    "outputId": "7eee6ba3-d224-4152-c619-e29e0e8d9a33"
   },
   "outputs": [
    {
     "data": {
      "text/plain": [
       "26"
      ]
     },
     "execution_count": 129,
     "metadata": {},
     "output_type": "execute_result"
    }
   ],
   "source": [
    "TotalFreeAvailableSpotInStations"
   ]
  },
  {
   "cell_type": "code",
   "execution_count": null,
   "metadata": {
    "id": "9GcslSWWUs7m",
    "outputId": "29b10c50-311e-4eb6-f6b7-2f9751aae0f0"
   },
   "outputs": [
    {
     "name": "stdout",
     "output_type": "stream",
     "text": [
      "<class 'list'>\n"
     ]
    },
    {
     "data": {
      "text/plain": [
       "0"
      ]
     },
     "execution_count": 113,
     "metadata": {},
     "output_type": "execute_result"
    }
   ],
   "source": [
    "print((type(df_StationLines.iloc[3, 0])))\n",
    "station\n",
    "k"
   ]
  },
  {
   "cell_type": "code",
   "execution_count": null,
   "metadata": {
    "id": "syin6MLVUs7m",
    "outputId": "cd563a55-b8c2-49b1-a8dd-426cdc790676"
   },
   "outputs": [
    {
     "data": {
      "text/plain": [
       "pandas.core.series.Series"
      ]
     },
     "execution_count": 90,
     "metadata": {},
     "output_type": "execute_result"
    }
   ],
   "source": [
    "type(df_StationLines.iloc[station, 0])"
   ]
  },
  {
   "cell_type": "code",
   "execution_count": null,
   "metadata": {
    "id": "sxp0mI_CUs7m",
    "outputId": "02e37922-056a-473d-d190-f0b942743a98"
   },
   "outputs": [
    {
     "data": {
      "text/plain": [
       "[array([[42., 49., 44., 49., 64.,  0.],\n",
       "        [ 0.,  0.,  0.,  0.,  0.,  0.]])]"
      ]
     },
     "execution_count": 78,
     "metadata": {},
     "output_type": "execute_result"
    }
   ],
   "source": [
    "[person_history]"
   ]
  },
  {
   "cell_type": "code",
   "execution_count": null,
   "metadata": {
    "id": "IwHCrGwnUs7m",
    "outputId": "b38952c4-3bb1-4fad-ec5b-fcc5a7d84df6"
   },
   "outputs": [
    {
     "data": {
      "text/plain": [
       "[array([[0., 0., 0., 0., 0.],\n",
       "        [0., 0., 0., 0., 0.]]),\n",
       " array([[0., 0., 0., 0., 0.],\n",
       "        [0., 0., 0., 0., 0.]])]"
      ]
     },
     "execution_count": 79,
     "metadata": {},
     "output_type": "execute_result"
    }
   ],
   "source": [
    "[np.zeros([2,5])]+[np.zeros([2,5])]+[]"
   ]
  },
  {
   "cell_type": "code",
   "execution_count": null,
   "metadata": {
    "id": "2kpGVoxvUs7n",
    "outputId": "400d1634-a27f-4d10-8d10-b0c132ba0db4"
   },
   "outputs": [
    {
     "data": {
      "text/plain": [
       "StationNumber\n",
       "4    []\n",
       "Name: CurrentLine, dtype: object"
      ]
     },
     "execution_count": 66,
     "metadata": {},
     "output_type": "execute_result"
    }
   ],
   "source": [
    "df_StationLines.iloc[station, 0]"
   ]
  },
  {
   "cell_type": "code",
   "execution_count": null,
   "metadata": {
    "id": "mAM9ri5GUs7n",
    "outputId": "2ea49e78-4c21-4238-9593-72867ee20c57"
   },
   "outputs": [
    {
     "data": {
      "text/html": [
       "<div>\n",
       "<style scoped>\n",
       "    .dataframe tbody tr th:only-of-type {\n",
       "        vertical-align: middle;\n",
       "    }\n",
       "\n",
       "    .dataframe tbody tr th {\n",
       "        vertical-align: top;\n",
       "    }\n",
       "\n",
       "    .dataframe thead th {\n",
       "        text-align: right;\n",
       "    }\n",
       "</style>\n",
       "<table border=\"1\" class=\"dataframe\">\n",
       "  <thead>\n",
       "    <tr style=\"text-align: right;\">\n",
       "      <th></th>\n",
       "      <th>CurrentLine</th>\n",
       "    </tr>\n",
       "    <tr>\n",
       "      <th>StationNumber</th>\n",
       "      <th></th>\n",
       "    </tr>\n",
       "  </thead>\n",
       "  <tbody>\n",
       "    <tr>\n",
       "      <th>0</th>\n",
       "      <td>[]</td>\n",
       "    </tr>\n",
       "    <tr>\n",
       "      <th>1</th>\n",
       "      <td>[]</td>\n",
       "    </tr>\n",
       "    <tr>\n",
       "      <th>2</th>\n",
       "      <td>[]</td>\n",
       "    </tr>\n",
       "    <tr>\n",
       "      <th>3</th>\n",
       "      <td>[]</td>\n",
       "    </tr>\n",
       "    <tr>\n",
       "      <th>4</th>\n",
       "      <td>[]</td>\n",
       "    </tr>\n",
       "  </tbody>\n",
       "</table>\n",
       "</div>"
      ],
      "text/plain": [
       "              CurrentLine\n",
       "StationNumber            \n",
       "0                      []\n",
       "1                      []\n",
       "2                      []\n",
       "3                      []\n",
       "4                      []"
      ]
     },
     "execution_count": 48,
     "metadata": {},
     "output_type": "execute_result"
    }
   ],
   "source": [
    "df_StationLines"
   ]
  },
  {
   "cell_type": "code",
   "execution_count": null,
   "metadata": {
    "id": "LJ3HPxmOUs7n",
    "outputId": "c5874a02-f117-4639-9bda-128b33218671"
   },
   "outputs": [
    {
     "data": {
      "text/plain": [
       "array([  0.,   1.,   1.,   1.,   1., 124.])"
      ]
     },
     "execution_count": 44,
     "metadata": {},
     "output_type": "execute_result"
    }
   ],
   "source": [
    "df_StationLines = pd.DataFrame(data, index=StationsNameList, columns=[\"CurrentLine\"])\n",
    "df_StationLines.index.name=\"StationNumber\"\n",
    "\n",
    "df_StationLines.iloc[1, 0]=[np.zeros([2,N+1])]+ df_StationLines.iloc[1, 0]\n",
    "df_StationLines\n",
    "person_history"
   ]
  },
  {
   "cell_type": "code",
   "execution_count": null,
   "metadata": {
    "id": "mrb8h9w_Us7n",
    "outputId": "aee6b421-448f-4239-9fe4-09957dbc6e6b"
   },
   "outputs": [
    {
     "data": {
      "text/plain": [
       "[array([[0., 0., 0., 0., 0., 0.],\n",
       "        [0., 0., 0., 0., 0., 0.]]),\n",
       " array([[0., 0., 0., 0., 0., 0.],\n",
       "        [0., 0., 0., 0., 0., 0.]])]"
      ]
     },
     "execution_count": 58,
     "metadata": {},
     "output_type": "execute_result"
    }
   ],
   "source": [
    "[np.zeros([2,N+1])]*2"
   ]
  },
  {
   "cell_type": "code",
   "execution_count": null,
   "metadata": {
    "id": "lJyQUG81Us7o",
    "outputId": "b5be9722-3362-46de-9f9d-3dc4a9286984"
   },
   "outputs": [
    {
     "data": {
      "text/html": [
       "<div>\n",
       "<style scoped>\n",
       "    .dataframe tbody tr th:only-of-type {\n",
       "        vertical-align: middle;\n",
       "    }\n",
       "\n",
       "    .dataframe tbody tr th {\n",
       "        vertical-align: top;\n",
       "    }\n",
       "\n",
       "    .dataframe thead th {\n",
       "        text-align: right;\n",
       "    }\n",
       "</style>\n",
       "<table border=\"1\" class=\"dataframe\">\n",
       "  <thead>\n",
       "    <tr style=\"text-align: right;\">\n",
       "      <th></th>\n",
       "      <th>NumberOfServers</th>\n",
       "    </tr>\n",
       "    <tr>\n",
       "      <th>StationNumber</th>\n",
       "      <th></th>\n",
       "    </tr>\n",
       "  </thead>\n",
       "  <tbody>\n",
       "    <tr>\n",
       "      <th>0</th>\n",
       "      <td>1</td>\n",
       "    </tr>\n",
       "    <tr>\n",
       "      <th>1</th>\n",
       "      <td>1</td>\n",
       "    </tr>\n",
       "    <tr>\n",
       "      <th>2</th>\n",
       "      <td>1</td>\n",
       "    </tr>\n",
       "    <tr>\n",
       "      <th>3</th>\n",
       "      <td>2</td>\n",
       "    </tr>\n",
       "    <tr>\n",
       "      <th>4</th>\n",
       "      <td>2</td>\n",
       "    </tr>\n",
       "  </tbody>\n",
       "</table>\n",
       "</div>"
      ],
      "text/plain": [
       "               NumberOfServers\n",
       "StationNumber                 \n",
       "0                            1\n",
       "1                            1\n",
       "2                            1\n",
       "3                            2\n",
       "4                            2"
      ]
     },
     "execution_count": 31,
     "metadata": {},
     "output_type": "execute_result"
    }
   ],
   "source": [
    "df_StationServers = pd.DataFrame((random_Transition_matrix(N)[0,:]*3).astype(int)+1, index=StationsNameList, columns=[\"NumberOfServers\"])\n",
    "df_StationServers.index.name=\"StationNumber\"\n",
    "df_StationServers"
   ]
  },
  {
   "cell_type": "code",
   "execution_count": null,
   "metadata": {
    "id": "6CUvrVn1Us7o",
    "outputId": "b51119fa-8b8f-44b4-dcfb-2465c173da55"
   },
   "outputs": [
    {
     "data": {
      "text/plain": [
       "[array([0., 0., 0.]), array([0., 0., 0.])]"
      ]
     },
     "execution_count": 55,
     "metadata": {},
     "output_type": "execute_result"
    }
   ],
   "source": [
    "[np.zeros([3])]*2"
   ]
  },
  {
   "cell_type": "code",
   "execution_count": null,
   "metadata": {
    "id": "YDX7OgMsUs7o",
    "outputId": "fee23a72-f997-4601-8d4f-23c2840906df"
   },
   "outputs": [
    {
     "data": {
      "text/plain": [
       "[array([0., 0., 0.]), array([0., 0., 0.])]"
      ]
     },
     "execution_count": 56,
     "metadata": {},
     "output_type": "execute_result"
    }
   ],
   "source": [
    "[np.zeros([3])]+[np.zeros([3])]"
   ]
  },
  {
   "cell_type": "code",
   "execution_count": null,
   "metadata": {
    "id": "GastvgJUUs7p",
    "outputId": "ae488678-a418-4084-ad4e-0a491b11cdf7"
   },
   "outputs": [
    {
     "data": {
      "text/plain": [
       "[[[], []]]"
      ]
     },
     "execution_count": 86,
     "metadata": {},
     "output_type": "execute_result"
    }
   ],
   "source": [
    "data =[[[],]*2]\n",
    "data"
   ]
  },
  {
   "cell_type": "code",
   "execution_count": null,
   "metadata": {
    "id": "crvif7nVUs7p",
    "outputId": "b8021035-52c6-4cb3-bf0c-de58ca60e444"
   },
   "outputs": [
    {
     "data": {
      "text/html": [
       "<div>\n",
       "<style scoped>\n",
       "    .dataframe tbody tr th:only-of-type {\n",
       "        vertical-align: middle;\n",
       "    }\n",
       "\n",
       "    .dataframe tbody tr th {\n",
       "        vertical-align: top;\n",
       "    }\n",
       "\n",
       "    .dataframe thead th {\n",
       "        text-align: right;\n",
       "    }\n",
       "</style>\n",
       "<table border=\"1\" class=\"dataframe\">\n",
       "  <thead>\n",
       "    <tr style=\"text-align: right;\">\n",
       "      <th></th>\n",
       "      <th>CurrentLine</th>\n",
       "    </tr>\n",
       "    <tr>\n",
       "      <th>StationNumber</th>\n",
       "      <th></th>\n",
       "    </tr>\n",
       "  </thead>\n",
       "  <tbody>\n",
       "    <tr>\n",
       "      <th>0</th>\n",
       "      <td>[]</td>\n",
       "    </tr>\n",
       "    <tr>\n",
       "      <th>1</th>\n",
       "      <td>[]</td>\n",
       "    </tr>\n",
       "    <tr>\n",
       "      <th>2</th>\n",
       "      <td>[]</td>\n",
       "    </tr>\n",
       "    <tr>\n",
       "      <th>3</th>\n",
       "      <td>[]</td>\n",
       "    </tr>\n",
       "    <tr>\n",
       "      <th>4</th>\n",
       "      <td>None</td>\n",
       "    </tr>\n",
       "  </tbody>\n",
       "</table>\n",
       "</div>"
      ],
      "text/plain": [
       "              CurrentLine\n",
       "StationNumber            \n",
       "0                      []\n",
       "1                      []\n",
       "2                      []\n",
       "3                      []\n",
       "4                    None"
      ]
     },
     "execution_count": 88,
     "metadata": {},
     "output_type": "execute_result"
    }
   ],
   "source": [
    "df_StationLines"
   ]
  },
  {
   "cell_type": "code",
   "execution_count": null,
   "metadata": {
    "id": "CBhcEiDrUs7p"
   },
   "outputs": [],
   "source": []
  }
 ],
 "metadata": {
  "colab": {
   "provenance": []
  },
  "kernelspec": {
   "display_name": "ORACLProject_env",
   "language": "python",
   "name": "oraclproject_env"
  },
  "language_info": {
   "codemirror_mode": {
    "name": "ipython",
    "version": 3
   },
   "file_extension": ".py",
   "mimetype": "text/x-python",
   "name": "python",
   "nbconvert_exporter": "python",
   "pygments_lexer": "ipython3",
   "version": "3.11.9"
  }
 },
 "nbformat": 4,
 "nbformat_minor": 4
}
